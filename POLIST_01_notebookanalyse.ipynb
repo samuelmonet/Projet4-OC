{
 "cells": [
  {
   "cell_type": "code",
   "execution_count": 1,
   "metadata": {},
   "outputs": [
    {
     "name": "stdout",
     "output_type": "stream",
     "text": [
      "Populating the interactive namespace from numpy and matplotlib\n"
     ]
    }
   ],
   "source": [
    "import pandas as pd\n",
    "%pylab inline"
   ]
  },
  {
   "cell_type": "code",
   "execution_count": 2,
   "metadata": {},
   "outputs": [],
   "source": [
    "customers=pd.read_csv('olist_customers_dataset.csv')\n",
    "geoloc=pd.read_csv('olist_geolocation_dataset.csv')\n",
    "items=pd.read_csv('olist_order_items_dataset.csv')\n",
    "payments=pd.read_csv('olist_order_payments_dataset.csv')\n",
    "reviews=pd.read_csv('olist_order_reviews_dataset.csv')\n",
    "orders=pd.read_csv('olist_orders_dataset.csv')\n",
    "products=pd.read_csv('olist_products_dataset.csv')\n",
    "sellers=pd.read_csv('olist_sellers_dataset.csv')\n",
    "category=pd.read_csv('product_category_name_translation.csv')\n"
   ]
  },
  {
   "cell_type": "code",
   "execution_count": null,
   "metadata": {},
   "outputs": [],
   "source": []
  },
  {
   "cell_type": "code",
   "execution_count": 155,
   "metadata": {
    "scrolled": true
   },
   "outputs": [
    {
     "data": {
      "text/html": [
       "<div>\n",
       "<style scoped>\n",
       "    .dataframe tbody tr th:only-of-type {\n",
       "        vertical-align: middle;\n",
       "    }\n",
       "\n",
       "    .dataframe tbody tr th {\n",
       "        vertical-align: top;\n",
       "    }\n",
       "\n",
       "    .dataframe thead th {\n",
       "        text-align: right;\n",
       "    }\n",
       "</style>\n",
       "<table border=\"1\" class=\"dataframe\">\n",
       "  <thead>\n",
       "    <tr style=\"text-align: right;\">\n",
       "      <th></th>\n",
       "      <th>customer_id</th>\n",
       "      <th>customer_unique_id</th>\n",
       "      <th>customer_zip_code_prefix</th>\n",
       "      <th>customer_city</th>\n",
       "      <th>customer_state</th>\n",
       "    </tr>\n",
       "  </thead>\n",
       "  <tbody>\n",
       "    <tr>\n",
       "      <th>0</th>\n",
       "      <td>06b8999e2fba1a1fbc88172c00ba8bc7</td>\n",
       "      <td>861eff4711a542e4b93843c6dd7febb0</td>\n",
       "      <td>14409</td>\n",
       "      <td>franca</td>\n",
       "      <td>SP</td>\n",
       "    </tr>\n",
       "    <tr>\n",
       "      <th>1</th>\n",
       "      <td>18955e83d337fd6b2def6b18a428ac77</td>\n",
       "      <td>290c77bc529b7ac935b93aa66c333dc3</td>\n",
       "      <td>9790</td>\n",
       "      <td>sao bernardo do campo</td>\n",
       "      <td>SP</td>\n",
       "    </tr>\n",
       "    <tr>\n",
       "      <th>2</th>\n",
       "      <td>4e7b3e00288586ebd08712fdd0374a03</td>\n",
       "      <td>060e732b5b29e8181a18229c7b0b2b5e</td>\n",
       "      <td>1151</td>\n",
       "      <td>sao paulo</td>\n",
       "      <td>SP</td>\n",
       "    </tr>\n",
       "  </tbody>\n",
       "</table>\n",
       "</div>"
      ],
      "text/plain": [
       "                        customer_id                customer_unique_id  \\\n",
       "0  06b8999e2fba1a1fbc88172c00ba8bc7  861eff4711a542e4b93843c6dd7febb0   \n",
       "1  18955e83d337fd6b2def6b18a428ac77  290c77bc529b7ac935b93aa66c333dc3   \n",
       "2  4e7b3e00288586ebd08712fdd0374a03  060e732b5b29e8181a18229c7b0b2b5e   \n",
       "\n",
       "   customer_zip_code_prefix          customer_city customer_state  \n",
       "0                     14409                 franca             SP  \n",
       "1                      9790  sao bernardo do campo             SP  \n",
       "2                      1151              sao paulo             SP  "
      ]
     },
     "execution_count": 155,
     "metadata": {},
     "output_type": "execute_result"
    }
   ],
   "source": [
    "customers.head(3)"
   ]
  },
  {
   "cell_type": "code",
   "execution_count": 4,
   "metadata": {},
   "outputs": [
    {
     "name": "stdout",
     "output_type": "stream",
     "text": [
      "96096 2997\n"
     ]
    }
   ],
   "source": [
    "print(len(customers.customer_unique_id.unique()),len(customers[customers.duplicated(subset='customer_unique_id')].customer_unique_id.unique()))"
   ]
  },
  {
   "cell_type": "code",
   "execution_count": 5,
   "metadata": {},
   "outputs": [
    {
     "data": {
      "text/plain": [
       "customer_id                 0\n",
       "customer_unique_id          0\n",
       "customer_zip_code_prefix    0\n",
       "customer_city               0\n",
       "customer_state              0\n",
       "dtype: int64"
      ]
     },
     "execution_count": 5,
     "metadata": {},
     "output_type": "execute_result"
    }
   ],
   "source": [
    "customers.isnull().sum()"
   ]
  },
  {
   "cell_type": "code",
   "execution_count": 6,
   "metadata": {},
   "outputs": [],
   "source": [
    "#On a donc 96096 clients différents parmi lesquels 2997 ont effectués plusieurs achats\n",
    "#visualisons la distribution des clients par villes et par état\n",
    "#Pour cela on crée un dataframe avec en index l'id unique des customers\n",
    "data=customers.groupby('customer_unique_id').agg(number_of_orders=pd.NamedAgg(column='customer_id',aggfunc='count'),\\\n",
    "                                                city=pd.NamedAgg(column='customer_city',aggfunc='first'),\\\n",
    "                                                state=pd.NamedAgg(column='customer_state',aggfunc='first'),\\\n",
    "                                                zip_code=pd.NamedAgg(column='customer_zip_code_prefix',aggfunc='first'))"
   ]
  },
  {
   "cell_type": "code",
   "execution_count": 7,
   "metadata": {},
   "outputs": [
    {
     "data": {
      "text/html": [
       "<div>\n",
       "<style scoped>\n",
       "    .dataframe tbody tr th:only-of-type {\n",
       "        vertical-align: middle;\n",
       "    }\n",
       "\n",
       "    .dataframe tbody tr th {\n",
       "        vertical-align: top;\n",
       "    }\n",
       "\n",
       "    .dataframe thead th {\n",
       "        text-align: right;\n",
       "    }\n",
       "</style>\n",
       "<table border=\"1\" class=\"dataframe\">\n",
       "  <thead>\n",
       "    <tr style=\"text-align: right;\">\n",
       "      <th></th>\n",
       "      <th>number_of_orders</th>\n",
       "      <th>city</th>\n",
       "      <th>state</th>\n",
       "      <th>zip_code</th>\n",
       "    </tr>\n",
       "    <tr>\n",
       "      <th>customer_unique_id</th>\n",
       "      <th></th>\n",
       "      <th></th>\n",
       "      <th></th>\n",
       "      <th></th>\n",
       "    </tr>\n",
       "  </thead>\n",
       "  <tbody>\n",
       "    <tr>\n",
       "      <th>0000366f3b9a7992bf8c76cfdf3221e2</th>\n",
       "      <td>1</td>\n",
       "      <td>cajamar</td>\n",
       "      <td>SP</td>\n",
       "      <td>7787</td>\n",
       "    </tr>\n",
       "    <tr>\n",
       "      <th>0000b849f77a49e4a4ce2b2a4ca5be3f</th>\n",
       "      <td>1</td>\n",
       "      <td>osasco</td>\n",
       "      <td>SP</td>\n",
       "      <td>6053</td>\n",
       "    </tr>\n",
       "    <tr>\n",
       "      <th>0000f46a3911fa3c0805444483337064</th>\n",
       "      <td>1</td>\n",
       "      <td>sao jose</td>\n",
       "      <td>SC</td>\n",
       "      <td>88115</td>\n",
       "    </tr>\n",
       "    <tr>\n",
       "      <th>0000f6ccb0745a6a4b88665a16c9f078</th>\n",
       "      <td>1</td>\n",
       "      <td>belem</td>\n",
       "      <td>PA</td>\n",
       "      <td>66812</td>\n",
       "    </tr>\n",
       "    <tr>\n",
       "      <th>0004aac84e0df4da2b147fca70cf8255</th>\n",
       "      <td>1</td>\n",
       "      <td>sorocaba</td>\n",
       "      <td>SP</td>\n",
       "      <td>18040</td>\n",
       "    </tr>\n",
       "  </tbody>\n",
       "</table>\n",
       "</div>"
      ],
      "text/plain": [
       "                                  number_of_orders      city state  zip_code\n",
       "customer_unique_id                                                          \n",
       "0000366f3b9a7992bf8c76cfdf3221e2                 1   cajamar    SP      7787\n",
       "0000b849f77a49e4a4ce2b2a4ca5be3f                 1    osasco    SP      6053\n",
       "0000f46a3911fa3c0805444483337064                 1  sao jose    SC     88115\n",
       "0000f6ccb0745a6a4b88665a16c9f078                 1     belem    PA     66812\n",
       "0004aac84e0df4da2b147fca70cf8255                 1  sorocaba    SP     18040"
      ]
     },
     "execution_count": 7,
     "metadata": {},
     "output_type": "execute_result"
    }
   ],
   "source": [
    "data.head()"
   ]
  },
  {
   "cell_type": "code",
   "execution_count": 8,
   "metadata": {},
   "outputs": [
    {
     "data": {
      "text/plain": [
       "<matplotlib.axes._subplots.AxesSubplot at 0x7f338485c730>"
      ]
     },
     "execution_count": 8,
     "metadata": {},
     "output_type": "execute_result"
    },
    {
     "data": {
      "image/png": "[encoded data removed]",
      "text/plain": [
       "<Figure size 432x288 with 1 Axes>"
      ]
     },
     "metadata": {
      "needs_background": "light"
     },
     "output_type": "display_data"
    }
   ],
   "source": [
    "data.state.value_counts().plot(kind='bar', title=\"State distribution\",rot=0)"
   ]
  },
  {
   "cell_type": "code",
   "execution_count": 9,
   "metadata": {},
   "outputs": [
    {
     "data": {
      "text/plain": [
       "sao paulo         14971\n",
       "rio de janeiro     6611\n",
       "belo horizonte     2671\n",
       "brasilia           2066\n",
       "curitiba           1462\n",
       "                  ...  \n",
       "isaias coelho         1\n",
       "mira estrela          1\n",
       "santo expedito        1\n",
       "pio ix                1\n",
       "novo lino             1\n",
       "Name: city, Length: 4118, dtype: int64"
      ]
     },
     "execution_count": 9,
     "metadata": {},
     "output_type": "execute_result"
    }
   ],
   "source": [
    "data.city.value_counts()"
   ]
  },
  {
   "cell_type": "code",
   "execution_count": 10,
   "metadata": {},
   "outputs": [],
   "source": [
    "#Au final la répartition par état est très inégales, on va surement garder cet aspect et la privilégier sur la ville"
   ]
  },
  {
   "cell_type": "code",
   "execution_count": 11,
   "metadata": {},
   "outputs": [],
   "source": [
    "#On va donc rajouter la position gps approximative du client:\n"
   ]
  },
  {
   "cell_type": "code",
   "execution_count": 12,
   "metadata": {},
   "outputs": [
    {
     "data": {
      "text/html": [
       "<div>\n",
       "<style scoped>\n",
       "    .dataframe tbody tr th:only-of-type {\n",
       "        vertical-align: middle;\n",
       "    }\n",
       "\n",
       "    .dataframe tbody tr th {\n",
       "        vertical-align: top;\n",
       "    }\n",
       "\n",
       "    .dataframe thead th {\n",
       "        text-align: right;\n",
       "    }\n",
       "</style>\n",
       "<table border=\"1\" class=\"dataframe\">\n",
       "  <thead>\n",
       "    <tr style=\"text-align: right;\">\n",
       "      <th></th>\n",
       "      <th>geolocation_zip_code_prefix</th>\n",
       "      <th>geolocation_lat</th>\n",
       "      <th>geolocation_lng</th>\n",
       "      <th>geolocation_city</th>\n",
       "      <th>geolocation_state</th>\n",
       "    </tr>\n",
       "  </thead>\n",
       "  <tbody>\n",
       "    <tr>\n",
       "      <th>0</th>\n",
       "      <td>1037</td>\n",
       "      <td>-23.545621</td>\n",
       "      <td>-46.639292</td>\n",
       "      <td>sao paulo</td>\n",
       "      <td>SP</td>\n",
       "    </tr>\n",
       "    <tr>\n",
       "      <th>1</th>\n",
       "      <td>1046</td>\n",
       "      <td>-23.546081</td>\n",
       "      <td>-46.644820</td>\n",
       "      <td>sao paulo</td>\n",
       "      <td>SP</td>\n",
       "    </tr>\n",
       "    <tr>\n",
       "      <th>2</th>\n",
       "      <td>1046</td>\n",
       "      <td>-23.546129</td>\n",
       "      <td>-46.642951</td>\n",
       "      <td>sao paulo</td>\n",
       "      <td>SP</td>\n",
       "    </tr>\n",
       "    <tr>\n",
       "      <th>3</th>\n",
       "      <td>1041</td>\n",
       "      <td>-23.544392</td>\n",
       "      <td>-46.639499</td>\n",
       "      <td>sao paulo</td>\n",
       "      <td>SP</td>\n",
       "    </tr>\n",
       "    <tr>\n",
       "      <th>4</th>\n",
       "      <td>1035</td>\n",
       "      <td>-23.541578</td>\n",
       "      <td>-46.641607</td>\n",
       "      <td>sao paulo</td>\n",
       "      <td>SP</td>\n",
       "    </tr>\n",
       "  </tbody>\n",
       "</table>\n",
       "</div>"
      ],
      "text/plain": [
       "   geolocation_zip_code_prefix  geolocation_lat  geolocation_lng  \\\n",
       "0                         1037       -23.545621       -46.639292   \n",
       "1                         1046       -23.546081       -46.644820   \n",
       "2                         1046       -23.546129       -46.642951   \n",
       "3                         1041       -23.544392       -46.639499   \n",
       "4                         1035       -23.541578       -46.641607   \n",
       "\n",
       "  geolocation_city geolocation_state  \n",
       "0        sao paulo                SP  \n",
       "1        sao paulo                SP  \n",
       "2        sao paulo                SP  \n",
       "3        sao paulo                SP  \n",
       "4        sao paulo                SP  "
      ]
     },
     "execution_count": 12,
     "metadata": {},
     "output_type": "execute_result"
    }
   ],
   "source": [
    "geoloc.head()"
   ]
  },
  {
   "cell_type": "code",
   "execution_count": 13,
   "metadata": {},
   "outputs": [],
   "source": [
    "#Dans la mesure où les orthographes des villes changent parfois,\n",
    "#On va prendre les doublons, zip codes et états car certains zipcodes sont sur plusieurs états\n",
    "\n",
    "gps=geoloc.groupby(['geolocation_zip_code_prefix','geolocation_state'])\\\n",
    ".agg(Latitude=pd.NamedAgg(column='geolocation_lat', aggfunc='mean'),\\\n",
    "     Longitude=pd.NamedAgg(column='geolocation_lng', aggfunc='mean'))"
   ]
  },
  {
   "cell_type": "code",
   "execution_count": 14,
   "metadata": {},
   "outputs": [
    {
     "data": {
      "text/html": [
       "<div>\n",
       "<style scoped>\n",
       "    .dataframe tbody tr th:only-of-type {\n",
       "        vertical-align: middle;\n",
       "    }\n",
       "\n",
       "    .dataframe tbody tr th {\n",
       "        vertical-align: top;\n",
       "    }\n",
       "\n",
       "    .dataframe thead th {\n",
       "        text-align: right;\n",
       "    }\n",
       "</style>\n",
       "<table border=\"1\" class=\"dataframe\">\n",
       "  <thead>\n",
       "    <tr style=\"text-align: right;\">\n",
       "      <th></th>\n",
       "      <th>seller_id</th>\n",
       "      <th>seller_zip_code_prefix</th>\n",
       "      <th>seller_city</th>\n",
       "      <th>seller_state</th>\n",
       "    </tr>\n",
       "  </thead>\n",
       "  <tbody>\n",
       "    <tr>\n",
       "      <th>0</th>\n",
       "      <td>3442f8959a84dea7ee197c632cb2df15</td>\n",
       "      <td>13023</td>\n",
       "      <td>campinas</td>\n",
       "      <td>SP</td>\n",
       "    </tr>\n",
       "    <tr>\n",
       "      <th>1</th>\n",
       "      <td>d1b65fc7debc3361ea86b5f14c68d2e2</td>\n",
       "      <td>13844</td>\n",
       "      <td>mogi guacu</td>\n",
       "      <td>SP</td>\n",
       "    </tr>\n",
       "    <tr>\n",
       "      <th>2</th>\n",
       "      <td>ce3ad9de960102d0677a81f5d0bb7b2d</td>\n",
       "      <td>20031</td>\n",
       "      <td>rio de janeiro</td>\n",
       "      <td>RJ</td>\n",
       "    </tr>\n",
       "    <tr>\n",
       "      <th>3</th>\n",
       "      <td>c0f3eea2e14555b6faeea3dd58c1b1c3</td>\n",
       "      <td>4195</td>\n",
       "      <td>sao paulo</td>\n",
       "      <td>SP</td>\n",
       "    </tr>\n",
       "    <tr>\n",
       "      <th>4</th>\n",
       "      <td>51a04a8a6bdcb23deccc82b0b80742cf</td>\n",
       "      <td>12914</td>\n",
       "      <td>braganca paulista</td>\n",
       "      <td>SP</td>\n",
       "    </tr>\n",
       "  </tbody>\n",
       "</table>\n",
       "</div>"
      ],
      "text/plain": [
       "                          seller_id  seller_zip_code_prefix  \\\n",
       "0  3442f8959a84dea7ee197c632cb2df15                   13023   \n",
       "1  d1b65fc7debc3361ea86b5f14c68d2e2                   13844   \n",
       "2  ce3ad9de960102d0677a81f5d0bb7b2d                   20031   \n",
       "3  c0f3eea2e14555b6faeea3dd58c1b1c3                    4195   \n",
       "4  51a04a8a6bdcb23deccc82b0b80742cf                   12914   \n",
       "\n",
       "         seller_city seller_state  \n",
       "0           campinas           SP  \n",
       "1         mogi guacu           SP  \n",
       "2     rio de janeiro           RJ  \n",
       "3          sao paulo           SP  \n",
       "4  braganca paulista           SP  "
      ]
     },
     "execution_count": 14,
     "metadata": {},
     "output_type": "execute_result"
    }
   ],
   "source": [
    "sellers.head()"
   ]
  },
  {
   "cell_type": "code",
   "execution_count": 15,
   "metadata": {},
   "outputs": [],
   "source": [
    "#On indique la position GPS des customer et des vendeurs\n",
    "data=pd.merge(data,gps,left_on=['zip_code','state'],right_index=True,how='left')\n",
    "sellers=pd.merge(sellers,gps,left_on=['seller_zip_code_prefix','seller_state'],right_index=True,how='left')"
   ]
  },
  {
   "cell_type": "code",
   "execution_count": 16,
   "metadata": {},
   "outputs": [
    {
     "data": {
      "text/plain": [
       "seller_id                  0\n",
       "seller_zip_code_prefix     0\n",
       "seller_city                0\n",
       "seller_state               0\n",
       "Latitude                  42\n",
       "Longitude                 42\n",
       "dtype: int64"
      ]
     },
     "execution_count": 16,
     "metadata": {},
     "output_type": "execute_result"
    }
   ],
   "source": [
    "sellers.isnull().sum()"
   ]
  },
  {
   "cell_type": "code",
   "execution_count": 17,
   "metadata": {},
   "outputs": [
    {
     "data": {
      "text/plain": [
       "number_of_orders      0\n",
       "city                  0\n",
       "state                 0\n",
       "zip_code              0\n",
       "Latitude            268\n",
       "Longitude           268\n",
       "dtype: int64"
      ]
     },
     "execution_count": 17,
     "metadata": {},
     "output_type": "execute_result"
    }
   ],
   "source": [
    "data.isnull().sum()"
   ]
  },
  {
   "cell_type": "code",
   "execution_count": 18,
   "metadata": {},
   "outputs": [],
   "source": [
    "#pour les 268 et 42 restants on va faire un knn imputer à partir des 3 plus proches sur le zip code\n",
    "from sklearn.impute import KNNImputer\n",
    "knn=KNNImputer(n_neighbors=3)\n",
    "X=knn.fit_transform(data[data.columns.tolist()[3:]])\n",
    "Y=knn.fit_transform(sellers[['seller_zip_code_prefix']+sellers.columns.tolist()[4:]])"
   ]
  },
  {
   "cell_type": "code",
   "execution_count": 19,
   "metadata": {},
   "outputs": [
    {
     "data": {
      "text/plain": [
       "seller_id                 0\n",
       "seller_zip_code_prefix    0\n",
       "seller_city               0\n",
       "seller_state              0\n",
       "Latitude                  0\n",
       "Longitude                 0\n",
       "dtype: int64"
      ]
     },
     "execution_count": 19,
     "metadata": {},
     "output_type": "execute_result"
    }
   ],
   "source": [
    "sellers['Latitude']=Y[:,1]\n",
    "sellers['Longitude']=Y[:,2]\n",
    "sellers.isnull().sum()"
   ]
  },
  {
   "cell_type": "code",
   "execution_count": 20,
   "metadata": {},
   "outputs": [
    {
     "data": {
      "text/plain": [
       "number_of_orders    0\n",
       "city                0\n",
       "state               0\n",
       "zip_code            0\n",
       "Latitude            0\n",
       "Longitude           0\n",
       "dtype: int64"
      ]
     },
     "execution_count": 20,
     "metadata": {},
     "output_type": "execute_result"
    }
   ],
   "source": [
    "data['Latitude']=X[:,1]\n",
    "data['Longitude']=X[:,2]\n",
    "data.isnull().sum()"
   ]
  },
  {
   "cell_type": "code",
   "execution_count": 21,
   "metadata": {},
   "outputs": [],
   "source": [
    "data.drop(['city','zip_code'],axis=1,inplace=True)"
   ]
  },
  {
   "cell_type": "code",
   "execution_count": 22,
   "metadata": {},
   "outputs": [
    {
     "data": {
      "text/plain": [
       "(96096, 4)"
      ]
     },
     "execution_count": 22,
     "metadata": {},
     "output_type": "execute_result"
    }
   ],
   "source": [
    "data.shape"
   ]
  },
  {
   "cell_type": "code",
   "execution_count": 23,
   "metadata": {},
   "outputs": [
    {
     "data": {
      "text/plain": [
       "number_of_orders    0\n",
       "state               0\n",
       "Latitude            0\n",
       "Longitude           0\n",
       "dtype: int64"
      ]
     },
     "execution_count": 23,
     "metadata": {},
     "output_type": "execute_result"
    }
   ],
   "source": [
    "data.isnull().sum()"
   ]
  },
  {
   "cell_type": "code",
   "execution_count": 24,
   "metadata": {},
   "outputs": [
    {
     "data": {
      "text/html": [
       "<div>\n",
       "<style scoped>\n",
       "    .dataframe tbody tr th:only-of-type {\n",
       "        vertical-align: middle;\n",
       "    }\n",
       "\n",
       "    .dataframe tbody tr th {\n",
       "        vertical-align: top;\n",
       "    }\n",
       "\n",
       "    .dataframe thead th {\n",
       "        text-align: right;\n",
       "    }\n",
       "</style>\n",
       "<table border=\"1\" class=\"dataframe\">\n",
       "  <thead>\n",
       "    <tr style=\"text-align: right;\">\n",
       "      <th></th>\n",
       "      <th>number_of_orders</th>\n",
       "      <th>state</th>\n",
       "      <th>Latitude</th>\n",
       "      <th>Longitude</th>\n",
       "    </tr>\n",
       "    <tr>\n",
       "      <th>customer_unique_id</th>\n",
       "      <th></th>\n",
       "      <th></th>\n",
       "      <th></th>\n",
       "      <th></th>\n",
       "    </tr>\n",
       "  </thead>\n",
       "  <tbody>\n",
       "    <tr>\n",
       "      <th>0000366f3b9a7992bf8c76cfdf3221e2</th>\n",
       "      <td>1</td>\n",
       "      <td>SP</td>\n",
       "      <td>-23.340235</td>\n",
       "      <td>-46.830140</td>\n",
       "    </tr>\n",
       "    <tr>\n",
       "      <th>0000b849f77a49e4a4ce2b2a4ca5be3f</th>\n",
       "      <td>1</td>\n",
       "      <td>SP</td>\n",
       "      <td>-23.559115</td>\n",
       "      <td>-46.787626</td>\n",
       "    </tr>\n",
       "    <tr>\n",
       "      <th>0000f46a3911fa3c0805444483337064</th>\n",
       "      <td>1</td>\n",
       "      <td>SC</td>\n",
       "      <td>-27.542880</td>\n",
       "      <td>-48.633426</td>\n",
       "    </tr>\n",
       "    <tr>\n",
       "      <th>0000f6ccb0745a6a4b88665a16c9f078</th>\n",
       "      <td>1</td>\n",
       "      <td>PA</td>\n",
       "      <td>-1.312214</td>\n",
       "      <td>-48.483159</td>\n",
       "    </tr>\n",
       "    <tr>\n",
       "      <th>0004aac84e0df4da2b147fca70cf8255</th>\n",
       "      <td>1</td>\n",
       "      <td>SP</td>\n",
       "      <td>-23.505548</td>\n",
       "      <td>-47.469705</td>\n",
       "    </tr>\n",
       "  </tbody>\n",
       "</table>\n",
       "</div>"
      ],
      "text/plain": [
       "                                  number_of_orders state   Latitude  Longitude\n",
       "customer_unique_id                                                            \n",
       "0000366f3b9a7992bf8c76cfdf3221e2                 1    SP -23.340235 -46.830140\n",
       "0000b849f77a49e4a4ce2b2a4ca5be3f                 1    SP -23.559115 -46.787626\n",
       "0000f46a3911fa3c0805444483337064                 1    SC -27.542880 -48.633426\n",
       "0000f6ccb0745a6a4b88665a16c9f078                 1    PA  -1.312214 -48.483159\n",
       "0004aac84e0df4da2b147fca70cf8255                 1    SP -23.505548 -47.469705"
      ]
     },
     "execution_count": 24,
     "metadata": {},
     "output_type": "execute_result"
    }
   ],
   "source": [
    "data.head()"
   ]
  },
  {
   "cell_type": "code",
   "execution_count": 157,
   "metadata": {},
   "outputs": [
    {
     "data": {
      "text/html": [
       "<div>\n",
       "<style scoped>\n",
       "    .dataframe tbody tr th:only-of-type {\n",
       "        vertical-align: middle;\n",
       "    }\n",
       "\n",
       "    .dataframe tbody tr th {\n",
       "        vertical-align: top;\n",
       "    }\n",
       "\n",
       "    .dataframe thead th {\n",
       "        text-align: right;\n",
       "    }\n",
       "</style>\n",
       "<table border=\"1\" class=\"dataframe\">\n",
       "  <thead>\n",
       "    <tr style=\"text-align: right;\">\n",
       "      <th></th>\n",
       "      <th>order_id</th>\n",
       "      <th>customer_id</th>\n",
       "      <th>order_status</th>\n",
       "      <th>order_purchase_timestamp</th>\n",
       "      <th>order_approved_at</th>\n",
       "      <th>order_delivered_carrier_date</th>\n",
       "      <th>order_delivered_customer_date</th>\n",
       "      <th>order_estimated_delivery_date</th>\n",
       "      <th>time</th>\n",
       "      <th>période_achat</th>\n",
       "    </tr>\n",
       "  </thead>\n",
       "  <tbody>\n",
       "    <tr>\n",
       "      <th>0</th>\n",
       "      <td>e481f51cbdc54678b7cc49136f2d6af7</td>\n",
       "      <td>9ef432eb6251297304e76186b10a928d</td>\n",
       "      <td>delivered</td>\n",
       "      <td>2017-10-02 10:56:33</td>\n",
       "      <td>2017-10-02 11:07:15</td>\n",
       "      <td>2017-10-04 19:55:00</td>\n",
       "      <td>2017-10-10 21:25:13</td>\n",
       "      <td>2017-10-18 00:00:00</td>\n",
       "      <td>10</td>\n",
       "      <td>morning</td>\n",
       "    </tr>\n",
       "    <tr>\n",
       "      <th>1</th>\n",
       "      <td>53cdb2fc8bc7dce0b6741e2150273451</td>\n",
       "      <td>b0830fb4747a6c6d20dea0b8c802d7ef</td>\n",
       "      <td>delivered</td>\n",
       "      <td>2018-07-24 20:41:37</td>\n",
       "      <td>2018-07-26 03:24:27</td>\n",
       "      <td>2018-07-26 14:31:00</td>\n",
       "      <td>2018-08-07 15:27:45</td>\n",
       "      <td>2018-08-13 00:00:00</td>\n",
       "      <td>20</td>\n",
       "      <td>evening</td>\n",
       "    </tr>\n",
       "  </tbody>\n",
       "</table>\n",
       "</div>"
      ],
      "text/plain": [
       "                           order_id                       customer_id  \\\n",
       "0  e481f51cbdc54678b7cc49136f2d6af7  9ef432eb6251297304e76186b10a928d   \n",
       "1  53cdb2fc8bc7dce0b6741e2150273451  b0830fb4747a6c6d20dea0b8c802d7ef   \n",
       "\n",
       "  order_status order_purchase_timestamp    order_approved_at  \\\n",
       "0    delivered      2017-10-02 10:56:33  2017-10-02 11:07:15   \n",
       "1    delivered      2018-07-24 20:41:37  2018-07-26 03:24:27   \n",
       "\n",
       "  order_delivered_carrier_date order_delivered_customer_date  \\\n",
       "0          2017-10-04 19:55:00           2017-10-10 21:25:13   \n",
       "1          2018-07-26 14:31:00           2018-08-07 15:27:45   \n",
       "\n",
       "  order_estimated_delivery_date  time période_achat  \n",
       "0           2017-10-18 00:00:00    10       morning  \n",
       "1           2018-08-13 00:00:00    20       evening  "
      ]
     },
     "execution_count": 157,
     "metadata": {},
     "output_type": "execute_result"
    }
   ],
   "source": [
    "orders.head(2)"
   ]
  },
  {
   "cell_type": "code",
   "execution_count": 26,
   "metadata": {},
   "outputs": [
    {
     "data": {
      "text/plain": [
       "(99441, 8)"
      ]
     },
     "execution_count": 26,
     "metadata": {},
     "output_type": "execute_result"
    }
   ],
   "source": [
    "orders.shape"
   ]
  },
  {
   "cell_type": "code",
   "execution_count": 27,
   "metadata": {},
   "outputs": [
    {
     "data": {
      "text/plain": [
       "Index(['customer_id', 'customer_unique_id', 'customer_zip_code_prefix',\n",
       "       'customer_city', 'customer_state'],\n",
       "      dtype='object')"
      ]
     },
     "execution_count": 27,
     "metadata": {},
     "output_type": "execute_result"
    }
   ],
   "source": [
    "customers.columns"
   ]
  },
  {
   "cell_type": "code",
   "execution_count": 28,
   "metadata": {},
   "outputs": [],
   "source": [
    "#A partir de là on va déduire la durée depuis le dernier achat et le temps moyen entre 2 achats pour les clients\n",
    "#de multiple:\n",
    "orders['order_purchase_timestamp']=pd.to_datetime(orders['order_purchase_timestamp'])\n",
    "cust_orders=pd.merge(customers[['customer_id', 'customer_unique_id']],orders[['order_id','customer_id','order_purchase_timestamp']],on='customer_id')"
   ]
  },
  {
   "cell_type": "code",
   "execution_count": 29,
   "metadata": {},
   "outputs": [
    {
     "data": {
      "text/plain": [
       "(99441, 4)"
      ]
     },
     "execution_count": 29,
     "metadata": {},
     "output_type": "execute_result"
    }
   ],
   "source": [
    "cust_orders.shape"
   ]
  },
  {
   "cell_type": "code",
   "execution_count": 30,
   "metadata": {},
   "outputs": [
    {
     "data": {
      "text/html": [
       "<div>\n",
       "<style scoped>\n",
       "    .dataframe tbody tr th:only-of-type {\n",
       "        vertical-align: middle;\n",
       "    }\n",
       "\n",
       "    .dataframe tbody tr th {\n",
       "        vertical-align: top;\n",
       "    }\n",
       "\n",
       "    .dataframe thead th {\n",
       "        text-align: right;\n",
       "    }\n",
       "</style>\n",
       "<table border=\"1\" class=\"dataframe\">\n",
       "  <thead>\n",
       "    <tr style=\"text-align: right;\">\n",
       "      <th></th>\n",
       "      <th>customer_id</th>\n",
       "      <th>customer_unique_id</th>\n",
       "      <th>order_id</th>\n",
       "      <th>order_purchase_timestamp</th>\n",
       "    </tr>\n",
       "  </thead>\n",
       "  <tbody>\n",
       "    <tr>\n",
       "      <th>0</th>\n",
       "      <td>06b8999e2fba1a1fbc88172c00ba8bc7</td>\n",
       "      <td>861eff4711a542e4b93843c6dd7febb0</td>\n",
       "      <td>00e7ee1b050b8499577073aeb2a297a1</td>\n",
       "      <td>2017-05-16 15:05:35</td>\n",
       "    </tr>\n",
       "    <tr>\n",
       "      <th>1</th>\n",
       "      <td>18955e83d337fd6b2def6b18a428ac77</td>\n",
       "      <td>290c77bc529b7ac935b93aa66c333dc3</td>\n",
       "      <td>29150127e6685892b6eab3eec79f59c7</td>\n",
       "      <td>2018-01-12 20:48:24</td>\n",
       "    </tr>\n",
       "    <tr>\n",
       "      <th>2</th>\n",
       "      <td>4e7b3e00288586ebd08712fdd0374a03</td>\n",
       "      <td>060e732b5b29e8181a18229c7b0b2b5e</td>\n",
       "      <td>b2059ed67ce144a36e2aa97d2c9e9ad2</td>\n",
       "      <td>2018-05-19 16:07:45</td>\n",
       "    </tr>\n",
       "    <tr>\n",
       "      <th>3</th>\n",
       "      <td>b2b6027bc5c5109e529d4dc6358b12c3</td>\n",
       "      <td>259dac757896d24d7702b9acbbff3f3c</td>\n",
       "      <td>951670f92359f4fe4a63112aa7306eba</td>\n",
       "      <td>2018-03-13 16:06:38</td>\n",
       "    </tr>\n",
       "    <tr>\n",
       "      <th>4</th>\n",
       "      <td>4f2d8ab171c80ec8364f7c12e35b23ad</td>\n",
       "      <td>345ecd01c38d18a9036ed96c73b8d066</td>\n",
       "      <td>6b7d50bd145f6fc7f33cebabd7e49d0f</td>\n",
       "      <td>2018-07-29 09:51:30</td>\n",
       "    </tr>\n",
       "  </tbody>\n",
       "</table>\n",
       "</div>"
      ],
      "text/plain": [
       "                        customer_id                customer_unique_id  \\\n",
       "0  06b8999e2fba1a1fbc88172c00ba8bc7  861eff4711a542e4b93843c6dd7febb0   \n",
       "1  18955e83d337fd6b2def6b18a428ac77  290c77bc529b7ac935b93aa66c333dc3   \n",
       "2  4e7b3e00288586ebd08712fdd0374a03  060e732b5b29e8181a18229c7b0b2b5e   \n",
       "3  b2b6027bc5c5109e529d4dc6358b12c3  259dac757896d24d7702b9acbbff3f3c   \n",
       "4  4f2d8ab171c80ec8364f7c12e35b23ad  345ecd01c38d18a9036ed96c73b8d066   \n",
       "\n",
       "                           order_id order_purchase_timestamp  \n",
       "0  00e7ee1b050b8499577073aeb2a297a1      2017-05-16 15:05:35  \n",
       "1  29150127e6685892b6eab3eec79f59c7      2018-01-12 20:48:24  \n",
       "2  b2059ed67ce144a36e2aa97d2c9e9ad2      2018-05-19 16:07:45  \n",
       "3  951670f92359f4fe4a63112aa7306eba      2018-03-13 16:06:38  \n",
       "4  6b7d50bd145f6fc7f33cebabd7e49d0f      2018-07-29 09:51:30  "
      ]
     },
     "execution_count": 30,
     "metadata": {},
     "output_type": "execute_result"
    }
   ],
   "source": [
    "cust_orders.head()"
   ]
  },
  {
   "cell_type": "code",
   "execution_count": 31,
   "metadata": {},
   "outputs": [],
   "source": [
    "time=cust_orders.groupby('customer_unique_id').agg(first_order=pd.NamedAgg(column='order_purchase_timestamp',aggfunc='min'),\n",
    "                                                  last_order=pd.NamedAgg(column='order_purchase_timestamp',aggfunc='max'))"
   ]
  },
  {
   "cell_type": "code",
   "execution_count": 32,
   "metadata": {},
   "outputs": [
    {
     "name": "stdout",
     "output_type": "stream",
     "text": [
      "(96096, 2) (96096, 4)\n"
     ]
    }
   ],
   "source": [
    "print(time.shape,data.shape)"
   ]
  },
  {
   "cell_type": "code",
   "execution_count": 33,
   "metadata": {},
   "outputs": [],
   "source": [
    "data=pd.concat([time,data],axis=1)"
   ]
  },
  {
   "cell_type": "code",
   "execution_count": 34,
   "metadata": {},
   "outputs": [
    {
     "data": {
      "text/html": [
       "<div>\n",
       "<style scoped>\n",
       "    .dataframe tbody tr th:only-of-type {\n",
       "        vertical-align: middle;\n",
       "    }\n",
       "\n",
       "    .dataframe tbody tr th {\n",
       "        vertical-align: top;\n",
       "    }\n",
       "\n",
       "    .dataframe thead th {\n",
       "        text-align: right;\n",
       "    }\n",
       "</style>\n",
       "<table border=\"1\" class=\"dataframe\">\n",
       "  <thead>\n",
       "    <tr style=\"text-align: right;\">\n",
       "      <th></th>\n",
       "      <th>first_order</th>\n",
       "      <th>last_order</th>\n",
       "      <th>number_of_orders</th>\n",
       "      <th>state</th>\n",
       "      <th>Latitude</th>\n",
       "      <th>Longitude</th>\n",
       "    </tr>\n",
       "    <tr>\n",
       "      <th>customer_unique_id</th>\n",
       "      <th></th>\n",
       "      <th></th>\n",
       "      <th></th>\n",
       "      <th></th>\n",
       "      <th></th>\n",
       "      <th></th>\n",
       "    </tr>\n",
       "  </thead>\n",
       "  <tbody>\n",
       "    <tr>\n",
       "      <th>0000366f3b9a7992bf8c76cfdf3221e2</th>\n",
       "      <td>2018-05-10 10:56:27</td>\n",
       "      <td>2018-05-10 10:56:27</td>\n",
       "      <td>1</td>\n",
       "      <td>SP</td>\n",
       "      <td>-23.340235</td>\n",
       "      <td>-46.830140</td>\n",
       "    </tr>\n",
       "    <tr>\n",
       "      <th>0000b849f77a49e4a4ce2b2a4ca5be3f</th>\n",
       "      <td>2018-05-07 11:11:27</td>\n",
       "      <td>2018-05-07 11:11:27</td>\n",
       "      <td>1</td>\n",
       "      <td>SP</td>\n",
       "      <td>-23.559115</td>\n",
       "      <td>-46.787626</td>\n",
       "    </tr>\n",
       "    <tr>\n",
       "      <th>0000f46a3911fa3c0805444483337064</th>\n",
       "      <td>2017-03-10 21:05:03</td>\n",
       "      <td>2017-03-10 21:05:03</td>\n",
       "      <td>1</td>\n",
       "      <td>SC</td>\n",
       "      <td>-27.542880</td>\n",
       "      <td>-48.633426</td>\n",
       "    </tr>\n",
       "    <tr>\n",
       "      <th>0000f6ccb0745a6a4b88665a16c9f078</th>\n",
       "      <td>2017-10-12 20:29:41</td>\n",
       "      <td>2017-10-12 20:29:41</td>\n",
       "      <td>1</td>\n",
       "      <td>PA</td>\n",
       "      <td>-1.312214</td>\n",
       "      <td>-48.483159</td>\n",
       "    </tr>\n",
       "    <tr>\n",
       "      <th>0004aac84e0df4da2b147fca70cf8255</th>\n",
       "      <td>2017-11-14 19:45:42</td>\n",
       "      <td>2017-11-14 19:45:42</td>\n",
       "      <td>1</td>\n",
       "      <td>SP</td>\n",
       "      <td>-23.505548</td>\n",
       "      <td>-47.469705</td>\n",
       "    </tr>\n",
       "  </tbody>\n",
       "</table>\n",
       "</div>"
      ],
      "text/plain": [
       "                                         first_order          last_order  \\\n",
       "customer_unique_id                                                         \n",
       "0000366f3b9a7992bf8c76cfdf3221e2 2018-05-10 10:56:27 2018-05-10 10:56:27   \n",
       "0000b849f77a49e4a4ce2b2a4ca5be3f 2018-05-07 11:11:27 2018-05-07 11:11:27   \n",
       "0000f46a3911fa3c0805444483337064 2017-03-10 21:05:03 2017-03-10 21:05:03   \n",
       "0000f6ccb0745a6a4b88665a16c9f078 2017-10-12 20:29:41 2017-10-12 20:29:41   \n",
       "0004aac84e0df4da2b147fca70cf8255 2017-11-14 19:45:42 2017-11-14 19:45:42   \n",
       "\n",
       "                                  number_of_orders state   Latitude  Longitude  \n",
       "customer_unique_id                                                              \n",
       "0000366f3b9a7992bf8c76cfdf3221e2                 1    SP -23.340235 -46.830140  \n",
       "0000b849f77a49e4a4ce2b2a4ca5be3f                 1    SP -23.559115 -46.787626  \n",
       "0000f46a3911fa3c0805444483337064                 1    SC -27.542880 -48.633426  \n",
       "0000f6ccb0745a6a4b88665a16c9f078                 1    PA  -1.312214 -48.483159  \n",
       "0004aac84e0df4da2b147fca70cf8255                 1    SP -23.505548 -47.469705  "
      ]
     },
     "execution_count": 34,
     "metadata": {},
     "output_type": "execute_result"
    }
   ],
   "source": [
    "data.head()"
   ]
  },
  {
   "cell_type": "code",
   "execution_count": 35,
   "metadata": {},
   "outputs": [
    {
     "data": {
      "text/plain": [
       "first_order         0\n",
       "last_order          0\n",
       "number_of_orders    0\n",
       "state               0\n",
       "Latitude            0\n",
       "Longitude           0\n",
       "dtype: int64"
      ]
     },
     "execution_count": 35,
     "metadata": {},
     "output_type": "execute_result"
    }
   ],
   "source": [
    "data.isnull().sum()"
   ]
  },
  {
   "cell_type": "code",
   "execution_count": 36,
   "metadata": {},
   "outputs": [
    {
     "data": {
      "text/plain": [
       "order_id                0\n",
       "payment_sequential      0\n",
       "payment_type            0\n",
       "payment_installments    0\n",
       "payment_value           0\n",
       "dtype: int64"
      ]
     },
     "execution_count": 36,
     "metadata": {},
     "output_type": "execute_result"
    }
   ],
   "source": [
    "payments.isnull().sum()"
   ]
  },
  {
   "cell_type": "code",
   "execution_count": 37,
   "metadata": {},
   "outputs": [
    {
     "data": {
      "text/plain": [
       "Timestamp('2018-10-17 17:30:18')"
      ]
     },
     "execution_count": 37,
     "metadata": {},
     "output_type": "execute_result"
    }
   ],
   "source": [
    "data.last_order.max()"
   ]
  },
  {
   "cell_type": "markdown",
   "metadata": {},
   "source": [
    "# on va extraire l'heure moyenne d'achat\n"
   ]
  },
  {
   "cell_type": "code",
   "execution_count": 38,
   "metadata": {},
   "outputs": [],
   "source": [
    "orders['time']=orders['order_purchase_timestamp'].apply(lambda x:pd.Timestamp(x).hour)"
   ]
  },
  {
   "cell_type": "code",
   "execution_count": 39,
   "metadata": {},
   "outputs": [
    {
     "data": {
      "text/plain": [
       "(array([2394., 1170.,  510.,  272.,  206.,  188.,  502., 1231., 2967.,\n",
       "        4785., 6177., 6578., 5995., 6518., 6569., 6454., 6675., 6150.,\n",
       "        5769., 5982., 6193., 6217., 5816., 4123.]),\n",
       " array([ 0.        ,  0.95833333,  1.91666667,  2.875     ,  3.83333333,\n",
       "         4.79166667,  5.75      ,  6.70833333,  7.66666667,  8.625     ,\n",
       "         9.58333333, 10.54166667, 11.5       , 12.45833333, 13.41666667,\n",
       "        14.375     , 15.33333333, 16.29166667, 17.25      , 18.20833333,\n",
       "        19.16666667, 20.125     , 21.08333333, 22.04166667, 23.        ]),\n",
       " <a list of 24 Patch objects>)"
      ]
     },
     "execution_count": 39,
     "metadata": {},
     "output_type": "execute_result"
    },
    {
     "data": {
      "image/png": "[encoded data removed]",
      "text/plain": [
       "<Figure size 432x288 with 1 Axes>"
      ]
     },
     "metadata": {
      "needs_background": "light"
     },
     "output_type": "display_data"
    }
   ],
   "source": [
    "plt.hist(orders['time'],bins=24)"
   ]
  },
  {
   "cell_type": "code",
   "execution_count": 40,
   "metadata": {},
   "outputs": [],
   "source": [
    "#On va définir des plages horaires et voir quand les clients achètent le plus souvent:\n",
    "#matin entre 6h et 12h\n",
    "#après midi: entre 12h et 19h\n",
    "#Soir entre 19h et 23h\n",
    "#nuit entre 23h et 6h\n",
    "orders['période_achat']=np.where(orders['time']>23,'night',\\\n",
    "                                 (np.where(orders['time']>=19,'evening',\\\n",
    "                                           np.where(orders['time']>=12,'afternoon',\\\n",
    "                                                    np.where(orders['time']>=6,'morning','night')))))"
   ]
  },
  {
   "cell_type": "code",
   "execution_count": 41,
   "metadata": {},
   "outputs": [],
   "source": [
    "def heure(t):\n",
    "    \"\"\" Retourne si le client achète plus souvent le matin, le soir, la nuit ou la journée\"\"\"\n",
    "    \n",
    "    df=orders[orders.order_purchase_timestamp<t][['order_id','customer_id','période_achat']]\n",
    "    \n",
    "    #On joint à droite, on a déjà éliminé l'order sans paiement    \n",
    "    final=pd.merge(df,customers[['customer_id','customer_unique_id']],on='customer_id',how='left')\n",
    "    #On prends l'occurence la plus fréquente\n",
    "    g=final.groupby('customer_unique_id').agg(periode=('période_achat',lambda x:x.value_counts().index[0]))\n",
    "    return pd.DataFrame(g)    "
   ]
  },
  {
   "cell_type": "code",
   "execution_count": 42,
   "metadata": {},
   "outputs": [],
   "source": [
    "h=heure('2018-10-17 17:30:19')"
   ]
  },
  {
   "cell_type": "code",
   "execution_count": 43,
   "metadata": {},
   "outputs": [],
   "source": [
    "data=data.join(h)"
   ]
  },
  {
   "cell_type": "code",
   "execution_count": 44,
   "metadata": {},
   "outputs": [
    {
     "data": {
      "text/html": [
       "<div>\n",
       "<style scoped>\n",
       "    .dataframe tbody tr th:only-of-type {\n",
       "        vertical-align: middle;\n",
       "    }\n",
       "\n",
       "    .dataframe tbody tr th {\n",
       "        vertical-align: top;\n",
       "    }\n",
       "\n",
       "    .dataframe thead th {\n",
       "        text-align: right;\n",
       "    }\n",
       "</style>\n",
       "<table border=\"1\" class=\"dataframe\">\n",
       "  <thead>\n",
       "    <tr style=\"text-align: right;\">\n",
       "      <th></th>\n",
       "      <th>order_id</th>\n",
       "      <th>payment_sequential</th>\n",
       "      <th>payment_type</th>\n",
       "      <th>payment_installments</th>\n",
       "      <th>payment_value</th>\n",
       "    </tr>\n",
       "  </thead>\n",
       "  <tbody>\n",
       "    <tr>\n",
       "      <th>85283</th>\n",
       "      <td>00010242fe8c5a6d1ba2dd792cb16214</td>\n",
       "      <td>1</td>\n",
       "      <td>credit_card</td>\n",
       "      <td>2</td>\n",
       "      <td>72.19</td>\n",
       "    </tr>\n",
       "    <tr>\n",
       "      <th>2499</th>\n",
       "      <td>00018f77f2f0320c557190d7a144bdd3</td>\n",
       "      <td>1</td>\n",
       "      <td>credit_card</td>\n",
       "      <td>3</td>\n",
       "      <td>259.83</td>\n",
       "    </tr>\n",
       "    <tr>\n",
       "      <th>12393</th>\n",
       "      <td>000229ec398224ef6ca0657da4fc703e</td>\n",
       "      <td>1</td>\n",
       "      <td>credit_card</td>\n",
       "      <td>5</td>\n",
       "      <td>216.87</td>\n",
       "    </tr>\n",
       "    <tr>\n",
       "      <th>32971</th>\n",
       "      <td>00024acbcdf0a6daa1e931b038114c75</td>\n",
       "      <td>1</td>\n",
       "      <td>credit_card</td>\n",
       "      <td>2</td>\n",
       "      <td>25.78</td>\n",
       "    </tr>\n",
       "    <tr>\n",
       "      <th>98711</th>\n",
       "      <td>00042b26cf59d7ce69dfabb4e55b4fd9</td>\n",
       "      <td>1</td>\n",
       "      <td>credit_card</td>\n",
       "      <td>3</td>\n",
       "      <td>218.04</td>\n",
       "    </tr>\n",
       "    <tr>\n",
       "      <th>...</th>\n",
       "      <td>...</td>\n",
       "      <td>...</td>\n",
       "      <td>...</td>\n",
       "      <td>...</td>\n",
       "      <td>...</td>\n",
       "    </tr>\n",
       "    <tr>\n",
       "      <th>69123</th>\n",
       "      <td>fffc94f6ce00a00581880bf54a75a037</td>\n",
       "      <td>1</td>\n",
       "      <td>boleto</td>\n",
       "      <td>1</td>\n",
       "      <td>343.40</td>\n",
       "    </tr>\n",
       "    <tr>\n",
       "      <th>2776</th>\n",
       "      <td>fffcd46ef2263f404302a634eb57f7eb</td>\n",
       "      <td>1</td>\n",
       "      <td>boleto</td>\n",
       "      <td>1</td>\n",
       "      <td>386.53</td>\n",
       "    </tr>\n",
       "    <tr>\n",
       "      <th>58888</th>\n",
       "      <td>fffce4705a9662cd70adb13d4a31832d</td>\n",
       "      <td>1</td>\n",
       "      <td>credit_card</td>\n",
       "      <td>3</td>\n",
       "      <td>116.85</td>\n",
       "    </tr>\n",
       "    <tr>\n",
       "      <th>37089</th>\n",
       "      <td>fffe18544ffabc95dfada21779c9644f</td>\n",
       "      <td>1</td>\n",
       "      <td>credit_card</td>\n",
       "      <td>3</td>\n",
       "      <td>64.71</td>\n",
       "    </tr>\n",
       "    <tr>\n",
       "      <th>1235</th>\n",
       "      <td>fffe41c64501cc87c801fd61db3f6244</td>\n",
       "      <td>1</td>\n",
       "      <td>credit_card</td>\n",
       "      <td>1</td>\n",
       "      <td>55.79</td>\n",
       "    </tr>\n",
       "  </tbody>\n",
       "</table>\n",
       "<p>103886 rows × 5 columns</p>\n",
       "</div>"
      ],
      "text/plain": [
       "                               order_id  payment_sequential payment_type  \\\n",
       "85283  00010242fe8c5a6d1ba2dd792cb16214                   1  credit_card   \n",
       "2499   00018f77f2f0320c557190d7a144bdd3                   1  credit_card   \n",
       "12393  000229ec398224ef6ca0657da4fc703e                   1  credit_card   \n",
       "32971  00024acbcdf0a6daa1e931b038114c75                   1  credit_card   \n",
       "98711  00042b26cf59d7ce69dfabb4e55b4fd9                   1  credit_card   \n",
       "...                                 ...                 ...          ...   \n",
       "69123  fffc94f6ce00a00581880bf54a75a037                   1       boleto   \n",
       "2776   fffcd46ef2263f404302a634eb57f7eb                   1       boleto   \n",
       "58888  fffce4705a9662cd70adb13d4a31832d                   1  credit_card   \n",
       "37089  fffe18544ffabc95dfada21779c9644f                   1  credit_card   \n",
       "1235   fffe41c64501cc87c801fd61db3f6244                   1  credit_card   \n",
       "\n",
       "       payment_installments  payment_value  \n",
       "85283                     2          72.19  \n",
       "2499                      3         259.83  \n",
       "12393                     5         216.87  \n",
       "32971                     2          25.78  \n",
       "98711                     3         218.04  \n",
       "...                     ...            ...  \n",
       "69123                     1         343.40  \n",
       "2776                      1         386.53  \n",
       "58888                     3         116.85  \n",
       "37089                     3          64.71  \n",
       "1235                      1          55.79  \n",
       "\n",
       "[103886 rows x 5 columns]"
      ]
     },
     "execution_count": 44,
     "metadata": {},
     "output_type": "execute_result"
    }
   ],
   "source": [
    "payments.sort_values('order_id')"
   ]
  },
  {
   "cell_type": "code",
   "execution_count": 45,
   "metadata": {},
   "outputs": [
    {
     "data": {
      "text/plain": [
       "99440"
      ]
     },
     "execution_count": 45,
     "metadata": {},
     "output_type": "execute_result"
    }
   ],
   "source": [
    "#On va récupérer le montant de la dernière commande\n",
    "#On va récupérer le montant moyen des installments pour avoir un indicateur de pouvoir d'achat\n",
    "#On va aussi récupérer le mode de paiement principal\n",
    "len(payments.order_id.unique())"
   ]
  },
  {
   "cell_type": "code",
   "execution_count": 46,
   "metadata": {},
   "outputs": [
    {
     "data": {
      "text/plain": [
       "(99441, 10)"
      ]
     },
     "execution_count": 46,
     "metadata": {},
     "output_type": "execute_result"
    }
   ],
   "source": [
    "orders.shape"
   ]
  },
  {
   "cell_type": "code",
   "execution_count": 47,
   "metadata": {},
   "outputs": [],
   "source": [
    "#Au final un order n'a pas été payé, on l'exclu de la base de donnée finale\n"
   ]
  },
  {
   "cell_type": "code",
   "execution_count": 48,
   "metadata": {},
   "outputs": [],
   "source": [
    "def montant(t):\n",
    "    \"\"\" calcule le montant total des commandes effectuées avant la date t\\n\\\n",
    "    retourne un dataframe avec en indice les customer_unique_id et en feature le montant total\"\"\"\n",
    "    \n",
    "    df=orders[orders.order_purchase_timestamp<=t][['order_id','customer_id']]\n",
    "    \n",
    "    df2=pd.merge(payments[['order_id','payment_value']],df,on='order_id',how='left')\n",
    "    \n",
    "    final=pd.merge(df2,customers[['customer_id','customer_unique_id']],on='customer_id',how='left')\n",
    "    g=final.groupby('customer_unique_id').aggregate({'payment_value':'sum'})\n",
    "    return pd.DataFrame(g)"
   ]
  },
  {
   "cell_type": "code",
   "execution_count": 49,
   "metadata": {},
   "outputs": [],
   "source": [
    "data=data.join(montant('2018-10-17 17:30:19'))"
   ]
  },
  {
   "cell_type": "code",
   "execution_count": 50,
   "metadata": {},
   "outputs": [
    {
     "data": {
      "text/html": [
       "<div>\n",
       "<style scoped>\n",
       "    .dataframe tbody tr th:only-of-type {\n",
       "        vertical-align: middle;\n",
       "    }\n",
       "\n",
       "    .dataframe tbody tr th {\n",
       "        vertical-align: top;\n",
       "    }\n",
       "\n",
       "    .dataframe thead th {\n",
       "        text-align: right;\n",
       "    }\n",
       "</style>\n",
       "<table border=\"1\" class=\"dataframe\">\n",
       "  <thead>\n",
       "    <tr style=\"text-align: right;\">\n",
       "      <th></th>\n",
       "      <th>first_order</th>\n",
       "      <th>last_order</th>\n",
       "      <th>number_of_orders</th>\n",
       "      <th>state</th>\n",
       "      <th>Latitude</th>\n",
       "      <th>Longitude</th>\n",
       "      <th>periode</th>\n",
       "      <th>payment_value</th>\n",
       "    </tr>\n",
       "    <tr>\n",
       "      <th>customer_unique_id</th>\n",
       "      <th></th>\n",
       "      <th></th>\n",
       "      <th></th>\n",
       "      <th></th>\n",
       "      <th></th>\n",
       "      <th></th>\n",
       "      <th></th>\n",
       "      <th></th>\n",
       "    </tr>\n",
       "  </thead>\n",
       "  <tbody>\n",
       "    <tr>\n",
       "      <th>0000366f3b9a7992bf8c76cfdf3221e2</th>\n",
       "      <td>2018-05-10 10:56:27</td>\n",
       "      <td>2018-05-10 10:56:27</td>\n",
       "      <td>1</td>\n",
       "      <td>SP</td>\n",
       "      <td>-23.340235</td>\n",
       "      <td>-46.830140</td>\n",
       "      <td>morning</td>\n",
       "      <td>141.90</td>\n",
       "    </tr>\n",
       "    <tr>\n",
       "      <th>0000b849f77a49e4a4ce2b2a4ca5be3f</th>\n",
       "      <td>2018-05-07 11:11:27</td>\n",
       "      <td>2018-05-07 11:11:27</td>\n",
       "      <td>1</td>\n",
       "      <td>SP</td>\n",
       "      <td>-23.559115</td>\n",
       "      <td>-46.787626</td>\n",
       "      <td>morning</td>\n",
       "      <td>27.19</td>\n",
       "    </tr>\n",
       "    <tr>\n",
       "      <th>0000f46a3911fa3c0805444483337064</th>\n",
       "      <td>2017-03-10 21:05:03</td>\n",
       "      <td>2017-03-10 21:05:03</td>\n",
       "      <td>1</td>\n",
       "      <td>SC</td>\n",
       "      <td>-27.542880</td>\n",
       "      <td>-48.633426</td>\n",
       "      <td>evening</td>\n",
       "      <td>86.22</td>\n",
       "    </tr>\n",
       "    <tr>\n",
       "      <th>0000f6ccb0745a6a4b88665a16c9f078</th>\n",
       "      <td>2017-10-12 20:29:41</td>\n",
       "      <td>2017-10-12 20:29:41</td>\n",
       "      <td>1</td>\n",
       "      <td>PA</td>\n",
       "      <td>-1.312214</td>\n",
       "      <td>-48.483159</td>\n",
       "      <td>evening</td>\n",
       "      <td>43.62</td>\n",
       "    </tr>\n",
       "    <tr>\n",
       "      <th>0004aac84e0df4da2b147fca70cf8255</th>\n",
       "      <td>2017-11-14 19:45:42</td>\n",
       "      <td>2017-11-14 19:45:42</td>\n",
       "      <td>1</td>\n",
       "      <td>SP</td>\n",
       "      <td>-23.505548</td>\n",
       "      <td>-47.469705</td>\n",
       "      <td>evening</td>\n",
       "      <td>196.89</td>\n",
       "    </tr>\n",
       "    <tr>\n",
       "      <th>...</th>\n",
       "      <td>...</td>\n",
       "      <td>...</td>\n",
       "      <td>...</td>\n",
       "      <td>...</td>\n",
       "      <td>...</td>\n",
       "      <td>...</td>\n",
       "      <td>...</td>\n",
       "      <td>...</td>\n",
       "    </tr>\n",
       "    <tr>\n",
       "      <th>fffcf5a5ff07b0908bd4e2dbc735a684</th>\n",
       "      <td>2017-06-08 21:00:36</td>\n",
       "      <td>2017-06-08 21:00:36</td>\n",
       "      <td>1</td>\n",
       "      <td>PE</td>\n",
       "      <td>-8.362511</td>\n",
       "      <td>-36.562343</td>\n",
       "      <td>evening</td>\n",
       "      <td>2067.42</td>\n",
       "    </tr>\n",
       "    <tr>\n",
       "      <th>fffea47cd6d3cc0a88bd621562a9d061</th>\n",
       "      <td>2017-12-10 20:07:56</td>\n",
       "      <td>2017-12-10 20:07:56</td>\n",
       "      <td>1</td>\n",
       "      <td>BA</td>\n",
       "      <td>-12.217395</td>\n",
       "      <td>-38.959308</td>\n",
       "      <td>evening</td>\n",
       "      <td>84.58</td>\n",
       "    </tr>\n",
       "    <tr>\n",
       "      <th>ffff371b4d645b6ecea244b27531430a</th>\n",
       "      <td>2017-02-07 15:49:16</td>\n",
       "      <td>2017-02-07 15:49:16</td>\n",
       "      <td>1</td>\n",
       "      <td>MT</td>\n",
       "      <td>-11.834552</td>\n",
       "      <td>-55.508110</td>\n",
       "      <td>afternoon</td>\n",
       "      <td>112.46</td>\n",
       "    </tr>\n",
       "    <tr>\n",
       "      <th>ffff5962728ec6157033ef9805bacc48</th>\n",
       "      <td>2018-05-02 15:17:41</td>\n",
       "      <td>2018-05-02 15:17:41</td>\n",
       "      <td>1</td>\n",
       "      <td>ES</td>\n",
       "      <td>-21.126568</td>\n",
       "      <td>-41.672806</td>\n",
       "      <td>afternoon</td>\n",
       "      <td>133.69</td>\n",
       "    </tr>\n",
       "    <tr>\n",
       "      <th>ffffd2657e2aad2907e67c3e9daecbeb</th>\n",
       "      <td>2017-05-02 20:18:45</td>\n",
       "      <td>2017-05-02 20:18:45</td>\n",
       "      <td>1</td>\n",
       "      <td>PR</td>\n",
       "      <td>-25.447504</td>\n",
       "      <td>-49.441283</td>\n",
       "      <td>evening</td>\n",
       "      <td>71.56</td>\n",
       "    </tr>\n",
       "  </tbody>\n",
       "</table>\n",
       "<p>96096 rows × 8 columns</p>\n",
       "</div>"
      ],
      "text/plain": [
       "                                         first_order          last_order  \\\n",
       "customer_unique_id                                                         \n",
       "0000366f3b9a7992bf8c76cfdf3221e2 2018-05-10 10:56:27 2018-05-10 10:56:27   \n",
       "0000b849f77a49e4a4ce2b2a4ca5be3f 2018-05-07 11:11:27 2018-05-07 11:11:27   \n",
       "0000f46a3911fa3c0805444483337064 2017-03-10 21:05:03 2017-03-10 21:05:03   \n",
       "0000f6ccb0745a6a4b88665a16c9f078 2017-10-12 20:29:41 2017-10-12 20:29:41   \n",
       "0004aac84e0df4da2b147fca70cf8255 2017-11-14 19:45:42 2017-11-14 19:45:42   \n",
       "...                                              ...                 ...   \n",
       "fffcf5a5ff07b0908bd4e2dbc735a684 2017-06-08 21:00:36 2017-06-08 21:00:36   \n",
       "fffea47cd6d3cc0a88bd621562a9d061 2017-12-10 20:07:56 2017-12-10 20:07:56   \n",
       "ffff371b4d645b6ecea244b27531430a 2017-02-07 15:49:16 2017-02-07 15:49:16   \n",
       "ffff5962728ec6157033ef9805bacc48 2018-05-02 15:17:41 2018-05-02 15:17:41   \n",
       "ffffd2657e2aad2907e67c3e9daecbeb 2017-05-02 20:18:45 2017-05-02 20:18:45   \n",
       "\n",
       "                                  number_of_orders state   Latitude  \\\n",
       "customer_unique_id                                                    \n",
       "0000366f3b9a7992bf8c76cfdf3221e2                 1    SP -23.340235   \n",
       "0000b849f77a49e4a4ce2b2a4ca5be3f                 1    SP -23.559115   \n",
       "0000f46a3911fa3c0805444483337064                 1    SC -27.542880   \n",
       "0000f6ccb0745a6a4b88665a16c9f078                 1    PA  -1.312214   \n",
       "0004aac84e0df4da2b147fca70cf8255                 1    SP -23.505548   \n",
       "...                                            ...   ...        ...   \n",
       "fffcf5a5ff07b0908bd4e2dbc735a684                 1    PE  -8.362511   \n",
       "fffea47cd6d3cc0a88bd621562a9d061                 1    BA -12.217395   \n",
       "ffff371b4d645b6ecea244b27531430a                 1    MT -11.834552   \n",
       "ffff5962728ec6157033ef9805bacc48                 1    ES -21.126568   \n",
       "ffffd2657e2aad2907e67c3e9daecbeb                 1    PR -25.447504   \n",
       "\n",
       "                                  Longitude    periode  payment_value  \n",
       "customer_unique_id                                                     \n",
       "0000366f3b9a7992bf8c76cfdf3221e2 -46.830140    morning         141.90  \n",
       "0000b849f77a49e4a4ce2b2a4ca5be3f -46.787626    morning          27.19  \n",
       "0000f46a3911fa3c0805444483337064 -48.633426    evening          86.22  \n",
       "0000f6ccb0745a6a4b88665a16c9f078 -48.483159    evening          43.62  \n",
       "0004aac84e0df4da2b147fca70cf8255 -47.469705    evening         196.89  \n",
       "...                                     ...        ...            ...  \n",
       "fffcf5a5ff07b0908bd4e2dbc735a684 -36.562343    evening        2067.42  \n",
       "fffea47cd6d3cc0a88bd621562a9d061 -38.959308    evening          84.58  \n",
       "ffff371b4d645b6ecea244b27531430a -55.508110  afternoon         112.46  \n",
       "ffff5962728ec6157033ef9805bacc48 -41.672806  afternoon         133.69  \n",
       "ffffd2657e2aad2907e67c3e9daecbeb -49.441283    evening          71.56  \n",
       "\n",
       "[96096 rows x 8 columns]"
      ]
     },
     "execution_count": 50,
     "metadata": {},
     "output_type": "execute_result"
    }
   ],
   "source": [
    "data"
   ]
  },
  {
   "cell_type": "code",
   "execution_count": 51,
   "metadata": {},
   "outputs": [
    {
     "name": "stdout",
     "output_type": "stream",
     "text": [
      "16008872.12 16008872.12\n"
     ]
    }
   ],
   "source": [
    "#je vérifie:\n",
    "print(payments['payment_value'].sum(),data['payment_value'].sum())"
   ]
  },
  {
   "cell_type": "code",
   "execution_count": 52,
   "metadata": {},
   "outputs": [
    {
     "data": {
      "text/plain": [
       "first_order         0\n",
       "last_order          0\n",
       "number_of_orders    0\n",
       "state               0\n",
       "Latitude            0\n",
       "Longitude           0\n",
       "periode             0\n",
       "payment_value       1\n",
       "dtype: int64"
      ]
     },
     "execution_count": 52,
     "metadata": {},
     "output_type": "execute_result"
    }
   ],
   "source": [
    "data.isnull().sum()"
   ]
  },
  {
   "cell_type": "code",
   "execution_count": 53,
   "metadata": {},
   "outputs": [],
   "source": [
    "data.dropna(how='any',inplace=True)"
   ]
  },
  {
   "cell_type": "code",
   "execution_count": 54,
   "metadata": {},
   "outputs": [
    {
     "data": {
      "text/html": [
       "<div>\n",
       "<style scoped>\n",
       "    .dataframe tbody tr th:only-of-type {\n",
       "        vertical-align: middle;\n",
       "    }\n",
       "\n",
       "    .dataframe tbody tr th {\n",
       "        vertical-align: top;\n",
       "    }\n",
       "\n",
       "    .dataframe thead th {\n",
       "        text-align: right;\n",
       "    }\n",
       "</style>\n",
       "<table border=\"1\" class=\"dataframe\">\n",
       "  <thead>\n",
       "    <tr style=\"text-align: right;\">\n",
       "      <th></th>\n",
       "      <th>first_order</th>\n",
       "      <th>last_order</th>\n",
       "      <th>number_of_orders</th>\n",
       "      <th>state</th>\n",
       "      <th>Latitude</th>\n",
       "      <th>Longitude</th>\n",
       "      <th>periode</th>\n",
       "      <th>payment_value</th>\n",
       "    </tr>\n",
       "    <tr>\n",
       "      <th>customer_unique_id</th>\n",
       "      <th></th>\n",
       "      <th></th>\n",
       "      <th></th>\n",
       "      <th></th>\n",
       "      <th></th>\n",
       "      <th></th>\n",
       "      <th></th>\n",
       "      <th></th>\n",
       "    </tr>\n",
       "  </thead>\n",
       "  <tbody>\n",
       "    <tr>\n",
       "      <th>4fa4365000c7090fcb8cad5713c6d3db</th>\n",
       "      <td>2018-08-28 15:26:39</td>\n",
       "      <td>2018-08-28 15:26:39</td>\n",
       "      <td>1</td>\n",
       "      <td>SP</td>\n",
       "      <td>-23.531642</td>\n",
       "      <td>-46.656289</td>\n",
       "      <td>afternoon</td>\n",
       "      <td>0.0</td>\n",
       "    </tr>\n",
       "    <tr>\n",
       "      <th>968fac81e2c44fb6c1e3ac2a45e6a102</th>\n",
       "      <td>2018-09-03 14:14:25</td>\n",
       "      <td>2018-09-03 14:14:25</td>\n",
       "      <td>1</td>\n",
       "      <td>SP</td>\n",
       "      <td>-23.663211</td>\n",
       "      <td>-46.693516</td>\n",
       "      <td>afternoon</td>\n",
       "      <td>0.0</td>\n",
       "    </tr>\n",
       "  </tbody>\n",
       "</table>\n",
       "</div>"
      ],
      "text/plain": [
       "                                         first_order          last_order  \\\n",
       "customer_unique_id                                                         \n",
       "4fa4365000c7090fcb8cad5713c6d3db 2018-08-28 15:26:39 2018-08-28 15:26:39   \n",
       "968fac81e2c44fb6c1e3ac2a45e6a102 2018-09-03 14:14:25 2018-09-03 14:14:25   \n",
       "\n",
       "                                  number_of_orders state   Latitude  \\\n",
       "customer_unique_id                                                    \n",
       "4fa4365000c7090fcb8cad5713c6d3db                 1    SP -23.531642   \n",
       "968fac81e2c44fb6c1e3ac2a45e6a102                 1    SP -23.663211   \n",
       "\n",
       "                                  Longitude    periode  payment_value  \n",
       "customer_unique_id                                                     \n",
       "4fa4365000c7090fcb8cad5713c6d3db -46.656289  afternoon            0.0  \n",
       "968fac81e2c44fb6c1e3ac2a45e6a102 -46.693516  afternoon            0.0  "
      ]
     },
     "execution_count": 54,
     "metadata": {},
     "output_type": "execute_result"
    }
   ],
   "source": [
    "#on regarde les payments qui valent 0:\n",
    "data[data.payment_value==0]"
   ]
  },
  {
   "cell_type": "code",
   "execution_count": 55,
   "metadata": {},
   "outputs": [],
   "source": [
    "#On supprime ces deux personnes qui sont au final des outliers:\n",
    "data=data[data.payment_value>0]"
   ]
  },
  {
   "cell_type": "code",
   "execution_count": 56,
   "metadata": {},
   "outputs": [
    {
     "data": {
      "text/plain": [
       "(96093, 8)"
      ]
     },
     "execution_count": 56,
     "metadata": {},
     "output_type": "execute_result"
    }
   ],
   "source": [
    "data.shape"
   ]
  },
  {
   "cell_type": "code",
   "execution_count": 57,
   "metadata": {},
   "outputs": [
    {
     "data": {
      "text/html": [
       "<div>\n",
       "<style scoped>\n",
       "    .dataframe tbody tr th:only-of-type {\n",
       "        vertical-align: middle;\n",
       "    }\n",
       "\n",
       "    .dataframe tbody tr th {\n",
       "        vertical-align: top;\n",
       "    }\n",
       "\n",
       "    .dataframe thead th {\n",
       "        text-align: right;\n",
       "    }\n",
       "</style>\n",
       "<table border=\"1\" class=\"dataframe\">\n",
       "  <thead>\n",
       "    <tr style=\"text-align: right;\">\n",
       "      <th></th>\n",
       "      <th>order_id</th>\n",
       "      <th>payment_sequential</th>\n",
       "      <th>payment_type</th>\n",
       "      <th>payment_installments</th>\n",
       "      <th>payment_value</th>\n",
       "    </tr>\n",
       "  </thead>\n",
       "  <tbody>\n",
       "    <tr>\n",
       "      <th>46982</th>\n",
       "      <td>744bade1fcf9ff3f31d860ace076d422</td>\n",
       "      <td>2</td>\n",
       "      <td>credit_card</td>\n",
       "      <td>0</td>\n",
       "      <td>58.69</td>\n",
       "    </tr>\n",
       "    <tr>\n",
       "      <th>79014</th>\n",
       "      <td>1a57108394169c0b47d8f876acc9ba2d</td>\n",
       "      <td>2</td>\n",
       "      <td>credit_card</td>\n",
       "      <td>0</td>\n",
       "      <td>129.94</td>\n",
       "    </tr>\n",
       "  </tbody>\n",
       "</table>\n",
       "</div>"
      ],
      "text/plain": [
       "                               order_id  payment_sequential payment_type  \\\n",
       "46982  744bade1fcf9ff3f31d860ace076d422                   2  credit_card   \n",
       "79014  1a57108394169c0b47d8f876acc9ba2d                   2  credit_card   \n",
       "\n",
       "       payment_installments  payment_value  \n",
       "46982                     0          58.69  \n",
       "79014                     0         129.94  "
      ]
     },
     "execution_count": 57,
     "metadata": {},
     "output_type": "execute_result"
    }
   ],
   "source": [
    "payments[payments.payment_installments<=0]"
   ]
  },
  {
   "cell_type": "code",
   "execution_count": 58,
   "metadata": {},
   "outputs": [],
   "source": [
    "#on passe ces valeurs à 1:\n",
    "payments['payment_installments']=payments['payment_installments'].apply(lambda x: 1 if x==0 else x)"
   ]
  },
  {
   "cell_type": "code",
   "execution_count": 59,
   "metadata": {},
   "outputs": [],
   "source": [
    "def mean_installment(t):\n",
    "    \"\"\" calcule le montant total des installments pour les commande t\\n\\\n",
    "    Ajoute tous les installments par order\n",
    "    divise le prix total de la commande par le nombre d'installments\n",
    "    fait la moyenne sur toutes les commandes\n",
    "    retourne un dataframe avec en indice les customer_unique_id et en feature le montant\"\"\"\n",
    "    \n",
    "    df=orders[orders.order_purchase_timestamp<t][['order_id','customer_id']]\n",
    "    \n",
    "    #On joint à droite, on a déjà éliminé l'order sans paiement\n",
    "    df2=pd.merge(df,payments[['order_id','payment_value','payment_installments']],on='order_id',how='right')\n",
    "    \n",
    "    df3=pd.DataFrame(df2.groupby('order_id').aggregate({'payment_value':'sum','payment_installments':'sum','customer_id':'first'})).reset_index()\n",
    "    \n",
    "    df3['mean_installment']=df3['payment_value']/df3['payment_installments']\n",
    "    \n",
    "    final=pd.merge(df3,customers[['customer_id','customer_unique_id']],on='customer_id',how='left')\n",
    "    g=final.groupby('customer_unique_id').aggregate({'mean_installment':'mean'})\n",
    "    return pd.DataFrame(g)"
   ]
  },
  {
   "cell_type": "code",
   "execution_count": 60,
   "metadata": {},
   "outputs": [
    {
     "data": {
      "text/html": [
       "<div>\n",
       "<style scoped>\n",
       "    .dataframe tbody tr th:only-of-type {\n",
       "        vertical-align: middle;\n",
       "    }\n",
       "\n",
       "    .dataframe tbody tr th {\n",
       "        vertical-align: top;\n",
       "    }\n",
       "\n",
       "    .dataframe thead th {\n",
       "        text-align: right;\n",
       "    }\n",
       "</style>\n",
       "<table border=\"1\" class=\"dataframe\">\n",
       "  <thead>\n",
       "    <tr style=\"text-align: right;\">\n",
       "      <th></th>\n",
       "      <th>mean_installment</th>\n",
       "    </tr>\n",
       "    <tr>\n",
       "      <th>customer_unique_id</th>\n",
       "      <th></th>\n",
       "    </tr>\n",
       "  </thead>\n",
       "  <tbody>\n",
       "    <tr>\n",
       "      <th>0000366f3b9a7992bf8c76cfdf3221e2</th>\n",
       "      <td>17.7375</td>\n",
       "    </tr>\n",
       "    <tr>\n",
       "      <th>0000b849f77a49e4a4ce2b2a4ca5be3f</th>\n",
       "      <td>27.1900</td>\n",
       "    </tr>\n",
       "    <tr>\n",
       "      <th>0000f46a3911fa3c0805444483337064</th>\n",
       "      <td>10.7775</td>\n",
       "    </tr>\n",
       "    <tr>\n",
       "      <th>0000f6ccb0745a6a4b88665a16c9f078</th>\n",
       "      <td>10.9050</td>\n",
       "    </tr>\n",
       "    <tr>\n",
       "      <th>0004aac84e0df4da2b147fca70cf8255</th>\n",
       "      <td>32.8150</td>\n",
       "    </tr>\n",
       "    <tr>\n",
       "      <th>...</th>\n",
       "      <td>...</td>\n",
       "    </tr>\n",
       "    <tr>\n",
       "      <th>fffcf5a5ff07b0908bd4e2dbc735a684</th>\n",
       "      <td>206.7420</td>\n",
       "    </tr>\n",
       "    <tr>\n",
       "      <th>fffea47cd6d3cc0a88bd621562a9d061</th>\n",
       "      <td>84.5800</td>\n",
       "    </tr>\n",
       "    <tr>\n",
       "      <th>ffff371b4d645b6ecea244b27531430a</th>\n",
       "      <td>112.4600</td>\n",
       "    </tr>\n",
       "    <tr>\n",
       "      <th>ffff5962728ec6157033ef9805bacc48</th>\n",
       "      <td>26.7380</td>\n",
       "    </tr>\n",
       "    <tr>\n",
       "      <th>ffffd2657e2aad2907e67c3e9daecbeb</th>\n",
       "      <td>17.8900</td>\n",
       "    </tr>\n",
       "  </tbody>\n",
       "</table>\n",
       "<p>96095 rows × 1 columns</p>\n",
       "</div>"
      ],
      "text/plain": [
       "                                  mean_installment\n",
       "customer_unique_id                                \n",
       "0000366f3b9a7992bf8c76cfdf3221e2           17.7375\n",
       "0000b849f77a49e4a4ce2b2a4ca5be3f           27.1900\n",
       "0000f46a3911fa3c0805444483337064           10.7775\n",
       "0000f6ccb0745a6a4b88665a16c9f078           10.9050\n",
       "0004aac84e0df4da2b147fca70cf8255           32.8150\n",
       "...                                            ...\n",
       "fffcf5a5ff07b0908bd4e2dbc735a684          206.7420\n",
       "fffea47cd6d3cc0a88bd621562a9d061           84.5800\n",
       "ffff371b4d645b6ecea244b27531430a          112.4600\n",
       "ffff5962728ec6157033ef9805bacc48           26.7380\n",
       "ffffd2657e2aad2907e67c3e9daecbeb           17.8900\n",
       "\n",
       "[96095 rows x 1 columns]"
      ]
     },
     "execution_count": 60,
     "metadata": {},
     "output_type": "execute_result"
    }
   ],
   "source": [
    "mean_installment('2018-10-17 17:30:19')"
   ]
  },
  {
   "cell_type": "code",
   "execution_count": 61,
   "metadata": {},
   "outputs": [],
   "source": [
    "a=mean_installment('2018-10-17 17:30:19')"
   ]
  },
  {
   "cell_type": "code",
   "execution_count": 62,
   "metadata": {},
   "outputs": [],
   "source": [
    "data=data.join(a)"
   ]
  },
  {
   "cell_type": "code",
   "execution_count": 63,
   "metadata": {},
   "outputs": [
    {
     "data": {
      "text/plain": [
       "(96093, 9)"
      ]
     },
     "execution_count": 63,
     "metadata": {},
     "output_type": "execute_result"
    }
   ],
   "source": [
    "data.shape"
   ]
  },
  {
   "cell_type": "code",
   "execution_count": 64,
   "metadata": {},
   "outputs": [
    {
     "data": {
      "text/plain": [
       "first_order         0\n",
       "last_order          0\n",
       "number_of_orders    0\n",
       "state               0\n",
       "Latitude            0\n",
       "Longitude           0\n",
       "periode             0\n",
       "payment_value       0\n",
       "mean_installment    0\n",
       "dtype: int64"
      ]
     },
     "execution_count": 64,
     "metadata": {},
     "output_type": "execute_result"
    }
   ],
   "source": [
    "data.isnull().sum()"
   ]
  },
  {
   "cell_type": "code",
   "execution_count": 65,
   "metadata": {},
   "outputs": [],
   "source": [
    "data.columns=['first_order', 'last_order', 'number_of_orders', 'state', 'Latitude','Longitude','period','total_payment_value', 'mean_installment']"
   ]
  },
  {
   "cell_type": "code",
   "execution_count": 66,
   "metadata": {},
   "outputs": [
    {
     "data": {
      "text/plain": [
       "array(['credit_card', 'boleto', 'voucher', 'debit_card', 'not_defined'],\n",
       "      dtype=object)"
      ]
     },
     "execution_count": 66,
     "metadata": {},
     "output_type": "execute_result"
    }
   ],
   "source": [
    "payments['payment_type'].unique()"
   ]
  },
  {
   "cell_type": "code",
   "execution_count": 67,
   "metadata": {},
   "outputs": [],
   "source": [
    "def favorite_payment_type(t):\n",
    "    \"\"\" calcule le moyen favori de paiment avant la date t\\n\\\n",
    "    retourne un dataframe avec en indice les customer_unique_id et en feature le montant total\n",
    "    celui qui le plus été utilisé sur toutes les séquences de paiement\"\"\"\n",
    "    \n",
    "    df=orders[orders.order_purchase_timestamp<t][['order_id','customer_id']]\n",
    "    \n",
    "    df2=pd.merge(df,payments[['order_id','payment_type']],on='order_id',how='right')\n",
    "    \n",
    "    final=pd.merge(df2,customers[['customer_id','customer_unique_id']],on='customer_id',how='left')\n",
    "    \n",
    "    g=final.groupby('customer_unique_id').agg(favorite_payment=('payment_type',lambda x:x.value_counts().index[0]))\n",
    "    return pd.DataFrame(g)"
   ]
  },
  {
   "cell_type": "code",
   "execution_count": 68,
   "metadata": {},
   "outputs": [],
   "source": [
    "fp=favorite_payment_type('2021-03-07 21:08:44')"
   ]
  },
  {
   "cell_type": "code",
   "execution_count": 69,
   "metadata": {},
   "outputs": [
    {
     "data": {
      "text/html": [
       "<div>\n",
       "<style scoped>\n",
       "    .dataframe tbody tr th:only-of-type {\n",
       "        vertical-align: middle;\n",
       "    }\n",
       "\n",
       "    .dataframe tbody tr th {\n",
       "        vertical-align: top;\n",
       "    }\n",
       "\n",
       "    .dataframe thead th {\n",
       "        text-align: right;\n",
       "    }\n",
       "</style>\n",
       "<table border=\"1\" class=\"dataframe\">\n",
       "  <thead>\n",
       "    <tr style=\"text-align: right;\">\n",
       "      <th></th>\n",
       "      <th>favorite_payment</th>\n",
       "    </tr>\n",
       "    <tr>\n",
       "      <th>customer_unique_id</th>\n",
       "      <th></th>\n",
       "    </tr>\n",
       "  </thead>\n",
       "  <tbody>\n",
       "    <tr>\n",
       "      <th>0000366f3b9a7992bf8c76cfdf3221e2</th>\n",
       "      <td>credit_card</td>\n",
       "    </tr>\n",
       "    <tr>\n",
       "      <th>0000b849f77a49e4a4ce2b2a4ca5be3f</th>\n",
       "      <td>credit_card</td>\n",
       "    </tr>\n",
       "    <tr>\n",
       "      <th>0000f46a3911fa3c0805444483337064</th>\n",
       "      <td>credit_card</td>\n",
       "    </tr>\n",
       "    <tr>\n",
       "      <th>0000f6ccb0745a6a4b88665a16c9f078</th>\n",
       "      <td>credit_card</td>\n",
       "    </tr>\n",
       "    <tr>\n",
       "      <th>0004aac84e0df4da2b147fca70cf8255</th>\n",
       "      <td>credit_card</td>\n",
       "    </tr>\n",
       "    <tr>\n",
       "      <th>...</th>\n",
       "      <td>...</td>\n",
       "    </tr>\n",
       "    <tr>\n",
       "      <th>fffcf5a5ff07b0908bd4e2dbc735a684</th>\n",
       "      <td>credit_card</td>\n",
       "    </tr>\n",
       "    <tr>\n",
       "      <th>fffea47cd6d3cc0a88bd621562a9d061</th>\n",
       "      <td>credit_card</td>\n",
       "    </tr>\n",
       "    <tr>\n",
       "      <th>ffff371b4d645b6ecea244b27531430a</th>\n",
       "      <td>credit_card</td>\n",
       "    </tr>\n",
       "    <tr>\n",
       "      <th>ffff5962728ec6157033ef9805bacc48</th>\n",
       "      <td>credit_card</td>\n",
       "    </tr>\n",
       "    <tr>\n",
       "      <th>ffffd2657e2aad2907e67c3e9daecbeb</th>\n",
       "      <td>credit_card</td>\n",
       "    </tr>\n",
       "  </tbody>\n",
       "</table>\n",
       "<p>96095 rows × 1 columns</p>\n",
       "</div>"
      ],
      "text/plain": [
       "                                 favorite_payment\n",
       "customer_unique_id                               \n",
       "0000366f3b9a7992bf8c76cfdf3221e2      credit_card\n",
       "0000b849f77a49e4a4ce2b2a4ca5be3f      credit_card\n",
       "0000f46a3911fa3c0805444483337064      credit_card\n",
       "0000f6ccb0745a6a4b88665a16c9f078      credit_card\n",
       "0004aac84e0df4da2b147fca70cf8255      credit_card\n",
       "...                                           ...\n",
       "fffcf5a5ff07b0908bd4e2dbc735a684      credit_card\n",
       "fffea47cd6d3cc0a88bd621562a9d061      credit_card\n",
       "ffff371b4d645b6ecea244b27531430a      credit_card\n",
       "ffff5962728ec6157033ef9805bacc48      credit_card\n",
       "ffffd2657e2aad2907e67c3e9daecbeb      credit_card\n",
       "\n",
       "[96095 rows x 1 columns]"
      ]
     },
     "execution_count": 69,
     "metadata": {},
     "output_type": "execute_result"
    }
   ],
   "source": [
    "fp"
   ]
  },
  {
   "cell_type": "code",
   "execution_count": 70,
   "metadata": {},
   "outputs": [
    {
     "name": "stdout",
     "output_type": "stream",
     "text": [
      "['credit_card' 'boleto' 'voucher' 'debit_card' 'not_defined'] (96095, 1)\n"
     ]
    }
   ],
   "source": [
    "print(fp['favorite_payment'].unique(),fp.shape)"
   ]
  },
  {
   "cell_type": "code",
   "execution_count": 71,
   "metadata": {},
   "outputs": [],
   "source": [
    "data=data.join(fp)"
   ]
  },
  {
   "cell_type": "code",
   "execution_count": 72,
   "metadata": {},
   "outputs": [
    {
     "data": {
      "text/plain": [
       "(96093, 10)"
      ]
     },
     "execution_count": 72,
     "metadata": {},
     "output_type": "execute_result"
    }
   ],
   "source": [
    "data.shape"
   ]
  },
  {
   "cell_type": "code",
   "execution_count": 73,
   "metadata": {},
   "outputs": [
    {
     "data": {
      "text/plain": [
       "first_order            0\n",
       "last_order             0\n",
       "number_of_orders       0\n",
       "state                  0\n",
       "Latitude               0\n",
       "Longitude              0\n",
       "period                 0\n",
       "total_payment_value    0\n",
       "mean_installment       0\n",
       "favorite_payment       0\n",
       "dtype: int64"
      ]
     },
     "execution_count": 73,
     "metadata": {},
     "output_type": "execute_result"
    }
   ],
   "source": [
    "data.isnull().sum()"
   ]
  },
  {
   "cell_type": "code",
   "execution_count": 74,
   "metadata": {},
   "outputs": [],
   "source": [
    "#On passe au tableau suivant:\n"
   ]
  },
  {
   "cell_type": "code",
   "execution_count": 158,
   "metadata": {},
   "outputs": [
    {
     "data": {
      "text/html": [
       "<div>\n",
       "<style scoped>\n",
       "    .dataframe tbody tr th:only-of-type {\n",
       "        vertical-align: middle;\n",
       "    }\n",
       "\n",
       "    .dataframe tbody tr th {\n",
       "        vertical-align: top;\n",
       "    }\n",
       "\n",
       "    .dataframe thead th {\n",
       "        text-align: right;\n",
       "    }\n",
       "</style>\n",
       "<table border=\"1\" class=\"dataframe\">\n",
       "  <thead>\n",
       "    <tr style=\"text-align: right;\">\n",
       "      <th></th>\n",
       "      <th>order_id</th>\n",
       "      <th>order_item_id</th>\n",
       "      <th>product_id</th>\n",
       "      <th>seller_id</th>\n",
       "      <th>shipping_limit_date</th>\n",
       "      <th>price</th>\n",
       "      <th>freight_value</th>\n",
       "    </tr>\n",
       "  </thead>\n",
       "  <tbody>\n",
       "    <tr>\n",
       "      <th>0</th>\n",
       "      <td>00010242fe8c5a6d1ba2dd792cb16214</td>\n",
       "      <td>1</td>\n",
       "      <td>4244733e06e7ecb4970a6e2683c13e61</td>\n",
       "      <td>48436dade18ac8b2bce089ec2a041202</td>\n",
       "      <td>2017-09-19 09:45:35</td>\n",
       "      <td>58.9</td>\n",
       "      <td>13.29</td>\n",
       "    </tr>\n",
       "    <tr>\n",
       "      <th>1</th>\n",
       "      <td>00018f77f2f0320c557190d7a144bdd3</td>\n",
       "      <td>1</td>\n",
       "      <td>e5f2d52b802189ee658865ca93d83a8f</td>\n",
       "      <td>dd7ddc04e1b6c2c614352b383efe2d36</td>\n",
       "      <td>2017-05-03 11:05:13</td>\n",
       "      <td>239.9</td>\n",
       "      <td>19.93</td>\n",
       "    </tr>\n",
       "  </tbody>\n",
       "</table>\n",
       "</div>"
      ],
      "text/plain": [
       "                           order_id  order_item_id  \\\n",
       "0  00010242fe8c5a6d1ba2dd792cb16214              1   \n",
       "1  00018f77f2f0320c557190d7a144bdd3              1   \n",
       "\n",
       "                         product_id                         seller_id  \\\n",
       "0  4244733e06e7ecb4970a6e2683c13e61  48436dade18ac8b2bce089ec2a041202   \n",
       "1  e5f2d52b802189ee658865ca93d83a8f  dd7ddc04e1b6c2c614352b383efe2d36   \n",
       "\n",
       "   shipping_limit_date  price  freight_value  \n",
       "0  2017-09-19 09:45:35   58.9          13.29  \n",
       "1  2017-05-03 11:05:13  239.9          19.93  "
      ]
     },
     "execution_count": 158,
     "metadata": {},
     "output_type": "execute_result"
    }
   ],
   "source": [
    "items.head(2)"
   ]
  },
  {
   "cell_type": "code",
   "execution_count": 76,
   "metadata": {},
   "outputs": [
    {
     "data": {
      "text/html": [
       "<div>\n",
       "<style scoped>\n",
       "    .dataframe tbody tr th:only-of-type {\n",
       "        vertical-align: middle;\n",
       "    }\n",
       "\n",
       "    .dataframe tbody tr th {\n",
       "        vertical-align: top;\n",
       "    }\n",
       "\n",
       "    .dataframe thead th {\n",
       "        text-align: right;\n",
       "    }\n",
       "</style>\n",
       "<table border=\"1\" class=\"dataframe\">\n",
       "  <thead>\n",
       "    <tr style=\"text-align: right;\">\n",
       "      <th></th>\n",
       "      <th>order_id</th>\n",
       "      <th>order_item_id</th>\n",
       "      <th>product_id</th>\n",
       "      <th>seller_id</th>\n",
       "      <th>shipping_limit_date</th>\n",
       "      <th>price</th>\n",
       "      <th>freight_value</th>\n",
       "    </tr>\n",
       "  </thead>\n",
       "  <tbody>\n",
       "    <tr>\n",
       "      <th>326</th>\n",
       "      <td>00c9f7d4b0e87781465e562dc109f6aa</td>\n",
       "      <td>1</td>\n",
       "      <td>1a0d662b65b5ef08796501b064c853af</td>\n",
       "      <td>2e0dba2da448400b1c11d7b4b22f32a4</td>\n",
       "      <td>2017-05-26 19:25:17</td>\n",
       "      <td>14.99</td>\n",
       "      <td>15.1</td>\n",
       "    </tr>\n",
       "    <tr>\n",
       "      <th>327</th>\n",
       "      <td>00c9f7d4b0e87781465e562dc109f6aa</td>\n",
       "      <td>2</td>\n",
       "      <td>1a0d662b65b5ef08796501b064c853af</td>\n",
       "      <td>2e0dba2da448400b1c11d7b4b22f32a4</td>\n",
       "      <td>2017-05-26 19:25:17</td>\n",
       "      <td>14.99</td>\n",
       "      <td>15.1</td>\n",
       "    </tr>\n",
       "    <tr>\n",
       "      <th>328</th>\n",
       "      <td>00c9f7d4b0e87781465e562dc109f6aa</td>\n",
       "      <td>3</td>\n",
       "      <td>1a0d662b65b5ef08796501b064c853af</td>\n",
       "      <td>2e0dba2da448400b1c11d7b4b22f32a4</td>\n",
       "      <td>2017-05-26 19:25:17</td>\n",
       "      <td>14.99</td>\n",
       "      <td>15.1</td>\n",
       "    </tr>\n",
       "    <tr>\n",
       "      <th>329</th>\n",
       "      <td>00c9f7d4b0e87781465e562dc109f6aa</td>\n",
       "      <td>4</td>\n",
       "      <td>1a0d662b65b5ef08796501b064c853af</td>\n",
       "      <td>2e0dba2da448400b1c11d7b4b22f32a4</td>\n",
       "      <td>2017-05-26 19:25:17</td>\n",
       "      <td>14.99</td>\n",
       "      <td>15.1</td>\n",
       "    </tr>\n",
       "  </tbody>\n",
       "</table>\n",
       "</div>"
      ],
      "text/plain": [
       "                             order_id  order_item_id  \\\n",
       "326  00c9f7d4b0e87781465e562dc109f6aa              1   \n",
       "327  00c9f7d4b0e87781465e562dc109f6aa              2   \n",
       "328  00c9f7d4b0e87781465e562dc109f6aa              3   \n",
       "329  00c9f7d4b0e87781465e562dc109f6aa              4   \n",
       "\n",
       "                           product_id                         seller_id  \\\n",
       "326  1a0d662b65b5ef08796501b064c853af  2e0dba2da448400b1c11d7b4b22f32a4   \n",
       "327  1a0d662b65b5ef08796501b064c853af  2e0dba2da448400b1c11d7b4b22f32a4   \n",
       "328  1a0d662b65b5ef08796501b064c853af  2e0dba2da448400b1c11d7b4b22f32a4   \n",
       "329  1a0d662b65b5ef08796501b064c853af  2e0dba2da448400b1c11d7b4b22f32a4   \n",
       "\n",
       "     shipping_limit_date  price  freight_value  \n",
       "326  2017-05-26 19:25:17  14.99           15.1  \n",
       "327  2017-05-26 19:25:17  14.99           15.1  \n",
       "328  2017-05-26 19:25:17  14.99           15.1  \n",
       "329  2017-05-26 19:25:17  14.99           15.1  "
      ]
     },
     "execution_count": 76,
     "metadata": {},
     "output_type": "execute_result"
    }
   ],
   "source": [
    "items[items.product_id=='1a0d662b65b5ef08796501b064c853af']\n"
   ]
  },
  {
   "cell_type": "code",
   "execution_count": 77,
   "metadata": {},
   "outputs": [
    {
     "data": {
      "text/plain": [
       "order_id               0\n",
       "order_item_id          0\n",
       "product_id             0\n",
       "seller_id              0\n",
       "shipping_limit_date    0\n",
       "price                  0\n",
       "freight_value          0\n",
       "dtype: int64"
      ]
     },
     "execution_count": 77,
     "metadata": {},
     "output_type": "execute_result"
    }
   ],
   "source": [
    "items.isnull().sum()"
   ]
  },
  {
   "cell_type": "code",
   "execution_count": 78,
   "metadata": {},
   "outputs": [
    {
     "name": "stdout",
     "output_type": "stream",
     "text": [
      "98666 99441\n"
     ]
    }
   ],
   "source": [
    "print(len(items.order_id.unique()),len(orders.order_id.unique()))"
   ]
  },
  {
   "cell_type": "code",
   "execution_count": 79,
   "metadata": {},
   "outputs": [],
   "source": [
    "#Ici on va regarder la part moyen du fret dans l'achat pour voir dans quelle mesure un client\n",
    "#se moque complètement du cout d'acheminement du produit\n",
    "#On va regarder également le vendeur favori de chaque client\n",
    "#Et le nombre moyen d'item par order"
   ]
  },
  {
   "cell_type": "code",
   "execution_count": 80,
   "metadata": {},
   "outputs": [],
   "source": [
    "def freight(t):\n",
    "    \"\"\" calcule le pourcentage du prix du fret par order avant la date t\n",
    "    renvois la moyenne de pourcentage sur l'ensemble des commandes\"\"\"\n",
    "    \n",
    "    df=orders[orders.order_purchase_timestamp<t][['order_id','customer_id']]\n",
    "    \n",
    "    df2=pd.merge(items[['order_id','price','freight_value']],df,on='order_id',how='left')\n",
    "    price_order=df2.groupby(['order_id']).aggregate({'price':'sum','freight_value':'sum','customer_id':'first'})\n",
    "    price_order['ratio_freight']=price_order['freight_value']/(price_order['price']+price_order['freight_value'])\n",
    "    \n",
    "    cust_freight=pd.merge(price_order[['customer_id','ratio_freight']],customers[['customer_id','customer_unique_id']],on='customer_id',how='left')\n",
    "    return pd.DataFrame(cust_freight.groupby('customer_unique_id').aggregate({'ratio_freight':'mean'}))"
   ]
  },
  {
   "cell_type": "code",
   "execution_count": 81,
   "metadata": {},
   "outputs": [],
   "source": [
    "a=freight('2021-03-07 21:08:44')"
   ]
  },
  {
   "cell_type": "code",
   "execution_count": 82,
   "metadata": {},
   "outputs": [
    {
     "data": {
      "text/plain": [
       "(95420, 1)"
      ]
     },
     "execution_count": 82,
     "metadata": {},
     "output_type": "execute_result"
    }
   ],
   "source": [
    "a.shape"
   ]
  },
  {
   "cell_type": "code",
   "execution_count": 83,
   "metadata": {},
   "outputs": [
    {
     "data": {
      "text/plain": [
       "775"
      ]
     },
     "execution_count": 83,
     "metadata": {},
     "output_type": "execute_result"
    }
   ],
   "source": [
    "99441-98666"
   ]
  },
  {
   "cell_type": "code",
   "execution_count": 84,
   "metadata": {},
   "outputs": [],
   "source": [
    "#On a donc quelques clients pour lesquels on a pas d'information sur les produits commandés\n",
    "#On supprime ces clients de la base de donnée en joignant les deux tableaux"
   ]
  },
  {
   "cell_type": "code",
   "execution_count": 85,
   "metadata": {},
   "outputs": [],
   "source": [
    "data=pd.merge(data,a,left_index=True,right_index=True,how='right')"
   ]
  },
  {
   "cell_type": "code",
   "execution_count": 86,
   "metadata": {},
   "outputs": [
    {
     "data": {
      "text/plain": [
       "(95420, 11)"
      ]
     },
     "execution_count": 86,
     "metadata": {},
     "output_type": "execute_result"
    }
   ],
   "source": [
    "data.shape"
   ]
  },
  {
   "cell_type": "code",
   "execution_count": 87,
   "metadata": {},
   "outputs": [
    {
     "data": {
      "text/html": [
       "<div>\n",
       "<style scoped>\n",
       "    .dataframe tbody tr th:only-of-type {\n",
       "        vertical-align: middle;\n",
       "    }\n",
       "\n",
       "    .dataframe tbody tr th {\n",
       "        vertical-align: top;\n",
       "    }\n",
       "\n",
       "    .dataframe thead th {\n",
       "        text-align: right;\n",
       "    }\n",
       "</style>\n",
       "<table border=\"1\" class=\"dataframe\">\n",
       "  <thead>\n",
       "    <tr style=\"text-align: right;\">\n",
       "      <th></th>\n",
       "      <th>first_order</th>\n",
       "      <th>last_order</th>\n",
       "      <th>number_of_orders</th>\n",
       "      <th>state</th>\n",
       "      <th>Latitude</th>\n",
       "      <th>Longitude</th>\n",
       "      <th>period</th>\n",
       "      <th>total_payment_value</th>\n",
       "      <th>mean_installment</th>\n",
       "      <th>favorite_payment</th>\n",
       "      <th>ratio_freight</th>\n",
       "    </tr>\n",
       "    <tr>\n",
       "      <th>customer_unique_id</th>\n",
       "      <th></th>\n",
       "      <th></th>\n",
       "      <th></th>\n",
       "      <th></th>\n",
       "      <th></th>\n",
       "      <th></th>\n",
       "      <th></th>\n",
       "      <th></th>\n",
       "      <th></th>\n",
       "      <th></th>\n",
       "      <th></th>\n",
       "    </tr>\n",
       "  </thead>\n",
       "  <tbody>\n",
       "    <tr>\n",
       "      <th>0000366f3b9a7992bf8c76cfdf3221e2</th>\n",
       "      <td>2018-05-10 10:56:27</td>\n",
       "      <td>2018-05-10 10:56:27</td>\n",
       "      <td>1.0</td>\n",
       "      <td>SP</td>\n",
       "      <td>-23.340235</td>\n",
       "      <td>-46.830140</td>\n",
       "      <td>morning</td>\n",
       "      <td>141.90</td>\n",
       "      <td>17.7375</td>\n",
       "      <td>credit_card</td>\n",
       "      <td>0.084567</td>\n",
       "    </tr>\n",
       "    <tr>\n",
       "      <th>0000b849f77a49e4a4ce2b2a4ca5be3f</th>\n",
       "      <td>2018-05-07 11:11:27</td>\n",
       "      <td>2018-05-07 11:11:27</td>\n",
       "      <td>1.0</td>\n",
       "      <td>SP</td>\n",
       "      <td>-23.559115</td>\n",
       "      <td>-46.787626</td>\n",
       "      <td>morning</td>\n",
       "      <td>27.19</td>\n",
       "      <td>27.1900</td>\n",
       "      <td>credit_card</td>\n",
       "      <td>0.304892</td>\n",
       "    </tr>\n",
       "    <tr>\n",
       "      <th>0000f46a3911fa3c0805444483337064</th>\n",
       "      <td>2017-03-10 21:05:03</td>\n",
       "      <td>2017-03-10 21:05:03</td>\n",
       "      <td>1.0</td>\n",
       "      <td>SC</td>\n",
       "      <td>-27.542880</td>\n",
       "      <td>-48.633426</td>\n",
       "      <td>evening</td>\n",
       "      <td>86.22</td>\n",
       "      <td>10.7775</td>\n",
       "      <td>credit_card</td>\n",
       "      <td>0.199722</td>\n",
       "    </tr>\n",
       "    <tr>\n",
       "      <th>0000f6ccb0745a6a4b88665a16c9f078</th>\n",
       "      <td>2017-10-12 20:29:41</td>\n",
       "      <td>2017-10-12 20:29:41</td>\n",
       "      <td>1.0</td>\n",
       "      <td>PA</td>\n",
       "      <td>-1.312214</td>\n",
       "      <td>-48.483159</td>\n",
       "      <td>evening</td>\n",
       "      <td>43.62</td>\n",
       "      <td>10.9050</td>\n",
       "      <td>credit_card</td>\n",
       "      <td>0.404172</td>\n",
       "    </tr>\n",
       "    <tr>\n",
       "      <th>0004aac84e0df4da2b147fca70cf8255</th>\n",
       "      <td>2017-11-14 19:45:42</td>\n",
       "      <td>2017-11-14 19:45:42</td>\n",
       "      <td>1.0</td>\n",
       "      <td>SP</td>\n",
       "      <td>-23.505548</td>\n",
       "      <td>-47.469705</td>\n",
       "      <td>evening</td>\n",
       "      <td>196.89</td>\n",
       "      <td>32.8150</td>\n",
       "      <td>credit_card</td>\n",
       "      <td>0.085784</td>\n",
       "    </tr>\n",
       "  </tbody>\n",
       "</table>\n",
       "</div>"
      ],
      "text/plain": [
       "                                         first_order          last_order  \\\n",
       "customer_unique_id                                                         \n",
       "0000366f3b9a7992bf8c76cfdf3221e2 2018-05-10 10:56:27 2018-05-10 10:56:27   \n",
       "0000b849f77a49e4a4ce2b2a4ca5be3f 2018-05-07 11:11:27 2018-05-07 11:11:27   \n",
       "0000f46a3911fa3c0805444483337064 2017-03-10 21:05:03 2017-03-10 21:05:03   \n",
       "0000f6ccb0745a6a4b88665a16c9f078 2017-10-12 20:29:41 2017-10-12 20:29:41   \n",
       "0004aac84e0df4da2b147fca70cf8255 2017-11-14 19:45:42 2017-11-14 19:45:42   \n",
       "\n",
       "                                  number_of_orders state   Latitude  \\\n",
       "customer_unique_id                                                    \n",
       "0000366f3b9a7992bf8c76cfdf3221e2               1.0    SP -23.340235   \n",
       "0000b849f77a49e4a4ce2b2a4ca5be3f               1.0    SP -23.559115   \n",
       "0000f46a3911fa3c0805444483337064               1.0    SC -27.542880   \n",
       "0000f6ccb0745a6a4b88665a16c9f078               1.0    PA  -1.312214   \n",
       "0004aac84e0df4da2b147fca70cf8255               1.0    SP -23.505548   \n",
       "\n",
       "                                  Longitude   period  total_payment_value  \\\n",
       "customer_unique_id                                                          \n",
       "0000366f3b9a7992bf8c76cfdf3221e2 -46.830140  morning               141.90   \n",
       "0000b849f77a49e4a4ce2b2a4ca5be3f -46.787626  morning                27.19   \n",
       "0000f46a3911fa3c0805444483337064 -48.633426  evening                86.22   \n",
       "0000f6ccb0745a6a4b88665a16c9f078 -48.483159  evening                43.62   \n",
       "0004aac84e0df4da2b147fca70cf8255 -47.469705  evening               196.89   \n",
       "\n",
       "                                  mean_installment favorite_payment  \\\n",
       "customer_unique_id                                                    \n",
       "0000366f3b9a7992bf8c76cfdf3221e2           17.7375      credit_card   \n",
       "0000b849f77a49e4a4ce2b2a4ca5be3f           27.1900      credit_card   \n",
       "0000f46a3911fa3c0805444483337064           10.7775      credit_card   \n",
       "0000f6ccb0745a6a4b88665a16c9f078           10.9050      credit_card   \n",
       "0004aac84e0df4da2b147fca70cf8255           32.8150      credit_card   \n",
       "\n",
       "                                  ratio_freight  \n",
       "customer_unique_id                               \n",
       "0000366f3b9a7992bf8c76cfdf3221e2       0.084567  \n",
       "0000b849f77a49e4a4ce2b2a4ca5be3f       0.304892  \n",
       "0000f46a3911fa3c0805444483337064       0.199722  \n",
       "0000f6ccb0745a6a4b88665a16c9f078       0.404172  \n",
       "0004aac84e0df4da2b147fca70cf8255       0.085784  "
      ]
     },
     "execution_count": 87,
     "metadata": {},
     "output_type": "execute_result"
    }
   ],
   "source": [
    "data.head()"
   ]
  },
  {
   "cell_type": "code",
   "execution_count": 88,
   "metadata": {},
   "outputs": [
    {
     "data": {
      "text/plain": [
       "first_order            1\n",
       "last_order             1\n",
       "number_of_orders       1\n",
       "state                  1\n",
       "Latitude               1\n",
       "Longitude              1\n",
       "period                 1\n",
       "total_payment_value    1\n",
       "mean_installment       1\n",
       "favorite_payment       1\n",
       "ratio_freight          0\n",
       "dtype: int64"
      ]
     },
     "execution_count": 88,
     "metadata": {},
     "output_type": "execute_result"
    }
   ],
   "source": [
    "data.isnull().sum()"
   ]
  },
  {
   "cell_type": "code",
   "execution_count": 89,
   "metadata": {},
   "outputs": [],
   "source": [
    "#l'une des transactions éliminée auparavant est incluse dans les items, on la supprime:\n",
    "data.dropna(how='any',inplace=True)"
   ]
  },
  {
   "cell_type": "code",
   "execution_count": 90,
   "metadata": {},
   "outputs": [
    {
     "data": {
      "text/plain": [
       "(95419, 11)"
      ]
     },
     "execution_count": 90,
     "metadata": {},
     "output_type": "execute_result"
    }
   ],
   "source": [
    "data.shape"
   ]
  },
  {
   "cell_type": "code",
   "execution_count": 91,
   "metadata": {},
   "outputs": [],
   "source": [
    "def item(t):\n",
    "    \"\"\" calcule le nombre moyen d'item par order\n",
    "    renvois la moyenne sur l'ensemble des commandes\"\"\"\n",
    "    \n",
    "    df=orders[orders.order_purchase_timestamp<t][['order_id','customer_id']]\n",
    "    \n",
    "    df2=pd.merge(items[['order_id','product_id']],df,on='order_id',how='left')\n",
    "    \n",
    "    item_order=df2.groupby(['order_id']).aggregate({'product_id':'count','customer_id':'first'})\n",
    "    \n",
    "    cust_item_order=pd.merge(item_order[['customer_id','product_id']],customers[['customer_id','customer_unique_id']],on='customer_id',how='left')\n",
    "    \n",
    "    return pd.DataFrame(cust_item_order.groupby('customer_unique_id').aggregate({'product_id':'mean'}))"
   ]
  },
  {
   "cell_type": "code",
   "execution_count": 92,
   "metadata": {},
   "outputs": [
    {
     "data": {
      "text/html": [
       "<div>\n",
       "<style scoped>\n",
       "    .dataframe tbody tr th:only-of-type {\n",
       "        vertical-align: middle;\n",
       "    }\n",
       "\n",
       "    .dataframe tbody tr th {\n",
       "        vertical-align: top;\n",
       "    }\n",
       "\n",
       "    .dataframe thead th {\n",
       "        text-align: right;\n",
       "    }\n",
       "</style>\n",
       "<table border=\"1\" class=\"dataframe\">\n",
       "  <thead>\n",
       "    <tr style=\"text-align: right;\">\n",
       "      <th></th>\n",
       "      <th>product_id</th>\n",
       "    </tr>\n",
       "    <tr>\n",
       "      <th>customer_unique_id</th>\n",
       "      <th></th>\n",
       "    </tr>\n",
       "  </thead>\n",
       "  <tbody>\n",
       "    <tr>\n",
       "      <th>0000366f3b9a7992bf8c76cfdf3221e2</th>\n",
       "      <td>1.0</td>\n",
       "    </tr>\n",
       "    <tr>\n",
       "      <th>0000b849f77a49e4a4ce2b2a4ca5be3f</th>\n",
       "      <td>1.0</td>\n",
       "    </tr>\n",
       "    <tr>\n",
       "      <th>0000f46a3911fa3c0805444483337064</th>\n",
       "      <td>1.0</td>\n",
       "    </tr>\n",
       "    <tr>\n",
       "      <th>0000f6ccb0745a6a4b88665a16c9f078</th>\n",
       "      <td>1.0</td>\n",
       "    </tr>\n",
       "    <tr>\n",
       "      <th>0004aac84e0df4da2b147fca70cf8255</th>\n",
       "      <td>1.0</td>\n",
       "    </tr>\n",
       "    <tr>\n",
       "      <th>...</th>\n",
       "      <td>...</td>\n",
       "    </tr>\n",
       "    <tr>\n",
       "      <th>fffcf5a5ff07b0908bd4e2dbc735a684</th>\n",
       "      <td>2.0</td>\n",
       "    </tr>\n",
       "    <tr>\n",
       "      <th>fffea47cd6d3cc0a88bd621562a9d061</th>\n",
       "      <td>1.0</td>\n",
       "    </tr>\n",
       "    <tr>\n",
       "      <th>ffff371b4d645b6ecea244b27531430a</th>\n",
       "      <td>1.0</td>\n",
       "    </tr>\n",
       "    <tr>\n",
       "      <th>ffff5962728ec6157033ef9805bacc48</th>\n",
       "      <td>1.0</td>\n",
       "    </tr>\n",
       "    <tr>\n",
       "      <th>ffffd2657e2aad2907e67c3e9daecbeb</th>\n",
       "      <td>1.0</td>\n",
       "    </tr>\n",
       "  </tbody>\n",
       "</table>\n",
       "<p>95420 rows × 1 columns</p>\n",
       "</div>"
      ],
      "text/plain": [
       "                                  product_id\n",
       "customer_unique_id                          \n",
       "0000366f3b9a7992bf8c76cfdf3221e2         1.0\n",
       "0000b849f77a49e4a4ce2b2a4ca5be3f         1.0\n",
       "0000f46a3911fa3c0805444483337064         1.0\n",
       "0000f6ccb0745a6a4b88665a16c9f078         1.0\n",
       "0004aac84e0df4da2b147fca70cf8255         1.0\n",
       "...                                      ...\n",
       "fffcf5a5ff07b0908bd4e2dbc735a684         2.0\n",
       "fffea47cd6d3cc0a88bd621562a9d061         1.0\n",
       "ffff371b4d645b6ecea244b27531430a         1.0\n",
       "ffff5962728ec6157033ef9805bacc48         1.0\n",
       "ffffd2657e2aad2907e67c3e9daecbeb         1.0\n",
       "\n",
       "[95420 rows x 1 columns]"
      ]
     },
     "execution_count": 92,
     "metadata": {},
     "output_type": "execute_result"
    }
   ],
   "source": [
    "item('2021-03-07 21:08:44')"
   ]
  },
  {
   "cell_type": "code",
   "execution_count": 93,
   "metadata": {},
   "outputs": [],
   "source": [
    "data=data.join(item('2021-03-07 21:08:44'))"
   ]
  },
  {
   "cell_type": "code",
   "execution_count": 94,
   "metadata": {},
   "outputs": [],
   "source": [
    "def favorite_seller(t):\n",
    "    \"\"\" calcule les achats par vendeur et renvois le vendeur avec le total maximum \"\"\"\n",
    "    \n",
    "    df=orders[orders.order_purchase_timestamp<t][['order_id','customer_id']]\n",
    "    df2=pd.merge(items[['order_id','seller_id','price']],df,on='order_id',how='left')\n",
    "    price_per_seller=df2.groupby(['order_id','seller_id']).aggregate({'price':'sum','customer_id':'first'})\n",
    "    price_per_seller=price_per_seller.reset_index()\n",
    "    order_top_seller=price_per_seller.groupby('order_id').apply(lambda x: x.loc[x['price']==x['price'].max()])\n",
    "    cust_seller=pd.DataFrame(pd.merge(order_top_seller,customers[['customer_id','customer_unique_id']],on='customer_id',how='left'))\n",
    "    \n",
    "    final=cust_seller[['price','customer_unique_id','seller_id']].groupby('customer_unique_id')\\\n",
    ".apply(lambda x: x.loc[x['price']==x['price'].max()])[['seller_id']].reset_index()\n",
    "    #Au cas où 2 vendeurs vendent pour le même montant, on en garde un seul des deux\n",
    "    final=final[-final.duplicated('customer_unique_id')][['customer_unique_id','seller_id']]\n",
    "    return final.set_index('customer_unique_id')"
   ]
  },
  {
   "cell_type": "code",
   "execution_count": 95,
   "metadata": {},
   "outputs": [],
   "source": [
    "fs=favorite_seller('2021-03-07 21:08:44')"
   ]
  },
  {
   "cell_type": "code",
   "execution_count": 96,
   "metadata": {},
   "outputs": [
    {
     "name": "stdout",
     "output_type": "stream",
     "text": [
      "(95420, 1)\n"
     ]
    }
   ],
   "source": [
    "print(fs.shape)"
   ]
  },
  {
   "cell_type": "code",
   "execution_count": 97,
   "metadata": {},
   "outputs": [],
   "source": [
    "#ça colle, on joint:"
   ]
  },
  {
   "cell_type": "code",
   "execution_count": 98,
   "metadata": {},
   "outputs": [],
   "source": [
    "data=data.join(fs)"
   ]
  },
  {
   "cell_type": "code",
   "execution_count": 99,
   "metadata": {},
   "outputs": [
    {
     "data": {
      "text/plain": [
       "(95419, 13)"
      ]
     },
     "execution_count": 99,
     "metadata": {},
     "output_type": "execute_result"
    }
   ],
   "source": [
    "data.shape"
   ]
  },
  {
   "cell_type": "code",
   "execution_count": 100,
   "metadata": {},
   "outputs": [
    {
     "data": {
      "text/plain": [
       "first_order            0\n",
       "last_order             0\n",
       "number_of_orders       0\n",
       "state                  0\n",
       "Latitude               0\n",
       "Longitude              0\n",
       "period                 0\n",
       "total_payment_value    0\n",
       "mean_installment       0\n",
       "favorite_payment       0\n",
       "ratio_freight          0\n",
       "product_id             0\n",
       "seller_id              0\n",
       "dtype: int64"
      ]
     },
     "execution_count": 100,
     "metadata": {},
     "output_type": "execute_result"
    }
   ],
   "source": [
    "data.isnull().sum()"
   ]
  },
  {
   "cell_type": "code",
   "execution_count": 159,
   "metadata": {},
   "outputs": [
    {
     "data": {
      "text/html": [
       "<div>\n",
       "<style scoped>\n",
       "    .dataframe tbody tr th:only-of-type {\n",
       "        vertical-align: middle;\n",
       "    }\n",
       "\n",
       "    .dataframe tbody tr th {\n",
       "        vertical-align: top;\n",
       "    }\n",
       "\n",
       "    .dataframe thead th {\n",
       "        text-align: right;\n",
       "    }\n",
       "</style>\n",
       "<table border=\"1\" class=\"dataframe\">\n",
       "  <thead>\n",
       "    <tr style=\"text-align: right;\">\n",
       "      <th></th>\n",
       "      <th>product_id</th>\n",
       "      <th>product_category_name</th>\n",
       "      <th>product_name_lenght</th>\n",
       "      <th>product_description_lenght</th>\n",
       "      <th>product_photos_qty</th>\n",
       "      <th>product_weight_g</th>\n",
       "      <th>product_length_cm</th>\n",
       "      <th>product_height_cm</th>\n",
       "      <th>product_width_cm</th>\n",
       "    </tr>\n",
       "  </thead>\n",
       "  <tbody>\n",
       "    <tr>\n",
       "      <th>0</th>\n",
       "      <td>1e9e8ef04dbcff4541ed26657ea517e5</td>\n",
       "      <td>perfumaria</td>\n",
       "      <td>40.0</td>\n",
       "      <td>287.0</td>\n",
       "      <td>1.0</td>\n",
       "      <td>225.0</td>\n",
       "      <td>16.0</td>\n",
       "      <td>10.0</td>\n",
       "      <td>14.0</td>\n",
       "    </tr>\n",
       "    <tr>\n",
       "      <th>1</th>\n",
       "      <td>3aa071139cb16b67ca9e5dea641aaa2f</td>\n",
       "      <td>artes</td>\n",
       "      <td>44.0</td>\n",
       "      <td>276.0</td>\n",
       "      <td>1.0</td>\n",
       "      <td>1000.0</td>\n",
       "      <td>30.0</td>\n",
       "      <td>18.0</td>\n",
       "      <td>20.0</td>\n",
       "    </tr>\n",
       "    <tr>\n",
       "      <th>2</th>\n",
       "      <td>96bd76ec8810374ed1b65e291975717f</td>\n",
       "      <td>esporte_lazer</td>\n",
       "      <td>46.0</td>\n",
       "      <td>250.0</td>\n",
       "      <td>1.0</td>\n",
       "      <td>154.0</td>\n",
       "      <td>18.0</td>\n",
       "      <td>9.0</td>\n",
       "      <td>15.0</td>\n",
       "    </tr>\n",
       "  </tbody>\n",
       "</table>\n",
       "</div>"
      ],
      "text/plain": [
       "                         product_id product_category_name  \\\n",
       "0  1e9e8ef04dbcff4541ed26657ea517e5            perfumaria   \n",
       "1  3aa071139cb16b67ca9e5dea641aaa2f                 artes   \n",
       "2  96bd76ec8810374ed1b65e291975717f         esporte_lazer   \n",
       "\n",
       "   product_name_lenght  product_description_lenght  product_photos_qty  \\\n",
       "0                 40.0                       287.0                 1.0   \n",
       "1                 44.0                       276.0                 1.0   \n",
       "2                 46.0                       250.0                 1.0   \n",
       "\n",
       "   product_weight_g  product_length_cm  product_height_cm  product_width_cm  \n",
       "0             225.0               16.0               10.0              14.0  \n",
       "1            1000.0               30.0               18.0              20.0  \n",
       "2             154.0               18.0                9.0              15.0  "
      ]
     },
     "execution_count": 159,
     "metadata": {},
     "output_type": "execute_result"
    }
   ],
   "source": [
    "#Pour les informations que l'on peut tirer des autres colonnes (order_items et product)\n",
    "#on va voir les autres tableaux\n",
    "products.head(3)"
   ]
  },
  {
   "cell_type": "code",
   "execution_count": 102,
   "metadata": {},
   "outputs": [
    {
     "data": {
      "text/plain": [
       "product_id                      0\n",
       "product_category_name         610\n",
       "product_name_lenght           610\n",
       "product_description_lenght    610\n",
       "product_photos_qty            610\n",
       "product_weight_g                2\n",
       "product_length_cm               2\n",
       "product_height_cm               2\n",
       "product_width_cm                2\n",
       "dtype: int64"
      ]
     },
     "execution_count": 102,
     "metadata": {},
     "output_type": "execute_result"
    }
   ],
   "source": [
    "products.isnull().sum()"
   ]
  },
  {
   "cell_type": "code",
   "execution_count": 103,
   "metadata": {},
   "outputs": [],
   "source": [
    "#impossible de retrouver le nom de la catégoriesi elle n'est pas disponible, on va donc en créer une nouvelle:\n",
    "#unknown\n",
    "products['product_category_name']=products['product_category_name'].fillna('unknown')"
   ]
  },
  {
   "cell_type": "code",
   "execution_count": 104,
   "metadata": {},
   "outputs": [
    {
     "data": {
      "text/plain": [
       "product_id                      0\n",
       "product_category_name           0\n",
       "product_name_lenght           610\n",
       "product_description_lenght    610\n",
       "product_photos_qty            610\n",
       "product_weight_g                2\n",
       "product_length_cm               2\n",
       "product_height_cm               2\n",
       "product_width_cm                2\n",
       "dtype: int64"
      ]
     },
     "execution_count": 104,
     "metadata": {},
     "output_type": "execute_result"
    }
   ],
   "source": [
    "products.isnull().sum()"
   ]
  },
  {
   "cell_type": "code",
   "execution_count": 105,
   "metadata": {},
   "outputs": [
    {
     "data": {
      "text/plain": [
       "(32951, 9)"
      ]
     },
     "execution_count": 105,
     "metadata": {},
     "output_type": "execute_result"
    }
   ],
   "source": [
    "products.shape"
   ]
  },
  {
   "cell_type": "code",
   "execution_count": 106,
   "metadata": {},
   "outputs": [],
   "source": [
    "#On va extraire la catégorie préférée avec les tableaux précédents\n",
    "#Le nombre de catégories d'achat différentes\n",
    "#On va regarder le poids des produits pour le transport pour des considérations écologiques"
   ]
  },
  {
   "cell_type": "code",
   "execution_count": 107,
   "metadata": {},
   "outputs": [],
   "source": [
    "def categories(t):\n",
    "    \"\"\" calcule le nombre de catégories différentes avant la date t\\n\\\n",
    "    retourne un dataframe avec en indice les customer_unique_id et en feature le nombre\"\"\"\n",
    "    \n",
    "    df=orders[orders.order_purchase_timestamp<t][['order_id','customer_id']]\n",
    "    \n",
    "    df2=pd.merge(df,items[['order_id','product_id']],on='order_id',how='right')\n",
    "    \n",
    "    df3=pd.merge(df2,products[['product_id','product_category_name']],on='product_id',how='left')\n",
    "    \n",
    "    final=pd.merge(df3,customers[['customer_id','customer_unique_id']],on='customer_id',how='left')\n",
    "    \n",
    "    g=final.groupby('customer_unique_id').agg(nb_of_category=('product_category_name',lambda x: len(x.value_counts())))\n",
    "    \n",
    "    return pd.DataFrame(g)"
   ]
  },
  {
   "cell_type": "code",
   "execution_count": 108,
   "metadata": {},
   "outputs": [],
   "source": [
    "def favorite_cat(t):\n",
    "    \"\"\" calcule les achats par catégorie et renvois la catégorie avec le total maximum \"\"\"\n",
    "    \n",
    "    df=orders[orders.order_purchase_timestamp<'2021-03-07 21:08:44'][['order_id','customer_id']]\n",
    "    \n",
    "    df2=pd.merge(df,items[['order_id','product_id','price']],on='order_id',how='right')\n",
    "    \n",
    "    df3=pd.merge(df2,products[['product_id','product_category_name']],on='product_id',how='left').drop('product_id',axis=1)\n",
    "    \n",
    "    price_per_product=df3.groupby(['order_id','product_category_name']).aggregate({'price':'sum','customer_id':'first'})\n",
    "    \n",
    "    order_top_cat=price_per_product.reset_index().groupby('order_id',group_keys=False).apply(lambda x: x.loc[x['price']==x['price'].max()])\n",
    "    \n",
    "    cust_cat=pd.merge(order_top_cat[['customer_id','product_category_name','price']],customers[['customer_id','customer_unique_id']],on='customer_id',how='left')\n",
    "    \n",
    "    final=cust_cat.reset_index().groupby('customer_unique_id').apply(lambda x: x.loc[x['price']==x['price'].max()])[['product_category_name']].reset_index()\n",
    "\n",
    "    #Au cas où 2 catégorie sont à égalité, on en garde une seule des deux\n",
    "    final=final[-final.duplicated('customer_unique_id')][['customer_unique_id','product_category_name']]\n",
    "    \n",
    "    return final.set_index('customer_unique_id')\n"
   ]
  },
  {
   "cell_type": "code",
   "execution_count": 109,
   "metadata": {},
   "outputs": [],
   "source": [
    "b=categories('2021-03-07 21:08:44')"
   ]
  },
  {
   "cell_type": "code",
   "execution_count": 110,
   "metadata": {},
   "outputs": [],
   "source": [
    "c=favorite_cat('2021-03-07 21:08:44')"
   ]
  },
  {
   "cell_type": "code",
   "execution_count": null,
   "metadata": {},
   "outputs": [],
   "source": []
  },
  {
   "cell_type": "code",
   "execution_count": 111,
   "metadata": {},
   "outputs": [
    {
     "name": "stdout",
     "output_type": "stream",
     "text": [
      "(95420, 1) nb_of_category    0\n",
      "dtype: int64 (95420, 1) product_category_name    0\n",
      "dtype: int64\n"
     ]
    }
   ],
   "source": [
    "print(b.shape,b.isnull().sum(),c.shape,c.isnull().sum())"
   ]
  },
  {
   "cell_type": "code",
   "execution_count": 112,
   "metadata": {},
   "outputs": [
    {
     "data": {
      "text/plain": [
       "array([1, 2, 3, 4, 5])"
      ]
     },
     "execution_count": 112,
     "metadata": {},
     "output_type": "execute_result"
    }
   ],
   "source": [
    "b.nb_of_category.unique()"
   ]
  },
  {
   "cell_type": "code",
   "execution_count": 113,
   "metadata": {},
   "outputs": [
    {
     "data": {
      "text/html": [
       "<div>\n",
       "<style scoped>\n",
       "    .dataframe tbody tr th:only-of-type {\n",
       "        vertical-align: middle;\n",
       "    }\n",
       "\n",
       "    .dataframe tbody tr th {\n",
       "        vertical-align: top;\n",
       "    }\n",
       "\n",
       "    .dataframe thead th {\n",
       "        text-align: right;\n",
       "    }\n",
       "</style>\n",
       "<table border=\"1\" class=\"dataframe\">\n",
       "  <thead>\n",
       "    <tr style=\"text-align: right;\">\n",
       "      <th></th>\n",
       "      <th>product_category_name</th>\n",
       "    </tr>\n",
       "    <tr>\n",
       "      <th>customer_unique_id</th>\n",
       "      <th></th>\n",
       "    </tr>\n",
       "  </thead>\n",
       "  <tbody>\n",
       "    <tr>\n",
       "      <th>0000366f3b9a7992bf8c76cfdf3221e2</th>\n",
       "      <td>cama_mesa_banho</td>\n",
       "    </tr>\n",
       "    <tr>\n",
       "      <th>0000b849f77a49e4a4ce2b2a4ca5be3f</th>\n",
       "      <td>beleza_saude</td>\n",
       "    </tr>\n",
       "    <tr>\n",
       "      <th>0000f46a3911fa3c0805444483337064</th>\n",
       "      <td>papelaria</td>\n",
       "    </tr>\n",
       "    <tr>\n",
       "      <th>0000f6ccb0745a6a4b88665a16c9f078</th>\n",
       "      <td>telefonia</td>\n",
       "    </tr>\n",
       "    <tr>\n",
       "      <th>0004aac84e0df4da2b147fca70cf8255</th>\n",
       "      <td>telefonia</td>\n",
       "    </tr>\n",
       "    <tr>\n",
       "      <th>...</th>\n",
       "      <td>...</td>\n",
       "    </tr>\n",
       "    <tr>\n",
       "      <th>fffcf5a5ff07b0908bd4e2dbc735a684</th>\n",
       "      <td>beleza_saude</td>\n",
       "    </tr>\n",
       "    <tr>\n",
       "      <th>fffea47cd6d3cc0a88bd621562a9d061</th>\n",
       "      <td>bebes</td>\n",
       "    </tr>\n",
       "    <tr>\n",
       "      <th>ffff371b4d645b6ecea244b27531430a</th>\n",
       "      <td>automotivo</td>\n",
       "    </tr>\n",
       "    <tr>\n",
       "      <th>ffff5962728ec6157033ef9805bacc48</th>\n",
       "      <td>relogios_presentes</td>\n",
       "    </tr>\n",
       "    <tr>\n",
       "      <th>ffffd2657e2aad2907e67c3e9daecbeb</th>\n",
       "      <td>perfumaria</td>\n",
       "    </tr>\n",
       "  </tbody>\n",
       "</table>\n",
       "<p>95420 rows × 1 columns</p>\n",
       "</div>"
      ],
      "text/plain": [
       "                                 product_category_name\n",
       "customer_unique_id                                    \n",
       "0000366f3b9a7992bf8c76cfdf3221e2       cama_mesa_banho\n",
       "0000b849f77a49e4a4ce2b2a4ca5be3f          beleza_saude\n",
       "0000f46a3911fa3c0805444483337064             papelaria\n",
       "0000f6ccb0745a6a4b88665a16c9f078             telefonia\n",
       "0004aac84e0df4da2b147fca70cf8255             telefonia\n",
       "...                                                ...\n",
       "fffcf5a5ff07b0908bd4e2dbc735a684          beleza_saude\n",
       "fffea47cd6d3cc0a88bd621562a9d061                 bebes\n",
       "ffff371b4d645b6ecea244b27531430a            automotivo\n",
       "ffff5962728ec6157033ef9805bacc48    relogios_presentes\n",
       "ffffd2657e2aad2907e67c3e9daecbeb            perfumaria\n",
       "\n",
       "[95420 rows x 1 columns]"
      ]
     },
     "execution_count": 113,
     "metadata": {},
     "output_type": "execute_result"
    }
   ],
   "source": [
    "c"
   ]
  },
  {
   "cell_type": "code",
   "execution_count": 114,
   "metadata": {},
   "outputs": [
    {
     "data": {
      "text/plain": [
       "first_order            0\n",
       "last_order             0\n",
       "number_of_orders       0\n",
       "state                  0\n",
       "Latitude               0\n",
       "Longitude              0\n",
       "period                 0\n",
       "total_payment_value    0\n",
       "mean_installment       0\n",
       "favorite_payment       0\n",
       "ratio_freight          0\n",
       "product_id             0\n",
       "seller_id              0\n",
       "nb_of_category         0\n",
       "dtype: int64"
      ]
     },
     "execution_count": 114,
     "metadata": {},
     "output_type": "execute_result"
    }
   ],
   "source": [
    "data.join(b).isnull().sum()"
   ]
  },
  {
   "cell_type": "code",
   "execution_count": 115,
   "metadata": {},
   "outputs": [],
   "source": [
    "data=data.join(b)"
   ]
  },
  {
   "cell_type": "code",
   "execution_count": 116,
   "metadata": {},
   "outputs": [
    {
     "data": {
      "text/plain": [
       "first_order              0\n",
       "last_order               0\n",
       "number_of_orders         0\n",
       "state                    0\n",
       "Latitude                 0\n",
       "Longitude                0\n",
       "period                   0\n",
       "total_payment_value      0\n",
       "mean_installment         0\n",
       "favorite_payment         0\n",
       "ratio_freight            0\n",
       "product_id               0\n",
       "seller_id                0\n",
       "nb_of_category           0\n",
       "product_category_name    0\n",
       "dtype: int64"
      ]
     },
     "execution_count": 116,
     "metadata": {},
     "output_type": "execute_result"
    }
   ],
   "source": [
    "data.join(c).isnull().sum()"
   ]
  },
  {
   "cell_type": "code",
   "execution_count": 117,
   "metadata": {},
   "outputs": [],
   "source": [
    "data=data.join(c)"
   ]
  },
  {
   "cell_type": "code",
   "execution_count": 118,
   "metadata": {},
   "outputs": [
    {
     "data": {
      "text/html": [
       "<div>\n",
       "<style scoped>\n",
       "    .dataframe tbody tr th:only-of-type {\n",
       "        vertical-align: middle;\n",
       "    }\n",
       "\n",
       "    .dataframe tbody tr th {\n",
       "        vertical-align: top;\n",
       "    }\n",
       "\n",
       "    .dataframe thead th {\n",
       "        text-align: right;\n",
       "    }\n",
       "</style>\n",
       "<table border=\"1\" class=\"dataframe\">\n",
       "  <thead>\n",
       "    <tr style=\"text-align: right;\">\n",
       "      <th></th>\n",
       "      <th>first_order</th>\n",
       "      <th>last_order</th>\n",
       "      <th>number_of_orders</th>\n",
       "      <th>state</th>\n",
       "      <th>Latitude</th>\n",
       "      <th>Longitude</th>\n",
       "      <th>period</th>\n",
       "      <th>total_payment_value</th>\n",
       "      <th>mean_installment</th>\n",
       "      <th>favorite_payment</th>\n",
       "      <th>ratio_freight</th>\n",
       "      <th>product_id</th>\n",
       "      <th>seller_id</th>\n",
       "      <th>nb_of_category</th>\n",
       "      <th>product_category_name</th>\n",
       "    </tr>\n",
       "    <tr>\n",
       "      <th>customer_unique_id</th>\n",
       "      <th></th>\n",
       "      <th></th>\n",
       "      <th></th>\n",
       "      <th></th>\n",
       "      <th></th>\n",
       "      <th></th>\n",
       "      <th></th>\n",
       "      <th></th>\n",
       "      <th></th>\n",
       "      <th></th>\n",
       "      <th></th>\n",
       "      <th></th>\n",
       "      <th></th>\n",
       "      <th></th>\n",
       "      <th></th>\n",
       "    </tr>\n",
       "  </thead>\n",
       "  <tbody>\n",
       "    <tr>\n",
       "      <th>0000366f3b9a7992bf8c76cfdf3221e2</th>\n",
       "      <td>2018-05-10 10:56:27</td>\n",
       "      <td>2018-05-10 10:56:27</td>\n",
       "      <td>1.0</td>\n",
       "      <td>SP</td>\n",
       "      <td>-23.340235</td>\n",
       "      <td>-46.830140</td>\n",
       "      <td>morning</td>\n",
       "      <td>141.90</td>\n",
       "      <td>17.7375</td>\n",
       "      <td>credit_card</td>\n",
       "      <td>0.084567</td>\n",
       "      <td>1.0</td>\n",
       "      <td>da8622b14eb17ae2831f4ac5b9dab84a</td>\n",
       "      <td>1</td>\n",
       "      <td>cama_mesa_banho</td>\n",
       "    </tr>\n",
       "    <tr>\n",
       "      <th>0000b849f77a49e4a4ce2b2a4ca5be3f</th>\n",
       "      <td>2018-05-07 11:11:27</td>\n",
       "      <td>2018-05-07 11:11:27</td>\n",
       "      <td>1.0</td>\n",
       "      <td>SP</td>\n",
       "      <td>-23.559115</td>\n",
       "      <td>-46.787626</td>\n",
       "      <td>morning</td>\n",
       "      <td>27.19</td>\n",
       "      <td>27.1900</td>\n",
       "      <td>credit_card</td>\n",
       "      <td>0.304892</td>\n",
       "      <td>1.0</td>\n",
       "      <td>138dbe45fc62f1e244378131a6801526</td>\n",
       "      <td>1</td>\n",
       "      <td>beleza_saude</td>\n",
       "    </tr>\n",
       "    <tr>\n",
       "      <th>0000f46a3911fa3c0805444483337064</th>\n",
       "      <td>2017-03-10 21:05:03</td>\n",
       "      <td>2017-03-10 21:05:03</td>\n",
       "      <td>1.0</td>\n",
       "      <td>SC</td>\n",
       "      <td>-27.542880</td>\n",
       "      <td>-48.633426</td>\n",
       "      <td>evening</td>\n",
       "      <td>86.22</td>\n",
       "      <td>10.7775</td>\n",
       "      <td>credit_card</td>\n",
       "      <td>0.199722</td>\n",
       "      <td>1.0</td>\n",
       "      <td>3d871de0142ce09b7081e2b9d1733cb1</td>\n",
       "      <td>1</td>\n",
       "      <td>papelaria</td>\n",
       "    </tr>\n",
       "    <tr>\n",
       "      <th>0000f6ccb0745a6a4b88665a16c9f078</th>\n",
       "      <td>2017-10-12 20:29:41</td>\n",
       "      <td>2017-10-12 20:29:41</td>\n",
       "      <td>1.0</td>\n",
       "      <td>PA</td>\n",
       "      <td>-1.312214</td>\n",
       "      <td>-48.483159</td>\n",
       "      <td>evening</td>\n",
       "      <td>43.62</td>\n",
       "      <td>10.9050</td>\n",
       "      <td>credit_card</td>\n",
       "      <td>0.404172</td>\n",
       "      <td>1.0</td>\n",
       "      <td>ef506c96320abeedfb894c34db06f478</td>\n",
       "      <td>1</td>\n",
       "      <td>telefonia</td>\n",
       "    </tr>\n",
       "    <tr>\n",
       "      <th>0004aac84e0df4da2b147fca70cf8255</th>\n",
       "      <td>2017-11-14 19:45:42</td>\n",
       "      <td>2017-11-14 19:45:42</td>\n",
       "      <td>1.0</td>\n",
       "      <td>SP</td>\n",
       "      <td>-23.505548</td>\n",
       "      <td>-47.469705</td>\n",
       "      <td>evening</td>\n",
       "      <td>196.89</td>\n",
       "      <td>32.8150</td>\n",
       "      <td>credit_card</td>\n",
       "      <td>0.085784</td>\n",
       "      <td>1.0</td>\n",
       "      <td>70a12e78e608ac31179aea7f8422044b</td>\n",
       "      <td>1</td>\n",
       "      <td>telefonia</td>\n",
       "    </tr>\n",
       "  </tbody>\n",
       "</table>\n",
       "</div>"
      ],
      "text/plain": [
       "                                         first_order          last_order  \\\n",
       "customer_unique_id                                                         \n",
       "0000366f3b9a7992bf8c76cfdf3221e2 2018-05-10 10:56:27 2018-05-10 10:56:27   \n",
       "0000b849f77a49e4a4ce2b2a4ca5be3f 2018-05-07 11:11:27 2018-05-07 11:11:27   \n",
       "0000f46a3911fa3c0805444483337064 2017-03-10 21:05:03 2017-03-10 21:05:03   \n",
       "0000f6ccb0745a6a4b88665a16c9f078 2017-10-12 20:29:41 2017-10-12 20:29:41   \n",
       "0004aac84e0df4da2b147fca70cf8255 2017-11-14 19:45:42 2017-11-14 19:45:42   \n",
       "\n",
       "                                  number_of_orders state   Latitude  \\\n",
       "customer_unique_id                                                    \n",
       "0000366f3b9a7992bf8c76cfdf3221e2               1.0    SP -23.340235   \n",
       "0000b849f77a49e4a4ce2b2a4ca5be3f               1.0    SP -23.559115   \n",
       "0000f46a3911fa3c0805444483337064               1.0    SC -27.542880   \n",
       "0000f6ccb0745a6a4b88665a16c9f078               1.0    PA  -1.312214   \n",
       "0004aac84e0df4da2b147fca70cf8255               1.0    SP -23.505548   \n",
       "\n",
       "                                  Longitude   period  total_payment_value  \\\n",
       "customer_unique_id                                                          \n",
       "0000366f3b9a7992bf8c76cfdf3221e2 -46.830140  morning               141.90   \n",
       "0000b849f77a49e4a4ce2b2a4ca5be3f -46.787626  morning                27.19   \n",
       "0000f46a3911fa3c0805444483337064 -48.633426  evening                86.22   \n",
       "0000f6ccb0745a6a4b88665a16c9f078 -48.483159  evening                43.62   \n",
       "0004aac84e0df4da2b147fca70cf8255 -47.469705  evening               196.89   \n",
       "\n",
       "                                  mean_installment favorite_payment  \\\n",
       "customer_unique_id                                                    \n",
       "0000366f3b9a7992bf8c76cfdf3221e2           17.7375      credit_card   \n",
       "0000b849f77a49e4a4ce2b2a4ca5be3f           27.1900      credit_card   \n",
       "0000f46a3911fa3c0805444483337064           10.7775      credit_card   \n",
       "0000f6ccb0745a6a4b88665a16c9f078           10.9050      credit_card   \n",
       "0004aac84e0df4da2b147fca70cf8255           32.8150      credit_card   \n",
       "\n",
       "                                  ratio_freight  product_id  \\\n",
       "customer_unique_id                                            \n",
       "0000366f3b9a7992bf8c76cfdf3221e2       0.084567         1.0   \n",
       "0000b849f77a49e4a4ce2b2a4ca5be3f       0.304892         1.0   \n",
       "0000f46a3911fa3c0805444483337064       0.199722         1.0   \n",
       "0000f6ccb0745a6a4b88665a16c9f078       0.404172         1.0   \n",
       "0004aac84e0df4da2b147fca70cf8255       0.085784         1.0   \n",
       "\n",
       "                                                         seller_id  \\\n",
       "customer_unique_id                                                   \n",
       "0000366f3b9a7992bf8c76cfdf3221e2  da8622b14eb17ae2831f4ac5b9dab84a   \n",
       "0000b849f77a49e4a4ce2b2a4ca5be3f  138dbe45fc62f1e244378131a6801526   \n",
       "0000f46a3911fa3c0805444483337064  3d871de0142ce09b7081e2b9d1733cb1   \n",
       "0000f6ccb0745a6a4b88665a16c9f078  ef506c96320abeedfb894c34db06f478   \n",
       "0004aac84e0df4da2b147fca70cf8255  70a12e78e608ac31179aea7f8422044b   \n",
       "\n",
       "                                  nb_of_category product_category_name  \n",
       "customer_unique_id                                                      \n",
       "0000366f3b9a7992bf8c76cfdf3221e2               1       cama_mesa_banho  \n",
       "0000b849f77a49e4a4ce2b2a4ca5be3f               1          beleza_saude  \n",
       "0000f46a3911fa3c0805444483337064               1             papelaria  \n",
       "0000f6ccb0745a6a4b88665a16c9f078               1             telefonia  \n",
       "0004aac84e0df4da2b147fca70cf8255               1             telefonia  "
      ]
     },
     "execution_count": 118,
     "metadata": {},
     "output_type": "execute_result"
    }
   ],
   "source": [
    "data.head()"
   ]
  },
  {
   "cell_type": "code",
   "execution_count": 160,
   "metadata": {},
   "outputs": [
    {
     "data": {
      "text/html": [
       "<div>\n",
       "<style scoped>\n",
       "    .dataframe tbody tr th:only-of-type {\n",
       "        vertical-align: middle;\n",
       "    }\n",
       "\n",
       "    .dataframe tbody tr th {\n",
       "        vertical-align: top;\n",
       "    }\n",
       "\n",
       "    .dataframe thead th {\n",
       "        text-align: right;\n",
       "    }\n",
       "</style>\n",
       "<table border=\"1\" class=\"dataframe\">\n",
       "  <thead>\n",
       "    <tr style=\"text-align: right;\">\n",
       "      <th></th>\n",
       "      <th>review_id</th>\n",
       "      <th>order_id</th>\n",
       "      <th>review_score</th>\n",
       "      <th>review_comment_title</th>\n",
       "      <th>review_comment_message</th>\n",
       "      <th>review_creation_date</th>\n",
       "      <th>review_answer_timestamp</th>\n",
       "    </tr>\n",
       "  </thead>\n",
       "  <tbody>\n",
       "    <tr>\n",
       "      <th>0</th>\n",
       "      <td>7bc2406110b926393aa56f80a40eba40</td>\n",
       "      <td>73fc7af87114b39712e6da79b0a377eb</td>\n",
       "      <td>4</td>\n",
       "      <td>NaN</td>\n",
       "      <td>NaN</td>\n",
       "      <td>2018-01-18 00:00:00</td>\n",
       "      <td>2018-01-18 21:46:59</td>\n",
       "    </tr>\n",
       "    <tr>\n",
       "      <th>1</th>\n",
       "      <td>80e641a11e56f04c1ad469d5645fdfde</td>\n",
       "      <td>a548910a1c6147796b98fdf73dbeba33</td>\n",
       "      <td>5</td>\n",
       "      <td>NaN</td>\n",
       "      <td>NaN</td>\n",
       "      <td>2018-03-10 00:00:00</td>\n",
       "      <td>2018-03-11 03:05:13</td>\n",
       "    </tr>\n",
       "  </tbody>\n",
       "</table>\n",
       "</div>"
      ],
      "text/plain": [
       "                          review_id                          order_id  \\\n",
       "0  7bc2406110b926393aa56f80a40eba40  73fc7af87114b39712e6da79b0a377eb   \n",
       "1  80e641a11e56f04c1ad469d5645fdfde  a548910a1c6147796b98fdf73dbeba33   \n",
       "\n",
       "   review_score review_comment_title review_comment_message  \\\n",
       "0             4                  NaN                    NaN   \n",
       "1             5                  NaN                    NaN   \n",
       "\n",
       "  review_creation_date review_answer_timestamp  \n",
       "0  2018-01-18 00:00:00     2018-01-18 21:46:59  \n",
       "1  2018-03-10 00:00:00     2018-03-11 03:05:13  "
      ]
     },
     "execution_count": 160,
     "metadata": {},
     "output_type": "execute_result"
    }
   ],
   "source": [
    "reviews.head(2)"
   ]
  },
  {
   "cell_type": "code",
   "execution_count": 119,
   "metadata": {},
   "outputs": [
    {
     "data": {
      "text/plain": [
       "99441"
      ]
     },
     "execution_count": 119,
     "metadata": {},
     "output_type": "execute_result"
    }
   ],
   "source": [
    "len(reviews.order_id.unique())"
   ]
  },
  {
   "cell_type": "code",
   "execution_count": 120,
   "metadata": {},
   "outputs": [],
   "source": [
    "def review(t):\n",
    "    df=orders[orders.order_purchase_timestamp<t][['order_id','customer_id']]\n",
    "#Je conserve que le dernier score si il y a plusieurs review sur le même order\n",
    "    rev=reviews.sort_values(by=['order_id','review_creation_date'])\n",
    "    rev.reset_index(inplace=True)\n",
    "    del rev['index']\n",
    "    rev.drop_duplicates(subset=['order_id'],keep='last',inplace=True)\n",
    "    df2=pd.merge(df,rev[['order_id','review_id','review_score']],on='order_id',how='left')\n",
    "    review_cust=pd.merge(df2[['customer_id','review_score']],customers[['customer_id','customer_unique_id']],on='customer_id',how='left')\n",
    "    return pd.DataFrame(review_cust.groupby('customer_unique_id').aggregate({'review_score':'mean'}))\n"
   ]
  },
  {
   "cell_type": "code",
   "execution_count": 121,
   "metadata": {},
   "outputs": [
    {
     "data": {
      "text/plain": [
       "review_score    4.069195\n",
       "dtype: float64"
      ]
     },
     "execution_count": 121,
     "metadata": {},
     "output_type": "execute_result"
    }
   ],
   "source": [
    "review('2021-03-07 21:08:44').mean()"
   ]
  },
  {
   "cell_type": "code",
   "execution_count": 122,
   "metadata": {},
   "outputs": [
    {
     "data": {
      "text/plain": [
       "(96096, 1)"
      ]
     },
     "execution_count": 122,
     "metadata": {},
     "output_type": "execute_result"
    }
   ],
   "source": [
    "review('2021-03-07 21:08:44').shape"
   ]
  },
  {
   "cell_type": "code",
   "execution_count": 123,
   "metadata": {},
   "outputs": [],
   "source": [
    "d=review('2021-03-07 21:08:44')"
   ]
  },
  {
   "cell_type": "code",
   "execution_count": 124,
   "metadata": {},
   "outputs": [],
   "source": [
    "d.reset_index(inplace=True)"
   ]
  },
  {
   "cell_type": "code",
   "execution_count": 125,
   "metadata": {},
   "outputs": [
    {
     "data": {
      "text/plain": [
       "96096"
      ]
     },
     "execution_count": 125,
     "metadata": {},
     "output_type": "execute_result"
    }
   ],
   "source": [
    "len(d['customer_unique_id'].unique())"
   ]
  },
  {
   "cell_type": "code",
   "execution_count": 126,
   "metadata": {},
   "outputs": [
    {
     "data": {
      "text/plain": [
       "customer_unique_id    0\n",
       "review_score          0\n",
       "dtype: int64"
      ]
     },
     "execution_count": 126,
     "metadata": {},
     "output_type": "execute_result"
    }
   ],
   "source": [
    "d.isnull().sum()"
   ]
  },
  {
   "cell_type": "code",
   "execution_count": 127,
   "metadata": {},
   "outputs": [
    {
     "data": {
      "text/plain": [
       "4.07089"
      ]
     },
     "execution_count": 127,
     "metadata": {},
     "output_type": "execute_result"
    }
   ],
   "source": [
    "reviews['review_score'].mean()"
   ]
  },
  {
   "cell_type": "code",
   "execution_count": 128,
   "metadata": {},
   "outputs": [],
   "source": [
    "#ça colle"
   ]
  },
  {
   "cell_type": "code",
   "execution_count": 129,
   "metadata": {},
   "outputs": [],
   "source": [
    "data=data.join(review('2021-03-07 21:08:44'))"
   ]
  },
  {
   "cell_type": "code",
   "execution_count": 130,
   "metadata": {},
   "outputs": [
    {
     "data": {
      "text/plain": [
       "(95419, 16)"
      ]
     },
     "execution_count": 130,
     "metadata": {},
     "output_type": "execute_result"
    }
   ],
   "source": [
    "data.shape"
   ]
  },
  {
   "cell_type": "code",
   "execution_count": 131,
   "metadata": {},
   "outputs": [
    {
     "data": {
      "text/html": [
       "<div>\n",
       "<style scoped>\n",
       "    .dataframe tbody tr th:only-of-type {\n",
       "        vertical-align: middle;\n",
       "    }\n",
       "\n",
       "    .dataframe tbody tr th {\n",
       "        vertical-align: top;\n",
       "    }\n",
       "\n",
       "    .dataframe thead th {\n",
       "        text-align: right;\n",
       "    }\n",
       "</style>\n",
       "<table border=\"1\" class=\"dataframe\">\n",
       "  <thead>\n",
       "    <tr style=\"text-align: right;\">\n",
       "      <th></th>\n",
       "      <th>first_order</th>\n",
       "      <th>last_order</th>\n",
       "      <th>number_of_orders</th>\n",
       "      <th>state</th>\n",
       "      <th>Latitude</th>\n",
       "      <th>Longitude</th>\n",
       "      <th>period</th>\n",
       "      <th>total_payment_value</th>\n",
       "      <th>mean_installment</th>\n",
       "      <th>favorite_payment</th>\n",
       "      <th>ratio_freight</th>\n",
       "      <th>product_id</th>\n",
       "      <th>seller_id</th>\n",
       "      <th>nb_of_category</th>\n",
       "      <th>product_category_name</th>\n",
       "      <th>review_score</th>\n",
       "    </tr>\n",
       "    <tr>\n",
       "      <th>customer_unique_id</th>\n",
       "      <th></th>\n",
       "      <th></th>\n",
       "      <th></th>\n",
       "      <th></th>\n",
       "      <th></th>\n",
       "      <th></th>\n",
       "      <th></th>\n",
       "      <th></th>\n",
       "      <th></th>\n",
       "      <th></th>\n",
       "      <th></th>\n",
       "      <th></th>\n",
       "      <th></th>\n",
       "      <th></th>\n",
       "      <th></th>\n",
       "      <th></th>\n",
       "    </tr>\n",
       "  </thead>\n",
       "  <tbody>\n",
       "    <tr>\n",
       "      <th>0000366f3b9a7992bf8c76cfdf3221e2</th>\n",
       "      <td>2018-05-10 10:56:27</td>\n",
       "      <td>2018-05-10 10:56:27</td>\n",
       "      <td>1.0</td>\n",
       "      <td>SP</td>\n",
       "      <td>-23.340235</td>\n",
       "      <td>-46.830140</td>\n",
       "      <td>morning</td>\n",
       "      <td>141.90</td>\n",
       "      <td>17.7375</td>\n",
       "      <td>credit_card</td>\n",
       "      <td>0.084567</td>\n",
       "      <td>1.0</td>\n",
       "      <td>da8622b14eb17ae2831f4ac5b9dab84a</td>\n",
       "      <td>1</td>\n",
       "      <td>cama_mesa_banho</td>\n",
       "      <td>5.0</td>\n",
       "    </tr>\n",
       "    <tr>\n",
       "      <th>0000b849f77a49e4a4ce2b2a4ca5be3f</th>\n",
       "      <td>2018-05-07 11:11:27</td>\n",
       "      <td>2018-05-07 11:11:27</td>\n",
       "      <td>1.0</td>\n",
       "      <td>SP</td>\n",
       "      <td>-23.559115</td>\n",
       "      <td>-46.787626</td>\n",
       "      <td>morning</td>\n",
       "      <td>27.19</td>\n",
       "      <td>27.1900</td>\n",
       "      <td>credit_card</td>\n",
       "      <td>0.304892</td>\n",
       "      <td>1.0</td>\n",
       "      <td>138dbe45fc62f1e244378131a6801526</td>\n",
       "      <td>1</td>\n",
       "      <td>beleza_saude</td>\n",
       "      <td>4.0</td>\n",
       "    </tr>\n",
       "    <tr>\n",
       "      <th>0000f46a3911fa3c0805444483337064</th>\n",
       "      <td>2017-03-10 21:05:03</td>\n",
       "      <td>2017-03-10 21:05:03</td>\n",
       "      <td>1.0</td>\n",
       "      <td>SC</td>\n",
       "      <td>-27.542880</td>\n",
       "      <td>-48.633426</td>\n",
       "      <td>evening</td>\n",
       "      <td>86.22</td>\n",
       "      <td>10.7775</td>\n",
       "      <td>credit_card</td>\n",
       "      <td>0.199722</td>\n",
       "      <td>1.0</td>\n",
       "      <td>3d871de0142ce09b7081e2b9d1733cb1</td>\n",
       "      <td>1</td>\n",
       "      <td>papelaria</td>\n",
       "      <td>3.0</td>\n",
       "    </tr>\n",
       "    <tr>\n",
       "      <th>0000f6ccb0745a6a4b88665a16c9f078</th>\n",
       "      <td>2017-10-12 20:29:41</td>\n",
       "      <td>2017-10-12 20:29:41</td>\n",
       "      <td>1.0</td>\n",
       "      <td>PA</td>\n",
       "      <td>-1.312214</td>\n",
       "      <td>-48.483159</td>\n",
       "      <td>evening</td>\n",
       "      <td>43.62</td>\n",
       "      <td>10.9050</td>\n",
       "      <td>credit_card</td>\n",
       "      <td>0.404172</td>\n",
       "      <td>1.0</td>\n",
       "      <td>ef506c96320abeedfb894c34db06f478</td>\n",
       "      <td>1</td>\n",
       "      <td>telefonia</td>\n",
       "      <td>4.0</td>\n",
       "    </tr>\n",
       "    <tr>\n",
       "      <th>0004aac84e0df4da2b147fca70cf8255</th>\n",
       "      <td>2017-11-14 19:45:42</td>\n",
       "      <td>2017-11-14 19:45:42</td>\n",
       "      <td>1.0</td>\n",
       "      <td>SP</td>\n",
       "      <td>-23.505548</td>\n",
       "      <td>-47.469705</td>\n",
       "      <td>evening</td>\n",
       "      <td>196.89</td>\n",
       "      <td>32.8150</td>\n",
       "      <td>credit_card</td>\n",
       "      <td>0.085784</td>\n",
       "      <td>1.0</td>\n",
       "      <td>70a12e78e608ac31179aea7f8422044b</td>\n",
       "      <td>1</td>\n",
       "      <td>telefonia</td>\n",
       "      <td>5.0</td>\n",
       "    </tr>\n",
       "  </tbody>\n",
       "</table>\n",
       "</div>"
      ],
      "text/plain": [
       "                                         first_order          last_order  \\\n",
       "customer_unique_id                                                         \n",
       "0000366f3b9a7992bf8c76cfdf3221e2 2018-05-10 10:56:27 2018-05-10 10:56:27   \n",
       "0000b849f77a49e4a4ce2b2a4ca5be3f 2018-05-07 11:11:27 2018-05-07 11:11:27   \n",
       "0000f46a3911fa3c0805444483337064 2017-03-10 21:05:03 2017-03-10 21:05:03   \n",
       "0000f6ccb0745a6a4b88665a16c9f078 2017-10-12 20:29:41 2017-10-12 20:29:41   \n",
       "0004aac84e0df4da2b147fca70cf8255 2017-11-14 19:45:42 2017-11-14 19:45:42   \n",
       "\n",
       "                                  number_of_orders state   Latitude  \\\n",
       "customer_unique_id                                                    \n",
       "0000366f3b9a7992bf8c76cfdf3221e2               1.0    SP -23.340235   \n",
       "0000b849f77a49e4a4ce2b2a4ca5be3f               1.0    SP -23.559115   \n",
       "0000f46a3911fa3c0805444483337064               1.0    SC -27.542880   \n",
       "0000f6ccb0745a6a4b88665a16c9f078               1.0    PA  -1.312214   \n",
       "0004aac84e0df4da2b147fca70cf8255               1.0    SP -23.505548   \n",
       "\n",
       "                                  Longitude   period  total_payment_value  \\\n",
       "customer_unique_id                                                          \n",
       "0000366f3b9a7992bf8c76cfdf3221e2 -46.830140  morning               141.90   \n",
       "0000b849f77a49e4a4ce2b2a4ca5be3f -46.787626  morning                27.19   \n",
       "0000f46a3911fa3c0805444483337064 -48.633426  evening                86.22   \n",
       "0000f6ccb0745a6a4b88665a16c9f078 -48.483159  evening                43.62   \n",
       "0004aac84e0df4da2b147fca70cf8255 -47.469705  evening               196.89   \n",
       "\n",
       "                                  mean_installment favorite_payment  \\\n",
       "customer_unique_id                                                    \n",
       "0000366f3b9a7992bf8c76cfdf3221e2           17.7375      credit_card   \n",
       "0000b849f77a49e4a4ce2b2a4ca5be3f           27.1900      credit_card   \n",
       "0000f46a3911fa3c0805444483337064           10.7775      credit_card   \n",
       "0000f6ccb0745a6a4b88665a16c9f078           10.9050      credit_card   \n",
       "0004aac84e0df4da2b147fca70cf8255           32.8150      credit_card   \n",
       "\n",
       "                                  ratio_freight  product_id  \\\n",
       "customer_unique_id                                            \n",
       "0000366f3b9a7992bf8c76cfdf3221e2       0.084567         1.0   \n",
       "0000b849f77a49e4a4ce2b2a4ca5be3f       0.304892         1.0   \n",
       "0000f46a3911fa3c0805444483337064       0.199722         1.0   \n",
       "0000f6ccb0745a6a4b88665a16c9f078       0.404172         1.0   \n",
       "0004aac84e0df4da2b147fca70cf8255       0.085784         1.0   \n",
       "\n",
       "                                                         seller_id  \\\n",
       "customer_unique_id                                                   \n",
       "0000366f3b9a7992bf8c76cfdf3221e2  da8622b14eb17ae2831f4ac5b9dab84a   \n",
       "0000b849f77a49e4a4ce2b2a4ca5be3f  138dbe45fc62f1e244378131a6801526   \n",
       "0000f46a3911fa3c0805444483337064  3d871de0142ce09b7081e2b9d1733cb1   \n",
       "0000f6ccb0745a6a4b88665a16c9f078  ef506c96320abeedfb894c34db06f478   \n",
       "0004aac84e0df4da2b147fca70cf8255  70a12e78e608ac31179aea7f8422044b   \n",
       "\n",
       "                                  nb_of_category product_category_name  \\\n",
       "customer_unique_id                                                       \n",
       "0000366f3b9a7992bf8c76cfdf3221e2               1       cama_mesa_banho   \n",
       "0000b849f77a49e4a4ce2b2a4ca5be3f               1          beleza_saude   \n",
       "0000f46a3911fa3c0805444483337064               1             papelaria   \n",
       "0000f6ccb0745a6a4b88665a16c9f078               1             telefonia   \n",
       "0004aac84e0df4da2b147fca70cf8255               1             telefonia   \n",
       "\n",
       "                                  review_score  \n",
       "customer_unique_id                              \n",
       "0000366f3b9a7992bf8c76cfdf3221e2           5.0  \n",
       "0000b849f77a49e4a4ce2b2a4ca5be3f           4.0  \n",
       "0000f46a3911fa3c0805444483337064           3.0  \n",
       "0000f6ccb0745a6a4b88665a16c9f078           4.0  \n",
       "0004aac84e0df4da2b147fca70cf8255           5.0  "
      ]
     },
     "execution_count": 131,
     "metadata": {},
     "output_type": "execute_result"
    }
   ],
   "source": [
    "data.head()"
   ]
  },
  {
   "cell_type": "code",
   "execution_count": 132,
   "metadata": {},
   "outputs": [],
   "source": [
    "#Pour finir, on va calculer le nb de g.degrés terrestre en moyenne parcourru par une commande pour chaque client"
   ]
  },
  {
   "cell_type": "code",
   "execution_count": 133,
   "metadata": {},
   "outputs": [],
   "source": [
    "#Avant cela je vais imputer à 0 les deux valeurs manquantes dans les poids des produits pour éviter des nan\n",
    "products['product_weight_g']=products['product_weight_g'].fillna(0)"
   ]
  },
  {
   "cell_type": "code",
   "execution_count": 161,
   "metadata": {},
   "outputs": [
    {
     "data": {
      "text/html": [
       "<div>\n",
       "<style scoped>\n",
       "    .dataframe tbody tr th:only-of-type {\n",
       "        vertical-align: middle;\n",
       "    }\n",
       "\n",
       "    .dataframe tbody tr th {\n",
       "        vertical-align: top;\n",
       "    }\n",
       "\n",
       "    .dataframe thead th {\n",
       "        text-align: right;\n",
       "    }\n",
       "</style>\n",
       "<table border=\"1\" class=\"dataframe\">\n",
       "  <thead>\n",
       "    <tr style=\"text-align: right;\">\n",
       "      <th></th>\n",
       "      <th>seller_id</th>\n",
       "      <th>seller_zip_code_prefix</th>\n",
       "      <th>seller_city</th>\n",
       "      <th>seller_state</th>\n",
       "      <th>Latitude</th>\n",
       "      <th>Longitude</th>\n",
       "    </tr>\n",
       "  </thead>\n",
       "  <tbody>\n",
       "    <tr>\n",
       "      <th>0</th>\n",
       "      <td>3442f8959a84dea7ee197c632cb2df15</td>\n",
       "      <td>13023</td>\n",
       "      <td>campinas</td>\n",
       "      <td>SP</td>\n",
       "      <td>-22.893848</td>\n",
       "      <td>-47.061337</td>\n",
       "    </tr>\n",
       "    <tr>\n",
       "      <th>1</th>\n",
       "      <td>d1b65fc7debc3361ea86b5f14c68d2e2</td>\n",
       "      <td>13844</td>\n",
       "      <td>mogi guacu</td>\n",
       "      <td>SP</td>\n",
       "      <td>-22.383437</td>\n",
       "      <td>-46.947927</td>\n",
       "    </tr>\n",
       "  </tbody>\n",
       "</table>\n",
       "</div>"
      ],
      "text/plain": [
       "                          seller_id  seller_zip_code_prefix seller_city  \\\n",
       "0  3442f8959a84dea7ee197c632cb2df15                   13023    campinas   \n",
       "1  d1b65fc7debc3361ea86b5f14c68d2e2                   13844  mogi guacu   \n",
       "\n",
       "  seller_state   Latitude  Longitude  \n",
       "0           SP -22.893848 -47.061337  \n",
       "1           SP -22.383437 -46.947927  "
      ]
     },
     "execution_count": 161,
     "metadata": {},
     "output_type": "execute_result"
    }
   ],
   "source": [
    "sellers.head(2)"
   ]
  },
  {
   "cell_type": "code",
   "execution_count": 134,
   "metadata": {},
   "outputs": [],
   "source": [
    "def ecology(t):\n",
    "#je crée mon DF avec les unique_id et les positions\n",
    "    customers_position=data[['Latitude','Longitude']].reset_index()\n",
    "#Je merge avec customers pour avoir les customer_id\n",
    "    df=pd.merge(customers,customers_position,on='customer_unique_id',how='left')\n",
    "    df2=orders[orders.order_purchase_timestamp<t][['order_id','customer_id']]\n",
    "#Je merge les orders et les positions des customers\n",
    "    df3=pd.merge(df,df2,on='customer_id')\n",
    "#Jerécupère les seller_id\n",
    "    df4=pd.merge(items[['order_id','seller_id','product_id']],df3,on='order_id',how='left')\n",
    "#Je récupère les poids des produits\n",
    "    df5=pd.merge(df4,products[['product_id','product_weight_g']],on='product_id',how='left')\n",
    "    freight=pd.merge(df5,sellers[['seller_id','Latitude','Longitude']],on='seller_id',how='left')\n",
    "    freight['ecology']=((freight['Latitude_x']-freight['Latitude_y'])**2+\\\n",
    "                        (freight['Longitude_x']-freight['Longitude_y'])**2)**0.5*freight['product_weight_g']\n",
    "    freight=freight[['customer_unique_id','order_id','ecology']]\n",
    "#Je calcule cout de chaque order\n",
    "    ecolo=pd.DataFrame(freight.groupby('order_id').aggregate({'customer_unique_id':'first','ecology':'sum'}))\n",
    "#Je fais une moyenne\n",
    "    tot=pd.DataFrame(ecolo.groupby('customer_unique_id').aggregate({'ecology':'mean'}))\n",
    "                       \n",
    "    return tot\n"
   ]
  },
  {
   "cell_type": "code",
   "execution_count": 135,
   "metadata": {},
   "outputs": [],
   "source": [
    "eco=ecology('2021-03-07 21:08:44')"
   ]
  },
  {
   "cell_type": "code",
   "execution_count": 136,
   "metadata": {},
   "outputs": [
    {
     "data": {
      "text/html": [
       "<div>\n",
       "<style scoped>\n",
       "    .dataframe tbody tr th:only-of-type {\n",
       "        vertical-align: middle;\n",
       "    }\n",
       "\n",
       "    .dataframe tbody tr th {\n",
       "        vertical-align: top;\n",
       "    }\n",
       "\n",
       "    .dataframe thead th {\n",
       "        text-align: right;\n",
       "    }\n",
       "</style>\n",
       "<table border=\"1\" class=\"dataframe\">\n",
       "  <thead>\n",
       "    <tr style=\"text-align: right;\">\n",
       "      <th></th>\n",
       "      <th>ecology</th>\n",
       "    </tr>\n",
       "  </thead>\n",
       "  <tbody>\n",
       "    <tr>\n",
       "      <th>count</th>\n",
       "      <td>9.542000e+04</td>\n",
       "    </tr>\n",
       "    <tr>\n",
       "      <th>mean</th>\n",
       "      <td>1.316473e+04</td>\n",
       "    </tr>\n",
       "    <tr>\n",
       "      <th>std</th>\n",
       "      <td>3.787317e+04</td>\n",
       "    </tr>\n",
       "    <tr>\n",
       "      <th>min</th>\n",
       "      <td>0.000000e+00</td>\n",
       "    </tr>\n",
       "    <tr>\n",
       "      <th>25%</th>\n",
       "      <td>8.547235e+02</td>\n",
       "    </tr>\n",
       "    <tr>\n",
       "      <th>50%</th>\n",
       "      <td>2.985835e+03</td>\n",
       "    </tr>\n",
       "    <tr>\n",
       "      <th>75%</th>\n",
       "      <td>9.959995e+03</td>\n",
       "    </tr>\n",
       "    <tr>\n",
       "      <th>max</th>\n",
       "      <td>2.178463e+06</td>\n",
       "    </tr>\n",
       "  </tbody>\n",
       "</table>\n",
       "</div>"
      ],
      "text/plain": [
       "            ecology\n",
       "count  9.542000e+04\n",
       "mean   1.316473e+04\n",
       "std    3.787317e+04\n",
       "min    0.000000e+00\n",
       "25%    8.547235e+02\n",
       "50%    2.985835e+03\n",
       "75%    9.959995e+03\n",
       "max    2.178463e+06"
      ]
     },
     "execution_count": 136,
     "metadata": {},
     "output_type": "execute_result"
    }
   ],
   "source": [
    "eco.describe()"
   ]
  },
  {
   "cell_type": "code",
   "execution_count": 137,
   "metadata": {},
   "outputs": [
    {
     "data": {
      "text/html": [
       "<div>\n",
       "<style scoped>\n",
       "    .dataframe tbody tr th:only-of-type {\n",
       "        vertical-align: middle;\n",
       "    }\n",
       "\n",
       "    .dataframe tbody tr th {\n",
       "        vertical-align: top;\n",
       "    }\n",
       "\n",
       "    .dataframe thead th {\n",
       "        text-align: right;\n",
       "    }\n",
       "</style>\n",
       "<table border=\"1\" class=\"dataframe\">\n",
       "  <thead>\n",
       "    <tr style=\"text-align: right;\">\n",
       "      <th></th>\n",
       "      <th>ecology</th>\n",
       "    </tr>\n",
       "    <tr>\n",
       "      <th>customer_unique_id</th>\n",
       "      <th></th>\n",
       "    </tr>\n",
       "  </thead>\n",
       "  <tbody>\n",
       "    <tr>\n",
       "      <th>0000366f3b9a7992bf8c76cfdf3221e2</th>\n",
       "      <td>1.569867e+03</td>\n",
       "    </tr>\n",
       "    <tr>\n",
       "      <th>0000b849f77a49e4a4ce2b2a4ca5be3f</th>\n",
       "      <td>8.077152e+01</td>\n",
       "    </tr>\n",
       "    <tr>\n",
       "      <th>0000f46a3911fa3c0805444483337064</th>\n",
       "      <td>7.076706e+03</td>\n",
       "    </tr>\n",
       "    <tr>\n",
       "      <th>0000f6ccb0745a6a4b88665a16c9f078</th>\n",
       "      <td>3.348015e+03</td>\n",
       "    </tr>\n",
       "    <tr>\n",
       "      <th>0004aac84e0df4da2b147fca70cf8255</th>\n",
       "      <td>9.144827e+03</td>\n",
       "    </tr>\n",
       "    <tr>\n",
       "      <th>...</th>\n",
       "      <td>...</td>\n",
       "    </tr>\n",
       "    <tr>\n",
       "      <th>fffcf5a5ff07b0908bd4e2dbc735a684</th>\n",
       "      <td>1.090860e+06</td>\n",
       "    </tr>\n",
       "    <tr>\n",
       "      <th>fffea47cd6d3cc0a88bd621562a9d061</th>\n",
       "      <td>2.408983e+04</td>\n",
       "    </tr>\n",
       "    <tr>\n",
       "      <th>ffff371b4d645b6ecea244b27531430a</th>\n",
       "      <td>8.455779e+03</td>\n",
       "    </tr>\n",
       "    <tr>\n",
       "      <th>ffff5962728ec6157033ef9805bacc48</th>\n",
       "      <td>2.731074e+03</td>\n",
       "    </tr>\n",
       "    <tr>\n",
       "      <th>ffffd2657e2aad2907e67c3e9daecbeb</th>\n",
       "      <td>1.368956e+03</td>\n",
       "    </tr>\n",
       "  </tbody>\n",
       "</table>\n",
       "<p>95420 rows × 1 columns</p>\n",
       "</div>"
      ],
      "text/plain": [
       "                                       ecology\n",
       "customer_unique_id                            \n",
       "0000366f3b9a7992bf8c76cfdf3221e2  1.569867e+03\n",
       "0000b849f77a49e4a4ce2b2a4ca5be3f  8.077152e+01\n",
       "0000f46a3911fa3c0805444483337064  7.076706e+03\n",
       "0000f6ccb0745a6a4b88665a16c9f078  3.348015e+03\n",
       "0004aac84e0df4da2b147fca70cf8255  9.144827e+03\n",
       "...                                        ...\n",
       "fffcf5a5ff07b0908bd4e2dbc735a684  1.090860e+06\n",
       "fffea47cd6d3cc0a88bd621562a9d061  2.408983e+04\n",
       "ffff371b4d645b6ecea244b27531430a  8.455779e+03\n",
       "ffff5962728ec6157033ef9805bacc48  2.731074e+03\n",
       "ffffd2657e2aad2907e67c3e9daecbeb  1.368956e+03\n",
       "\n",
       "[95420 rows x 1 columns]"
      ]
     },
     "execution_count": 137,
     "metadata": {},
     "output_type": "execute_result"
    }
   ],
   "source": [
    "eco"
   ]
  },
  {
   "cell_type": "code",
   "execution_count": 138,
   "metadata": {},
   "outputs": [],
   "source": [
    "data=data.join(eco)"
   ]
  },
  {
   "cell_type": "code",
   "execution_count": 139,
   "metadata": {},
   "outputs": [
    {
     "data": {
      "text/plain": [
       "(95419, 17)"
      ]
     },
     "execution_count": 139,
     "metadata": {},
     "output_type": "execute_result"
    }
   ],
   "source": [
    "data.shape"
   ]
  },
  {
   "cell_type": "code",
   "execution_count": 140,
   "metadata": {},
   "outputs": [
    {
     "data": {
      "text/plain": [
       "first_order              0\n",
       "last_order               0\n",
       "number_of_orders         0\n",
       "state                    0\n",
       "Latitude                 0\n",
       "Longitude                0\n",
       "period                   0\n",
       "total_payment_value      0\n",
       "mean_installment         0\n",
       "favorite_payment         0\n",
       "ratio_freight            0\n",
       "product_id               0\n",
       "seller_id                0\n",
       "nb_of_category           0\n",
       "product_category_name    0\n",
       "review_score             0\n",
       "ecology                  0\n",
       "dtype: int64"
      ]
     },
     "execution_count": 140,
     "metadata": {},
     "output_type": "execute_result"
    }
   ],
   "source": [
    "data.isnull().sum()"
   ]
  },
  {
   "cell_type": "code",
   "execution_count": 141,
   "metadata": {},
   "outputs": [],
   "source": [
    "# C'est propre on peut passer à de l'analyse de variables"
   ]
  },
  {
   "cell_type": "code",
   "execution_count": null,
   "metadata": {},
   "outputs": [],
   "source": []
  },
  {
   "cell_type": "code",
   "execution_count": null,
   "metadata": {},
   "outputs": [],
   "source": []
  },
  {
   "cell_type": "code",
   "execution_count": 142,
   "metadata": {},
   "outputs": [
    {
     "data": {
      "text/html": [
       "<div>\n",
       "<style scoped>\n",
       "    .dataframe tbody tr th:only-of-type {\n",
       "        vertical-align: middle;\n",
       "    }\n",
       "\n",
       "    .dataframe tbody tr th {\n",
       "        vertical-align: top;\n",
       "    }\n",
       "\n",
       "    .dataframe thead th {\n",
       "        text-align: right;\n",
       "    }\n",
       "</style>\n",
       "<table border=\"1\" class=\"dataframe\">\n",
       "  <thead>\n",
       "    <tr style=\"text-align: right;\">\n",
       "      <th></th>\n",
       "      <th>first_order</th>\n",
       "      <th>last_order</th>\n",
       "      <th>number_of_orders</th>\n",
       "      <th>state</th>\n",
       "      <th>Latitude</th>\n",
       "      <th>Longitude</th>\n",
       "      <th>period</th>\n",
       "      <th>total_payment_value</th>\n",
       "      <th>mean_installment</th>\n",
       "      <th>favorite_payment</th>\n",
       "      <th>ratio_freight</th>\n",
       "      <th>product_id</th>\n",
       "      <th>seller_id</th>\n",
       "      <th>nb_of_category</th>\n",
       "      <th>product_category_name</th>\n",
       "      <th>review_score</th>\n",
       "      <th>ecology</th>\n",
       "    </tr>\n",
       "    <tr>\n",
       "      <th>customer_unique_id</th>\n",
       "      <th></th>\n",
       "      <th></th>\n",
       "      <th></th>\n",
       "      <th></th>\n",
       "      <th></th>\n",
       "      <th></th>\n",
       "      <th></th>\n",
       "      <th></th>\n",
       "      <th></th>\n",
       "      <th></th>\n",
       "      <th></th>\n",
       "      <th></th>\n",
       "      <th></th>\n",
       "      <th></th>\n",
       "      <th></th>\n",
       "      <th></th>\n",
       "      <th></th>\n",
       "    </tr>\n",
       "  </thead>\n",
       "  <tbody>\n",
       "    <tr>\n",
       "      <th>0000366f3b9a7992bf8c76cfdf3221e2</th>\n",
       "      <td>2018-05-10 10:56:27</td>\n",
       "      <td>2018-05-10 10:56:27</td>\n",
       "      <td>1.0</td>\n",
       "      <td>SP</td>\n",
       "      <td>-23.340235</td>\n",
       "      <td>-46.830140</td>\n",
       "      <td>morning</td>\n",
       "      <td>141.90</td>\n",
       "      <td>17.7375</td>\n",
       "      <td>credit_card</td>\n",
       "      <td>0.084567</td>\n",
       "      <td>1.0</td>\n",
       "      <td>da8622b14eb17ae2831f4ac5b9dab84a</td>\n",
       "      <td>1</td>\n",
       "      <td>cama_mesa_banho</td>\n",
       "      <td>5.0</td>\n",
       "      <td>1569.867304</td>\n",
       "    </tr>\n",
       "    <tr>\n",
       "      <th>0000b849f77a49e4a4ce2b2a4ca5be3f</th>\n",
       "      <td>2018-05-07 11:11:27</td>\n",
       "      <td>2018-05-07 11:11:27</td>\n",
       "      <td>1.0</td>\n",
       "      <td>SP</td>\n",
       "      <td>-23.559115</td>\n",
       "      <td>-46.787626</td>\n",
       "      <td>morning</td>\n",
       "      <td>27.19</td>\n",
       "      <td>27.1900</td>\n",
       "      <td>credit_card</td>\n",
       "      <td>0.304892</td>\n",
       "      <td>1.0</td>\n",
       "      <td>138dbe45fc62f1e244378131a6801526</td>\n",
       "      <td>1</td>\n",
       "      <td>beleza_saude</td>\n",
       "      <td>4.0</td>\n",
       "      <td>80.771515</td>\n",
       "    </tr>\n",
       "    <tr>\n",
       "      <th>0000f46a3911fa3c0805444483337064</th>\n",
       "      <td>2017-03-10 21:05:03</td>\n",
       "      <td>2017-03-10 21:05:03</td>\n",
       "      <td>1.0</td>\n",
       "      <td>SC</td>\n",
       "      <td>-27.542880</td>\n",
       "      <td>-48.633426</td>\n",
       "      <td>evening</td>\n",
       "      <td>86.22</td>\n",
       "      <td>10.7775</td>\n",
       "      <td>credit_card</td>\n",
       "      <td>0.199722</td>\n",
       "      <td>1.0</td>\n",
       "      <td>3d871de0142ce09b7081e2b9d1733cb1</td>\n",
       "      <td>1</td>\n",
       "      <td>papelaria</td>\n",
       "      <td>3.0</td>\n",
       "      <td>7076.706450</td>\n",
       "    </tr>\n",
       "    <tr>\n",
       "      <th>0000f6ccb0745a6a4b88665a16c9f078</th>\n",
       "      <td>2017-10-12 20:29:41</td>\n",
       "      <td>2017-10-12 20:29:41</td>\n",
       "      <td>1.0</td>\n",
       "      <td>PA</td>\n",
       "      <td>-1.312214</td>\n",
       "      <td>-48.483159</td>\n",
       "      <td>evening</td>\n",
       "      <td>43.62</td>\n",
       "      <td>10.9050</td>\n",
       "      <td>credit_card</td>\n",
       "      <td>0.404172</td>\n",
       "      <td>1.0</td>\n",
       "      <td>ef506c96320abeedfb894c34db06f478</td>\n",
       "      <td>1</td>\n",
       "      <td>telefonia</td>\n",
       "      <td>4.0</td>\n",
       "      <td>3348.014775</td>\n",
       "    </tr>\n",
       "    <tr>\n",
       "      <th>0004aac84e0df4da2b147fca70cf8255</th>\n",
       "      <td>2017-11-14 19:45:42</td>\n",
       "      <td>2017-11-14 19:45:42</td>\n",
       "      <td>1.0</td>\n",
       "      <td>SP</td>\n",
       "      <td>-23.505548</td>\n",
       "      <td>-47.469705</td>\n",
       "      <td>evening</td>\n",
       "      <td>196.89</td>\n",
       "      <td>32.8150</td>\n",
       "      <td>credit_card</td>\n",
       "      <td>0.085784</td>\n",
       "      <td>1.0</td>\n",
       "      <td>70a12e78e608ac31179aea7f8422044b</td>\n",
       "      <td>1</td>\n",
       "      <td>telefonia</td>\n",
       "      <td>5.0</td>\n",
       "      <td>9144.827324</td>\n",
       "    </tr>\n",
       "  </tbody>\n",
       "</table>\n",
       "</div>"
      ],
      "text/plain": [
       "                                         first_order          last_order  \\\n",
       "customer_unique_id                                                         \n",
       "0000366f3b9a7992bf8c76cfdf3221e2 2018-05-10 10:56:27 2018-05-10 10:56:27   \n",
       "0000b849f77a49e4a4ce2b2a4ca5be3f 2018-05-07 11:11:27 2018-05-07 11:11:27   \n",
       "0000f46a3911fa3c0805444483337064 2017-03-10 21:05:03 2017-03-10 21:05:03   \n",
       "0000f6ccb0745a6a4b88665a16c9f078 2017-10-12 20:29:41 2017-10-12 20:29:41   \n",
       "0004aac84e0df4da2b147fca70cf8255 2017-11-14 19:45:42 2017-11-14 19:45:42   \n",
       "\n",
       "                                  number_of_orders state   Latitude  \\\n",
       "customer_unique_id                                                    \n",
       "0000366f3b9a7992bf8c76cfdf3221e2               1.0    SP -23.340235   \n",
       "0000b849f77a49e4a4ce2b2a4ca5be3f               1.0    SP -23.559115   \n",
       "0000f46a3911fa3c0805444483337064               1.0    SC -27.542880   \n",
       "0000f6ccb0745a6a4b88665a16c9f078               1.0    PA  -1.312214   \n",
       "0004aac84e0df4da2b147fca70cf8255               1.0    SP -23.505548   \n",
       "\n",
       "                                  Longitude   period  total_payment_value  \\\n",
       "customer_unique_id                                                          \n",
       "0000366f3b9a7992bf8c76cfdf3221e2 -46.830140  morning               141.90   \n",
       "0000b849f77a49e4a4ce2b2a4ca5be3f -46.787626  morning                27.19   \n",
       "0000f46a3911fa3c0805444483337064 -48.633426  evening                86.22   \n",
       "0000f6ccb0745a6a4b88665a16c9f078 -48.483159  evening                43.62   \n",
       "0004aac84e0df4da2b147fca70cf8255 -47.469705  evening               196.89   \n",
       "\n",
       "                                  mean_installment favorite_payment  \\\n",
       "customer_unique_id                                                    \n",
       "0000366f3b9a7992bf8c76cfdf3221e2           17.7375      credit_card   \n",
       "0000b849f77a49e4a4ce2b2a4ca5be3f           27.1900      credit_card   \n",
       "0000f46a3911fa3c0805444483337064           10.7775      credit_card   \n",
       "0000f6ccb0745a6a4b88665a16c9f078           10.9050      credit_card   \n",
       "0004aac84e0df4da2b147fca70cf8255           32.8150      credit_card   \n",
       "\n",
       "                                  ratio_freight  product_id  \\\n",
       "customer_unique_id                                            \n",
       "0000366f3b9a7992bf8c76cfdf3221e2       0.084567         1.0   \n",
       "0000b849f77a49e4a4ce2b2a4ca5be3f       0.304892         1.0   \n",
       "0000f46a3911fa3c0805444483337064       0.199722         1.0   \n",
       "0000f6ccb0745a6a4b88665a16c9f078       0.404172         1.0   \n",
       "0004aac84e0df4da2b147fca70cf8255       0.085784         1.0   \n",
       "\n",
       "                                                         seller_id  \\\n",
       "customer_unique_id                                                   \n",
       "0000366f3b9a7992bf8c76cfdf3221e2  da8622b14eb17ae2831f4ac5b9dab84a   \n",
       "0000b849f77a49e4a4ce2b2a4ca5be3f  138dbe45fc62f1e244378131a6801526   \n",
       "0000f46a3911fa3c0805444483337064  3d871de0142ce09b7081e2b9d1733cb1   \n",
       "0000f6ccb0745a6a4b88665a16c9f078  ef506c96320abeedfb894c34db06f478   \n",
       "0004aac84e0df4da2b147fca70cf8255  70a12e78e608ac31179aea7f8422044b   \n",
       "\n",
       "                                  nb_of_category product_category_name  \\\n",
       "customer_unique_id                                                       \n",
       "0000366f3b9a7992bf8c76cfdf3221e2               1       cama_mesa_banho   \n",
       "0000b849f77a49e4a4ce2b2a4ca5be3f               1          beleza_saude   \n",
       "0000f46a3911fa3c0805444483337064               1             papelaria   \n",
       "0000f6ccb0745a6a4b88665a16c9f078               1             telefonia   \n",
       "0004aac84e0df4da2b147fca70cf8255               1             telefonia   \n",
       "\n",
       "                                  review_score      ecology  \n",
       "customer_unique_id                                           \n",
       "0000366f3b9a7992bf8c76cfdf3221e2           5.0  1569.867304  \n",
       "0000b849f77a49e4a4ce2b2a4ca5be3f           4.0    80.771515  \n",
       "0000f46a3911fa3c0805444483337064           3.0  7076.706450  \n",
       "0000f6ccb0745a6a4b88665a16c9f078           4.0  3348.014775  \n",
       "0004aac84e0df4da2b147fca70cf8255           5.0  9144.827324  "
      ]
     },
     "execution_count": 142,
     "metadata": {},
     "output_type": "execute_result"
    }
   ],
   "source": [
    "data.head()"
   ]
  },
  {
   "cell_type": "code",
   "execution_count": 143,
   "metadata": {},
   "outputs": [],
   "source": [
    "#On va transformer ces données de la sorte:\n",
    "#On va créer une colonne jours depuis dernier achat\n",
    "#Féquence achat à partir des 2 colonnes order et nb of orders\n",
    "#Pour pmoyen de paiement et période achat on va faire un one hot encoding\n",
    "#Pour le seller, l'état et la catégorie préférée on va coder cela en prennant la proportion de la catégorie dans la colonne:\n",
    "#On verra entre State et les coordonnées GPS quelle catégorie on garde\n",
    "import datetime\n",
    "data[['last_order','first_order']] = data[['last_order','first_order']].apply(pd.to_datetime)\n",
    "data['last_order_d']=(pd.to_datetime(datetime.date.today())-data['last_order']).dt.days\n",
    "data['first_order_d']=(pd.to_datetime(datetime.date.today())-data['first_order']).dt.days\n",
    "data['fréquency']=data['number_of_orders']/data['first_order_d']\n",
    "data.drop(['first_order','last_order','first_order_d'],axis=1,inplace=True)"
   ]
  },
  {
   "cell_type": "code",
   "execution_count": 144,
   "metadata": {},
   "outputs": [
    {
     "data": {
      "text/html": [
       "<div>\n",
       "<style scoped>\n",
       "    .dataframe tbody tr th:only-of-type {\n",
       "        vertical-align: middle;\n",
       "    }\n",
       "\n",
       "    .dataframe tbody tr th {\n",
       "        vertical-align: top;\n",
       "    }\n",
       "\n",
       "    .dataframe thead th {\n",
       "        text-align: right;\n",
       "    }\n",
       "</style>\n",
       "<table border=\"1\" class=\"dataframe\">\n",
       "  <thead>\n",
       "    <tr style=\"text-align: right;\">\n",
       "      <th></th>\n",
       "      <th>number_of_orders</th>\n",
       "      <th>state</th>\n",
       "      <th>Latitude</th>\n",
       "      <th>Longitude</th>\n",
       "      <th>period</th>\n",
       "      <th>total_payment_value</th>\n",
       "      <th>mean_installment</th>\n",
       "      <th>favorite_payment</th>\n",
       "      <th>ratio_freight</th>\n",
       "      <th>product_id</th>\n",
       "      <th>seller_id</th>\n",
       "      <th>nb_of_category</th>\n",
       "      <th>product_category_name</th>\n",
       "      <th>review_score</th>\n",
       "      <th>ecology</th>\n",
       "      <th>last_order_d</th>\n",
       "      <th>fréquency</th>\n",
       "    </tr>\n",
       "    <tr>\n",
       "      <th>customer_unique_id</th>\n",
       "      <th></th>\n",
       "      <th></th>\n",
       "      <th></th>\n",
       "      <th></th>\n",
       "      <th></th>\n",
       "      <th></th>\n",
       "      <th></th>\n",
       "      <th></th>\n",
       "      <th></th>\n",
       "      <th></th>\n",
       "      <th></th>\n",
       "      <th></th>\n",
       "      <th></th>\n",
       "      <th></th>\n",
       "      <th></th>\n",
       "      <th></th>\n",
       "      <th></th>\n",
       "    </tr>\n",
       "  </thead>\n",
       "  <tbody>\n",
       "    <tr>\n",
       "      <th>0000366f3b9a7992bf8c76cfdf3221e2</th>\n",
       "      <td>1.0</td>\n",
       "      <td>SP</td>\n",
       "      <td>-23.340235</td>\n",
       "      <td>-46.830140</td>\n",
       "      <td>morning</td>\n",
       "      <td>141.90</td>\n",
       "      <td>17.7375</td>\n",
       "      <td>credit_card</td>\n",
       "      <td>0.084567</td>\n",
       "      <td>1.0</td>\n",
       "      <td>da8622b14eb17ae2831f4ac5b9dab84a</td>\n",
       "      <td>1</td>\n",
       "      <td>cama_mesa_banho</td>\n",
       "      <td>5.0</td>\n",
       "      <td>1569.867304</td>\n",
       "      <td>937</td>\n",
       "      <td>0.001067</td>\n",
       "    </tr>\n",
       "    <tr>\n",
       "      <th>0000b849f77a49e4a4ce2b2a4ca5be3f</th>\n",
       "      <td>1.0</td>\n",
       "      <td>SP</td>\n",
       "      <td>-23.559115</td>\n",
       "      <td>-46.787626</td>\n",
       "      <td>morning</td>\n",
       "      <td>27.19</td>\n",
       "      <td>27.1900</td>\n",
       "      <td>credit_card</td>\n",
       "      <td>0.304892</td>\n",
       "      <td>1.0</td>\n",
       "      <td>138dbe45fc62f1e244378131a6801526</td>\n",
       "      <td>1</td>\n",
       "      <td>beleza_saude</td>\n",
       "      <td>4.0</td>\n",
       "      <td>80.771515</td>\n",
       "      <td>940</td>\n",
       "      <td>0.001064</td>\n",
       "    </tr>\n",
       "    <tr>\n",
       "      <th>0000f46a3911fa3c0805444483337064</th>\n",
       "      <td>1.0</td>\n",
       "      <td>SC</td>\n",
       "      <td>-27.542880</td>\n",
       "      <td>-48.633426</td>\n",
       "      <td>evening</td>\n",
       "      <td>86.22</td>\n",
       "      <td>10.7775</td>\n",
       "      <td>credit_card</td>\n",
       "      <td>0.199722</td>\n",
       "      <td>1.0</td>\n",
       "      <td>3d871de0142ce09b7081e2b9d1733cb1</td>\n",
       "      <td>1</td>\n",
       "      <td>papelaria</td>\n",
       "      <td>3.0</td>\n",
       "      <td>7076.706450</td>\n",
       "      <td>1363</td>\n",
       "      <td>0.000734</td>\n",
       "    </tr>\n",
       "    <tr>\n",
       "      <th>0000f6ccb0745a6a4b88665a16c9f078</th>\n",
       "      <td>1.0</td>\n",
       "      <td>PA</td>\n",
       "      <td>-1.312214</td>\n",
       "      <td>-48.483159</td>\n",
       "      <td>evening</td>\n",
       "      <td>43.62</td>\n",
       "      <td>10.9050</td>\n",
       "      <td>credit_card</td>\n",
       "      <td>0.404172</td>\n",
       "      <td>1.0</td>\n",
       "      <td>ef506c96320abeedfb894c34db06f478</td>\n",
       "      <td>1</td>\n",
       "      <td>telefonia</td>\n",
       "      <td>4.0</td>\n",
       "      <td>3348.014775</td>\n",
       "      <td>1147</td>\n",
       "      <td>0.000872</td>\n",
       "    </tr>\n",
       "    <tr>\n",
       "      <th>0004aac84e0df4da2b147fca70cf8255</th>\n",
       "      <td>1.0</td>\n",
       "      <td>SP</td>\n",
       "      <td>-23.505548</td>\n",
       "      <td>-47.469705</td>\n",
       "      <td>evening</td>\n",
       "      <td>196.89</td>\n",
       "      <td>32.8150</td>\n",
       "      <td>credit_card</td>\n",
       "      <td>0.085784</td>\n",
       "      <td>1.0</td>\n",
       "      <td>70a12e78e608ac31179aea7f8422044b</td>\n",
       "      <td>1</td>\n",
       "      <td>telefonia</td>\n",
       "      <td>5.0</td>\n",
       "      <td>9144.827324</td>\n",
       "      <td>1114</td>\n",
       "      <td>0.000898</td>\n",
       "    </tr>\n",
       "  </tbody>\n",
       "</table>\n",
       "</div>"
      ],
      "text/plain": [
       "                                  number_of_orders state   Latitude  \\\n",
       "customer_unique_id                                                    \n",
       "0000366f3b9a7992bf8c76cfdf3221e2               1.0    SP -23.340235   \n",
       "0000b849f77a49e4a4ce2b2a4ca5be3f               1.0    SP -23.559115   \n",
       "0000f46a3911fa3c0805444483337064               1.0    SC -27.542880   \n",
       "0000f6ccb0745a6a4b88665a16c9f078               1.0    PA  -1.312214   \n",
       "0004aac84e0df4da2b147fca70cf8255               1.0    SP -23.505548   \n",
       "\n",
       "                                  Longitude   period  total_payment_value  \\\n",
       "customer_unique_id                                                          \n",
       "0000366f3b9a7992bf8c76cfdf3221e2 -46.830140  morning               141.90   \n",
       "0000b849f77a49e4a4ce2b2a4ca5be3f -46.787626  morning                27.19   \n",
       "0000f46a3911fa3c0805444483337064 -48.633426  evening                86.22   \n",
       "0000f6ccb0745a6a4b88665a16c9f078 -48.483159  evening                43.62   \n",
       "0004aac84e0df4da2b147fca70cf8255 -47.469705  evening               196.89   \n",
       "\n",
       "                                  mean_installment favorite_payment  \\\n",
       "customer_unique_id                                                    \n",
       "0000366f3b9a7992bf8c76cfdf3221e2           17.7375      credit_card   \n",
       "0000b849f77a49e4a4ce2b2a4ca5be3f           27.1900      credit_card   \n",
       "0000f46a3911fa3c0805444483337064           10.7775      credit_card   \n",
       "0000f6ccb0745a6a4b88665a16c9f078           10.9050      credit_card   \n",
       "0004aac84e0df4da2b147fca70cf8255           32.8150      credit_card   \n",
       "\n",
       "                                  ratio_freight  product_id  \\\n",
       "customer_unique_id                                            \n",
       "0000366f3b9a7992bf8c76cfdf3221e2       0.084567         1.0   \n",
       "0000b849f77a49e4a4ce2b2a4ca5be3f       0.304892         1.0   \n",
       "0000f46a3911fa3c0805444483337064       0.199722         1.0   \n",
       "0000f6ccb0745a6a4b88665a16c9f078       0.404172         1.0   \n",
       "0004aac84e0df4da2b147fca70cf8255       0.085784         1.0   \n",
       "\n",
       "                                                         seller_id  \\\n",
       "customer_unique_id                                                   \n",
       "0000366f3b9a7992bf8c76cfdf3221e2  da8622b14eb17ae2831f4ac5b9dab84a   \n",
       "0000b849f77a49e4a4ce2b2a4ca5be3f  138dbe45fc62f1e244378131a6801526   \n",
       "0000f46a3911fa3c0805444483337064  3d871de0142ce09b7081e2b9d1733cb1   \n",
       "0000f6ccb0745a6a4b88665a16c9f078  ef506c96320abeedfb894c34db06f478   \n",
       "0004aac84e0df4da2b147fca70cf8255  70a12e78e608ac31179aea7f8422044b   \n",
       "\n",
       "                                  nb_of_category product_category_name  \\\n",
       "customer_unique_id                                                       \n",
       "0000366f3b9a7992bf8c76cfdf3221e2               1       cama_mesa_banho   \n",
       "0000b849f77a49e4a4ce2b2a4ca5be3f               1          beleza_saude   \n",
       "0000f46a3911fa3c0805444483337064               1             papelaria   \n",
       "0000f6ccb0745a6a4b88665a16c9f078               1             telefonia   \n",
       "0004aac84e0df4da2b147fca70cf8255               1             telefonia   \n",
       "\n",
       "                                  review_score      ecology  last_order_d  \\\n",
       "customer_unique_id                                                          \n",
       "0000366f3b9a7992bf8c76cfdf3221e2           5.0  1569.867304           937   \n",
       "0000b849f77a49e4a4ce2b2a4ca5be3f           4.0    80.771515           940   \n",
       "0000f46a3911fa3c0805444483337064           3.0  7076.706450          1363   \n",
       "0000f6ccb0745a6a4b88665a16c9f078           4.0  3348.014775          1147   \n",
       "0004aac84e0df4da2b147fca70cf8255           5.0  9144.827324          1114   \n",
       "\n",
       "                                  fréquency  \n",
       "customer_unique_id                           \n",
       "0000366f3b9a7992bf8c76cfdf3221e2   0.001067  \n",
       "0000b849f77a49e4a4ce2b2a4ca5be3f   0.001064  \n",
       "0000f46a3911fa3c0805444483337064   0.000734  \n",
       "0000f6ccb0745a6a4b88665a16c9f078   0.000872  \n",
       "0004aac84e0df4da2b147fca70cf8255   0.000898  "
      ]
     },
     "execution_count": 144,
     "metadata": {},
     "output_type": "execute_result"
    }
   ],
   "source": [
    "data.head()"
   ]
  },
  {
   "cell_type": "code",
   "execution_count": 145,
   "metadata": {},
   "outputs": [
    {
     "data": {
      "image/png": "[encoded data removed]",
      "text/plain": [
       "<Figure size 864x864 with 5 Axes>"
      ]
     },
     "metadata": {
      "needs_background": "light"
     },
     "output_type": "display_data"
    }
   ],
   "source": [
    "#On traite les variables catégorielles:\n",
    "fig=plt.figure(figsize=(12,12))\n",
    "plt.subplot(231)\n",
    "plt.hist(data.state,bins=len(data.state.unique()))\n",
    "plt.subplot(232)\n",
    "plt.hist(data.seller_id,bins=len(data.seller_id.unique()),label=None)\n",
    "plt.subplot(233)\n",
    "plt.hist(data.product_category_name,bins=len(data.product_category_name.unique()),label=None)\n",
    "plt.subplot(234)\n",
    "plt.hist(data.favorite_payment,bins=len(data.favorite_payment.unique()),label=None)\n",
    "plt.subplot(235)\n",
    "plt.hist(data.period,bins=len(data.period.unique()),label=None)\n",
    "plt.show()\n"
   ]
  },
  {
   "cell_type": "code",
   "execution_count": 146,
   "metadata": {},
   "outputs": [],
   "source": [
    "#Pour les 3 premières, on va coder en proportion dans le tableau,\n",
    "#Pour les 2 dernières on fera un One Hot et on verra."
   ]
  },
  {
   "cell_type": "code",
   "execution_count": 147,
   "metadata": {},
   "outputs": [
    {
     "data": {
      "text/plain": [
       "(95419, 17)"
      ]
     },
     "execution_count": 147,
     "metadata": {},
     "output_type": "execute_result"
    }
   ],
   "source": [
    "data.shape"
   ]
  },
  {
   "cell_type": "code",
   "execution_count": 149,
   "metadata": {},
   "outputs": [
    {
     "data": {
      "text/html": [
       "<div>\n",
       "<style scoped>\n",
       "    .dataframe tbody tr th:only-of-type {\n",
       "        vertical-align: middle;\n",
       "    }\n",
       "\n",
       "    .dataframe tbody tr th {\n",
       "        vertical-align: top;\n",
       "    }\n",
       "\n",
       "    .dataframe thead th {\n",
       "        text-align: right;\n",
       "    }\n",
       "</style>\n",
       "<table border=\"1\" class=\"dataframe\">\n",
       "  <thead>\n",
       "    <tr style=\"text-align: right;\">\n",
       "      <th></th>\n",
       "      <th>number_of_orders</th>\n",
       "      <th>state</th>\n",
       "      <th>Latitude</th>\n",
       "      <th>Longitude</th>\n",
       "      <th>period</th>\n",
       "      <th>total_payment_value</th>\n",
       "      <th>mean_installment</th>\n",
       "      <th>favorite_payment</th>\n",
       "      <th>ratio_freight</th>\n",
       "      <th>product_id</th>\n",
       "      <th>seller_id</th>\n",
       "      <th>nb_of_category</th>\n",
       "      <th>product_category_name</th>\n",
       "      <th>review_score</th>\n",
       "      <th>ecology</th>\n",
       "      <th>last_order_d</th>\n",
       "      <th>fréquency</th>\n",
       "    </tr>\n",
       "    <tr>\n",
       "      <th>customer_unique_id</th>\n",
       "      <th></th>\n",
       "      <th></th>\n",
       "      <th></th>\n",
       "      <th></th>\n",
       "      <th></th>\n",
       "      <th></th>\n",
       "      <th></th>\n",
       "      <th></th>\n",
       "      <th></th>\n",
       "      <th></th>\n",
       "      <th></th>\n",
       "      <th></th>\n",
       "      <th></th>\n",
       "      <th></th>\n",
       "      <th></th>\n",
       "      <th></th>\n",
       "      <th></th>\n",
       "    </tr>\n",
       "  </thead>\n",
       "  <tbody>\n",
       "    <tr>\n",
       "      <th>0000366f3b9a7992bf8c76cfdf3221e2</th>\n",
       "      <td>1.0</td>\n",
       "      <td>SP</td>\n",
       "      <td>-23.340235</td>\n",
       "      <td>-46.830140</td>\n",
       "      <td>morning</td>\n",
       "      <td>141.90</td>\n",
       "      <td>17.7375</td>\n",
       "      <td>credit_card</td>\n",
       "      <td>0.084567</td>\n",
       "      <td>1.0</td>\n",
       "      <td>da8622b14eb17ae2831f4ac5b9dab84a</td>\n",
       "      <td>1</td>\n",
       "      <td>cama_mesa_banho</td>\n",
       "      <td>5.0</td>\n",
       "      <td>1569.867304</td>\n",
       "      <td>937</td>\n",
       "      <td>0.001067</td>\n",
       "    </tr>\n",
       "    <tr>\n",
       "      <th>0000b849f77a49e4a4ce2b2a4ca5be3f</th>\n",
       "      <td>1.0</td>\n",
       "      <td>SP</td>\n",
       "      <td>-23.559115</td>\n",
       "      <td>-46.787626</td>\n",
       "      <td>morning</td>\n",
       "      <td>27.19</td>\n",
       "      <td>27.1900</td>\n",
       "      <td>credit_card</td>\n",
       "      <td>0.304892</td>\n",
       "      <td>1.0</td>\n",
       "      <td>138dbe45fc62f1e244378131a6801526</td>\n",
       "      <td>1</td>\n",
       "      <td>beleza_saude</td>\n",
       "      <td>4.0</td>\n",
       "      <td>80.771515</td>\n",
       "      <td>940</td>\n",
       "      <td>0.001064</td>\n",
       "    </tr>\n",
       "    <tr>\n",
       "      <th>0000f46a3911fa3c0805444483337064</th>\n",
       "      <td>1.0</td>\n",
       "      <td>SC</td>\n",
       "      <td>-27.542880</td>\n",
       "      <td>-48.633426</td>\n",
       "      <td>evening</td>\n",
       "      <td>86.22</td>\n",
       "      <td>10.7775</td>\n",
       "      <td>credit_card</td>\n",
       "      <td>0.199722</td>\n",
       "      <td>1.0</td>\n",
       "      <td>3d871de0142ce09b7081e2b9d1733cb1</td>\n",
       "      <td>1</td>\n",
       "      <td>papelaria</td>\n",
       "      <td>3.0</td>\n",
       "      <td>7076.706450</td>\n",
       "      <td>1363</td>\n",
       "      <td>0.000734</td>\n",
       "    </tr>\n",
       "    <tr>\n",
       "      <th>0000f6ccb0745a6a4b88665a16c9f078</th>\n",
       "      <td>1.0</td>\n",
       "      <td>PA</td>\n",
       "      <td>-1.312214</td>\n",
       "      <td>-48.483159</td>\n",
       "      <td>evening</td>\n",
       "      <td>43.62</td>\n",
       "      <td>10.9050</td>\n",
       "      <td>credit_card</td>\n",
       "      <td>0.404172</td>\n",
       "      <td>1.0</td>\n",
       "      <td>ef506c96320abeedfb894c34db06f478</td>\n",
       "      <td>1</td>\n",
       "      <td>telefonia</td>\n",
       "      <td>4.0</td>\n",
       "      <td>3348.014775</td>\n",
       "      <td>1147</td>\n",
       "      <td>0.000872</td>\n",
       "    </tr>\n",
       "    <tr>\n",
       "      <th>0004aac84e0df4da2b147fca70cf8255</th>\n",
       "      <td>1.0</td>\n",
       "      <td>SP</td>\n",
       "      <td>-23.505548</td>\n",
       "      <td>-47.469705</td>\n",
       "      <td>evening</td>\n",
       "      <td>196.89</td>\n",
       "      <td>32.8150</td>\n",
       "      <td>credit_card</td>\n",
       "      <td>0.085784</td>\n",
       "      <td>1.0</td>\n",
       "      <td>70a12e78e608ac31179aea7f8422044b</td>\n",
       "      <td>1</td>\n",
       "      <td>telefonia</td>\n",
       "      <td>5.0</td>\n",
       "      <td>9144.827324</td>\n",
       "      <td>1114</td>\n",
       "      <td>0.000898</td>\n",
       "    </tr>\n",
       "  </tbody>\n",
       "</table>\n",
       "</div>"
      ],
      "text/plain": [
       "                                  number_of_orders state   Latitude  \\\n",
       "customer_unique_id                                                    \n",
       "0000366f3b9a7992bf8c76cfdf3221e2               1.0    SP -23.340235   \n",
       "0000b849f77a49e4a4ce2b2a4ca5be3f               1.0    SP -23.559115   \n",
       "0000f46a3911fa3c0805444483337064               1.0    SC -27.542880   \n",
       "0000f6ccb0745a6a4b88665a16c9f078               1.0    PA  -1.312214   \n",
       "0004aac84e0df4da2b147fca70cf8255               1.0    SP -23.505548   \n",
       "\n",
       "                                  Longitude   period  total_payment_value  \\\n",
       "customer_unique_id                                                          \n",
       "0000366f3b9a7992bf8c76cfdf3221e2 -46.830140  morning               141.90   \n",
       "0000b849f77a49e4a4ce2b2a4ca5be3f -46.787626  morning                27.19   \n",
       "0000f46a3911fa3c0805444483337064 -48.633426  evening                86.22   \n",
       "0000f6ccb0745a6a4b88665a16c9f078 -48.483159  evening                43.62   \n",
       "0004aac84e0df4da2b147fca70cf8255 -47.469705  evening               196.89   \n",
       "\n",
       "                                  mean_installment favorite_payment  \\\n",
       "customer_unique_id                                                    \n",
       "0000366f3b9a7992bf8c76cfdf3221e2           17.7375      credit_card   \n",
       "0000b849f77a49e4a4ce2b2a4ca5be3f           27.1900      credit_card   \n",
       "0000f46a3911fa3c0805444483337064           10.7775      credit_card   \n",
       "0000f6ccb0745a6a4b88665a16c9f078           10.9050      credit_card   \n",
       "0004aac84e0df4da2b147fca70cf8255           32.8150      credit_card   \n",
       "\n",
       "                                  ratio_freight  product_id  \\\n",
       "customer_unique_id                                            \n",
       "0000366f3b9a7992bf8c76cfdf3221e2       0.084567         1.0   \n",
       "0000b849f77a49e4a4ce2b2a4ca5be3f       0.304892         1.0   \n",
       "0000f46a3911fa3c0805444483337064       0.199722         1.0   \n",
       "0000f6ccb0745a6a4b88665a16c9f078       0.404172         1.0   \n",
       "0004aac84e0df4da2b147fca70cf8255       0.085784         1.0   \n",
       "\n",
       "                                                         seller_id  \\\n",
       "customer_unique_id                                                   \n",
       "0000366f3b9a7992bf8c76cfdf3221e2  da8622b14eb17ae2831f4ac5b9dab84a   \n",
       "0000b849f77a49e4a4ce2b2a4ca5be3f  138dbe45fc62f1e244378131a6801526   \n",
       "0000f46a3911fa3c0805444483337064  3d871de0142ce09b7081e2b9d1733cb1   \n",
       "0000f6ccb0745a6a4b88665a16c9f078  ef506c96320abeedfb894c34db06f478   \n",
       "0004aac84e0df4da2b147fca70cf8255  70a12e78e608ac31179aea7f8422044b   \n",
       "\n",
       "                                  nb_of_category product_category_name  \\\n",
       "customer_unique_id                                                       \n",
       "0000366f3b9a7992bf8c76cfdf3221e2               1       cama_mesa_banho   \n",
       "0000b849f77a49e4a4ce2b2a4ca5be3f               1          beleza_saude   \n",
       "0000f46a3911fa3c0805444483337064               1             papelaria   \n",
       "0000f6ccb0745a6a4b88665a16c9f078               1             telefonia   \n",
       "0004aac84e0df4da2b147fca70cf8255               1             telefonia   \n",
       "\n",
       "                                  review_score      ecology  last_order_d  \\\n",
       "customer_unique_id                                                          \n",
       "0000366f3b9a7992bf8c76cfdf3221e2           5.0  1569.867304           937   \n",
       "0000b849f77a49e4a4ce2b2a4ca5be3f           4.0    80.771515           940   \n",
       "0000f46a3911fa3c0805444483337064           3.0  7076.706450          1363   \n",
       "0000f6ccb0745a6a4b88665a16c9f078           4.0  3348.014775          1147   \n",
       "0004aac84e0df4da2b147fca70cf8255           5.0  9144.827324          1114   \n",
       "\n",
       "                                  fréquency  \n",
       "customer_unique_id                           \n",
       "0000366f3b9a7992bf8c76cfdf3221e2   0.001067  \n",
       "0000b849f77a49e4a4ce2b2a4ca5be3f   0.001064  \n",
       "0000f46a3911fa3c0805444483337064   0.000734  \n",
       "0000f6ccb0745a6a4b88665a16c9f078   0.000872  \n",
       "0004aac84e0df4da2b147fca70cf8255   0.000898  "
      ]
     },
     "execution_count": 149,
     "metadata": {},
     "output_type": "execute_result"
    }
   ],
   "source": [
    "data.head()"
   ]
  },
  {
   "cell_type": "code",
   "execution_count": 150,
   "metadata": {},
   "outputs": [
    {
     "data": {
      "text/plain": [
       "Index(['number_of_orders', 'state', 'Latitude', 'Longitude', 'period',\n",
       "       'total_payment_value', 'mean_installment', 'favorite_payment',\n",
       "       'ratio_freight', 'product_id', 'seller_id', 'nb_of_category',\n",
       "       'product_category_name', 'review_score', 'ecology', 'last_order_d',\n",
       "       'fréquency'],\n",
       "      dtype='object')"
      ]
     },
     "execution_count": 150,
     "metadata": {},
     "output_type": "execute_result"
    }
   ],
   "source": [
    "data.columns"
   ]
  },
  {
   "cell_type": "code",
   "execution_count": 151,
   "metadata": {},
   "outputs": [],
   "source": [
    "data.columns=['total_number_of_orders', 'state', 'Latitude', 'Longitude',\n",
    "       'favorite_period', 'total_payment_value', 'mean_installment',\n",
    "       'favorite_payment_type', 'mean_ratio_freight', 'items_per_order',\n",
    "       'favorite_seller_id', 'nb_of_category', 'favorite_category',\n",
    "       'mean_review_score', 'ecology', 'days_since_last_order',\n",
    "       'procurement_fréquency']"
   ]
  },
  {
   "cell_type": "code",
   "execution_count": 162,
   "metadata": {},
   "outputs": [
    {
     "data": {
      "text/html": [
       "<div>\n",
       "<style scoped>\n",
       "    .dataframe tbody tr th:only-of-type {\n",
       "        vertical-align: middle;\n",
       "    }\n",
       "\n",
       "    .dataframe tbody tr th {\n",
       "        vertical-align: top;\n",
       "    }\n",
       "\n",
       "    .dataframe thead th {\n",
       "        text-align: right;\n",
       "    }\n",
       "</style>\n",
       "<table border=\"1\" class=\"dataframe\">\n",
       "  <thead>\n",
       "    <tr style=\"text-align: right;\">\n",
       "      <th></th>\n",
       "      <th>total_number_of_orders</th>\n",
       "      <th>state</th>\n",
       "      <th>Latitude</th>\n",
       "      <th>Longitude</th>\n",
       "      <th>favorite_period</th>\n",
       "      <th>total_payment_value</th>\n",
       "      <th>mean_installment</th>\n",
       "      <th>favorite_payment_type</th>\n",
       "      <th>mean_ratio_freight</th>\n",
       "      <th>items_per_order</th>\n",
       "      <th>favorite_seller_id</th>\n",
       "      <th>nb_of_category</th>\n",
       "      <th>favorite_category</th>\n",
       "      <th>mean_review_score</th>\n",
       "      <th>ecology</th>\n",
       "      <th>days_since_last_order</th>\n",
       "      <th>procurement_fréquency</th>\n",
       "    </tr>\n",
       "    <tr>\n",
       "      <th>customer_unique_id</th>\n",
       "      <th></th>\n",
       "      <th></th>\n",
       "      <th></th>\n",
       "      <th></th>\n",
       "      <th></th>\n",
       "      <th></th>\n",
       "      <th></th>\n",
       "      <th></th>\n",
       "      <th></th>\n",
       "      <th></th>\n",
       "      <th></th>\n",
       "      <th></th>\n",
       "      <th></th>\n",
       "      <th></th>\n",
       "      <th></th>\n",
       "      <th></th>\n",
       "      <th></th>\n",
       "    </tr>\n",
       "  </thead>\n",
       "  <tbody>\n",
       "    <tr>\n",
       "      <th>0000366f3b9a7992bf8c76cfdf3221e2</th>\n",
       "      <td>1.0</td>\n",
       "      <td>SP</td>\n",
       "      <td>-23.340235</td>\n",
       "      <td>-46.830140</td>\n",
       "      <td>morning</td>\n",
       "      <td>141.90</td>\n",
       "      <td>17.7375</td>\n",
       "      <td>credit_card</td>\n",
       "      <td>0.084567</td>\n",
       "      <td>1.0</td>\n",
       "      <td>da8622b14eb17ae2831f4ac5b9dab84a</td>\n",
       "      <td>1</td>\n",
       "      <td>cama_mesa_banho</td>\n",
       "      <td>5.0</td>\n",
       "      <td>1569.867304</td>\n",
       "      <td>937</td>\n",
       "      <td>0.001067</td>\n",
       "    </tr>\n",
       "    <tr>\n",
       "      <th>0000b849f77a49e4a4ce2b2a4ca5be3f</th>\n",
       "      <td>1.0</td>\n",
       "      <td>SP</td>\n",
       "      <td>-23.559115</td>\n",
       "      <td>-46.787626</td>\n",
       "      <td>morning</td>\n",
       "      <td>27.19</td>\n",
       "      <td>27.1900</td>\n",
       "      <td>credit_card</td>\n",
       "      <td>0.304892</td>\n",
       "      <td>1.0</td>\n",
       "      <td>138dbe45fc62f1e244378131a6801526</td>\n",
       "      <td>1</td>\n",
       "      <td>beleza_saude</td>\n",
       "      <td>4.0</td>\n",
       "      <td>80.771515</td>\n",
       "      <td>940</td>\n",
       "      <td>0.001064</td>\n",
       "    </tr>\n",
       "  </tbody>\n",
       "</table>\n",
       "</div>"
      ],
      "text/plain": [
       "                                  total_number_of_orders state   Latitude  \\\n",
       "customer_unique_id                                                          \n",
       "0000366f3b9a7992bf8c76cfdf3221e2                     1.0    SP -23.340235   \n",
       "0000b849f77a49e4a4ce2b2a4ca5be3f                     1.0    SP -23.559115   \n",
       "\n",
       "                                  Longitude favorite_period  \\\n",
       "customer_unique_id                                            \n",
       "0000366f3b9a7992bf8c76cfdf3221e2 -46.830140         morning   \n",
       "0000b849f77a49e4a4ce2b2a4ca5be3f -46.787626         morning   \n",
       "\n",
       "                                  total_payment_value  mean_installment  \\\n",
       "customer_unique_id                                                        \n",
       "0000366f3b9a7992bf8c76cfdf3221e2               141.90           17.7375   \n",
       "0000b849f77a49e4a4ce2b2a4ca5be3f                27.19           27.1900   \n",
       "\n",
       "                                 favorite_payment_type  mean_ratio_freight  \\\n",
       "customer_unique_id                                                           \n",
       "0000366f3b9a7992bf8c76cfdf3221e2           credit_card            0.084567   \n",
       "0000b849f77a49e4a4ce2b2a4ca5be3f           credit_card            0.304892   \n",
       "\n",
       "                                  items_per_order  \\\n",
       "customer_unique_id                                  \n",
       "0000366f3b9a7992bf8c76cfdf3221e2              1.0   \n",
       "0000b849f77a49e4a4ce2b2a4ca5be3f              1.0   \n",
       "\n",
       "                                                favorite_seller_id  \\\n",
       "customer_unique_id                                                   \n",
       "0000366f3b9a7992bf8c76cfdf3221e2  da8622b14eb17ae2831f4ac5b9dab84a   \n",
       "0000b849f77a49e4a4ce2b2a4ca5be3f  138dbe45fc62f1e244378131a6801526   \n",
       "\n",
       "                                  nb_of_category favorite_category  \\\n",
       "customer_unique_id                                                   \n",
       "0000366f3b9a7992bf8c76cfdf3221e2               1   cama_mesa_banho   \n",
       "0000b849f77a49e4a4ce2b2a4ca5be3f               1      beleza_saude   \n",
       "\n",
       "                                  mean_review_score      ecology  \\\n",
       "customer_unique_id                                                 \n",
       "0000366f3b9a7992bf8c76cfdf3221e2                5.0  1569.867304   \n",
       "0000b849f77a49e4a4ce2b2a4ca5be3f                4.0    80.771515   \n",
       "\n",
       "                                  days_since_last_order  procurement_fréquency  \n",
       "customer_unique_id                                                              \n",
       "0000366f3b9a7992bf8c76cfdf3221e2                    937               0.001067  \n",
       "0000b849f77a49e4a4ce2b2a4ca5be3f                    940               0.001064  "
      ]
     },
     "execution_count": 162,
     "metadata": {},
     "output_type": "execute_result"
    }
   ],
   "source": [
    "data.head(2)"
   ]
  },
  {
   "cell_type": "code",
   "execution_count": 154,
   "metadata": {},
   "outputs": [],
   "source": [
    "#On sauvegarder dans 2 fichier:\n",
    "data.to_csv('data.csv')\n",
    "data[data.total_number_of_orders>1].to_csv('data2.csv')"
   ]
  },
  {
   "cell_type": "code",
   "execution_count": null,
   "metadata": {},
   "outputs": [],
   "source": []
  }
 ],
 "metadata": {
  "kernelspec": {
   "display_name": "Python 3",
   "language": "python",
   "name": "python3"
  },
  "language_info": {
   "codemirror_mode": {
    "name": "ipython",
    "version": 3
   },
   "file_extension": ".py",
   "mimetype": "text/x-python",
   "name": "python",
   "nbconvert_exporter": "python",
   "pygments_lexer": "ipython3",
   "version": "3.8.3"
  }
 },
 "nbformat": 4,
 "nbformat_minor": 4
}
